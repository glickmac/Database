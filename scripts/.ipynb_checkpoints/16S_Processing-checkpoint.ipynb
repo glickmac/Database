{
 "cells": [
  {
   "cell_type": "code",
   "execution_count": 1,
   "metadata": {},
   "outputs": [
    {
     "data": {
      "text/plain": [
       "27670"
      ]
     },
     "execution_count": 1,
     "metadata": {},
     "output_type": "execute_result"
    }
   ],
   "source": [
    "from Bio import SeqIO\n",
    "\n",
    "fasta_sequences = SeqIO.parse(open('../data/Silva_16S/16S_Mycobacterium.fasta'),'fasta')\n",
    "names = []\n",
    "sequences = []\n",
    "for fasta in fasta_sequences:\n",
    "    name, sequence = fasta.description, str(fasta.seq)\n",
    "    names.append(name)\n",
    "    sequences.append(sequence)\n",
    "species_names = [x.split(\";\")[6] for x in names]\n",
    "len(names)"
   ]
  },
  {
   "cell_type": "code",
   "execution_count": 2,
   "metadata": {},
   "outputs": [],
   "source": [
    "lengths = []\n",
    "for item in sequences:\n",
    "    val = len(item)\n",
    "    lengths.append(val)"
   ]
  },
  {
   "cell_type": "code",
   "execution_count": 3,
   "metadata": {},
   "outputs": [
    {
     "data": {
      "text/plain": [
       "318"
      ]
     },
     "execution_count": 3,
     "metadata": {},
     "output_type": "execute_result"
    }
   ],
   "source": [
    "import pandas as pd \n",
    "df_rpoB = pd.read_excel('../Counts_of_Species.xlsx',sheetname=\"rpoB\")\n",
    "df_hsp65 = pd.read_excel('../Counts_of_Species.xlsx',sheetname=\"HSP65\")\n",
    "len(df_hsp65)"
   ]
  },
  {
   "cell_type": "code",
   "execution_count": 4,
   "metadata": {
    "collapsed": true
   },
   "outputs": [],
   "source": [
    "df_hsp65_species = list(df_hsp65['Species'])\n",
    "df_rpoB_species = list(df_rpoB['Species'])\n",
    "combined_species = df_hsp65_species+df_rpoB_species\n",
    "combined_species_set = list(set(combined_species))\n",
    "combined_species_set = map(str, combined_species_set)\n",
    "combined_species_set.append('Nocardia asteroides')"
   ]
  },
  {
   "cell_type": "code",
   "execution_count": null,
   "metadata": {
    "collapsed": true
   },
   "outputs": [],
   "source": []
  },
  {
   "cell_type": "code",
   "execution_count": 5,
   "metadata": {},
   "outputs": [
    {
     "data": {
      "text/html": [
       "<div>\n",
       "<style>\n",
       "    .dataframe thead tr:only-child th {\n",
       "        text-align: right;\n",
       "    }\n",
       "\n",
       "    .dataframe thead th {\n",
       "        text-align: left;\n",
       "    }\n",
       "\n",
       "    .dataframe tbody tr th {\n",
       "        vertical-align: top;\n",
       "    }\n",
       "</style>\n",
       "<table border=\"1\" class=\"dataframe\">\n",
       "  <thead>\n",
       "    <tr style=\"text-align: right;\">\n",
       "      <th></th>\n",
       "      <th>Species</th>\n",
       "      <th>Names</th>\n",
       "      <th>Sequence</th>\n",
       "      <th>Lengths</th>\n",
       "    </tr>\n",
       "  </thead>\n",
       "  <tbody>\n",
       "    <tr>\n",
       "      <th>2</th>\n",
       "      <td>Mycobacterium sp. SRB1151-113</td>\n",
       "      <td>AB010910.1.1479 Bacteria;Actinobacteria;Actino...</td>\n",
       "      <td>AGAGUUUGAUCCUGGCUCAGGACGAACGGUGACGGCGUGUUUAACA...</td>\n",
       "      <td>1479</td>\n",
       "    </tr>\n",
       "    <tr>\n",
       "      <th>3</th>\n",
       "      <td>Mycobacterium sp. TA27</td>\n",
       "      <td>AB028482.1.1482 Bacteria;Actinobacteria;Actino...</td>\n",
       "      <td>AGAGUUUGAUCAUGGCUCAGGACGAACGCUGGCGGCGUGCUUAACA...</td>\n",
       "      <td>1482</td>\n",
       "    </tr>\n",
       "    <tr>\n",
       "      <th>11</th>\n",
       "      <td>Mycobacterium sp. MHP-1</td>\n",
       "      <td>AB180481.1.1476 Bacteria;Actinobacteria;Actino...</td>\n",
       "      <td>AGUUUGAUCCUGGCUCAGGACGAACGCUGGCGGCGUGCUUAACACA...</td>\n",
       "      <td>1476</td>\n",
       "    </tr>\n",
       "    <tr>\n",
       "      <th>19</th>\n",
       "      <td>Mycobacterium sp. A14N</td>\n",
       "      <td>AB251601.1.1494 Bacteria;Actinobacteria;Actino...</td>\n",
       "      <td>GAGUUUGAUCCUGGCUCAGCUUAACACAUGCAAGUCGAACGGUAAG...</td>\n",
       "      <td>1494</td>\n",
       "    </tr>\n",
       "    <tr>\n",
       "      <th>22</th>\n",
       "      <td>Mycobacterium sp. NMR16-3</td>\n",
       "      <td>AB286060.1.1440 Bacteria;Actinobacteria;Actino...</td>\n",
       "      <td>CAUGCAAGUCGAACGGAAAGGCCCUUCGGGGUACUCGAGUGGCGAA...</td>\n",
       "      <td>1440</td>\n",
       "    </tr>\n",
       "  </tbody>\n",
       "</table>\n",
       "</div>"
      ],
      "text/plain": [
       "                          Species  \\\n",
       "2   Mycobacterium sp. SRB1151-113   \n",
       "3          Mycobacterium sp. TA27   \n",
       "11        Mycobacterium sp. MHP-1   \n",
       "19         Mycobacterium sp. A14N   \n",
       "22      Mycobacterium sp. NMR16-3   \n",
       "\n",
       "                                                Names  \\\n",
       "2   AB010910.1.1479 Bacteria;Actinobacteria;Actino...   \n",
       "3   AB028482.1.1482 Bacteria;Actinobacteria;Actino...   \n",
       "11  AB180481.1.1476 Bacteria;Actinobacteria;Actino...   \n",
       "19  AB251601.1.1494 Bacteria;Actinobacteria;Actino...   \n",
       "22  AB286060.1.1440 Bacteria;Actinobacteria;Actino...   \n",
       "\n",
       "                                             Sequence  Lengths  \n",
       "2   AGAGUUUGAUCCUGGCUCAGGACGAACGGUGACGGCGUGUUUAACA...     1479  \n",
       "3   AGAGUUUGAUCAUGGCUCAGGACGAACGCUGGCGGCGUGCUUAACA...     1482  \n",
       "11  AGUUUGAUCCUGGCUCAGGACGAACGCUGGCGGCGUGCUUAACACA...     1476  \n",
       "19  GAGUUUGAUCCUGGCUCAGCUUAACACAUGCAAGUCGAACGGUAAG...     1494  \n",
       "22  CAUGCAAGUCGAACGGAAAGGCCCUUCGGGGUACUCGAGUGGCGAA...     1440  "
      ]
     },
     "execution_count": 5,
     "metadata": {},
     "output_type": "execute_result"
    }
   ],
   "source": [
    "rrna_df = pd.DataFrame(species_names)\n",
    "rrna_df.columns = ['Species']\n",
    "rrna_df['Names'] = names\n",
    "rrna_df['Sequence'] = sequences\n",
    "rrna_df['Lengths'] = lengths\n",
    "rrna_df = rrna_df[rrna_df['Lengths']>1200]\n",
    "rrna_df.head()"
   ]
  },
  {
   "cell_type": "code",
   "execution_count": 6,
   "metadata": {},
   "outputs": [
    {
     "data": {
      "text/plain": [
       "5096"
      ]
     },
     "execution_count": 6,
     "metadata": {},
     "output_type": "execute_result"
    }
   ],
   "source": [
    "rrna_in_others = rrna_df[rrna_df['Species'].isin(combined_species_set)]\n",
    "len(rrna_in_others)"
   ]
  },
  {
   "cell_type": "code",
   "execution_count": 7,
   "metadata": {},
   "outputs": [
    {
     "data": {
      "text/html": [
       "<div>\n",
       "<style>\n",
       "    .dataframe thead tr:only-child th {\n",
       "        text-align: right;\n",
       "    }\n",
       "\n",
       "    .dataframe thead th {\n",
       "        text-align: left;\n",
       "    }\n",
       "\n",
       "    .dataframe tbody tr th {\n",
       "        vertical-align: top;\n",
       "    }\n",
       "</style>\n",
       "<table border=\"1\" class=\"dataframe\">\n",
       "  <thead>\n",
       "    <tr style=\"text-align: right;\">\n",
       "      <th></th>\n",
       "      <th>Abundance</th>\n",
       "    </tr>\n",
       "    <tr>\n",
       "      <th>Species</th>\n",
       "      <th></th>\n",
       "    </tr>\n",
       "  </thead>\n",
       "  <tbody>\n",
       "    <tr>\n",
       "      <th>Mycobacterium aemonae</th>\n",
       "      <td>1</td>\n",
       "    </tr>\n",
       "    <tr>\n",
       "      <th>Mycobacterium africanum</th>\n",
       "      <td>10</td>\n",
       "    </tr>\n",
       "    <tr>\n",
       "      <th>Mycobacterium agri</th>\n",
       "      <td>1</td>\n",
       "    </tr>\n",
       "    <tr>\n",
       "      <th>Mycobacterium aichiense</th>\n",
       "      <td>2</td>\n",
       "    </tr>\n",
       "    <tr>\n",
       "      <th>Mycobacterium alsense</th>\n",
       "      <td>8</td>\n",
       "    </tr>\n",
       "  </tbody>\n",
       "</table>\n",
       "</div>"
      ],
      "text/plain": [
       "                         Abundance\n",
       "Species                           \n",
       "Mycobacterium aemonae            1\n",
       "Mycobacterium africanum         10\n",
       "Mycobacterium agri               1\n",
       "Mycobacterium aichiense          2\n",
       "Mycobacterium alsense            8"
      ]
     },
     "execution_count": 7,
     "metadata": {},
     "output_type": "execute_result"
    }
   ],
   "source": [
    "## Count Abundance of Culture Codes\n",
    "df4 = rrna_in_others[['Species', 'Sequence']].groupby('Species').count()\n",
    "df4.columns = ['Abundance']\n",
    "df4.head()"
   ]
  },
  {
   "cell_type": "code",
   "execution_count": 8,
   "metadata": {
    "collapsed": true
   },
   "outputs": [],
   "source": [
    "### Multiples with Greater than 1 record\n",
    "greater = df4[df4['Abundance'] > 1]\n",
    "greater = list(greater.index)"
   ]
  },
  {
   "cell_type": "code",
   "execution_count": null,
   "metadata": {},
   "outputs": [],
   "source": []
  },
  {
   "cell_type": "code",
   "execution_count": 9,
   "metadata": {},
   "outputs": [
    {
     "data": {
      "text/html": [
       "<div>\n",
       "<style>\n",
       "    .dataframe thead tr:only-child th {\n",
       "        text-align: right;\n",
       "    }\n",
       "\n",
       "    .dataframe thead th {\n",
       "        text-align: left;\n",
       "    }\n",
       "\n",
       "    .dataframe tbody tr th {\n",
       "        vertical-align: top;\n",
       "    }\n",
       "</style>\n",
       "<table border=\"1\" class=\"dataframe\">\n",
       "  <thead>\n",
       "    <tr style=\"text-align: right;\">\n",
       "      <th></th>\n",
       "      <th>Species</th>\n",
       "      <th>Names</th>\n",
       "      <th>Sequence</th>\n",
       "      <th>Lengths</th>\n",
       "    </tr>\n",
       "  </thead>\n",
       "  <tbody>\n",
       "    <tr>\n",
       "      <th>23</th>\n",
       "      <td>Mycobacterium marinum</td>\n",
       "      <td>AB291543.1.1401 Bacteria;Actinobacteria;Actino...</td>\n",
       "      <td>CAUGCAAGUCGAACGGAAAGGUCUCUUCGGAGACACUCGAGUGGCG...</td>\n",
       "      <td>1401</td>\n",
       "    </tr>\n",
       "    <tr>\n",
       "      <th>28</th>\n",
       "      <td>Mycobacterium lentiflavum</td>\n",
       "      <td>AB362381.1.1471 Bacteria;Actinobacteria;Actino...</td>\n",
       "      <td>GACGAACGCUGGCGGCGUGCUUAACACAUGCAAGUCGAACGGAAAG...</td>\n",
       "      <td>1471</td>\n",
       "    </tr>\n",
       "    <tr>\n",
       "      <th>30</th>\n",
       "      <td>Mycobacterium kyorinense</td>\n",
       "      <td>AB370111.1.1470 Bacteria;Actinobacteria;Actino...</td>\n",
       "      <td>AGGACGAACGCUGGCGGCGUGCUUAACACAUGCAAGUCGAACGGAA...</td>\n",
       "      <td>1470</td>\n",
       "    </tr>\n",
       "    <tr>\n",
       "      <th>31</th>\n",
       "      <td>Mycobacterium kyorinense</td>\n",
       "      <td>AB370169.1.1462 Bacteria;Actinobacteria;Actino...</td>\n",
       "      <td>AGGACGAACGCUGGCGGCGUGCUUAACACAUGCAAGUCGAACGGAA...</td>\n",
       "      <td>1462</td>\n",
       "    </tr>\n",
       "    <tr>\n",
       "      <th>38</th>\n",
       "      <td>Mycobacterium gilvum</td>\n",
       "      <td>AB491971.1.1374 Bacteria;Actinobacteria;Actino...</td>\n",
       "      <td>AGAGUUUGAUCCUGGCUCAGGACGAACGCUGGCGGCGUGCUUAACA...</td>\n",
       "      <td>1374</td>\n",
       "    </tr>\n",
       "  </tbody>\n",
       "</table>\n",
       "</div>"
      ],
      "text/plain": [
       "                      Species  \\\n",
       "23      Mycobacterium marinum   \n",
       "28  Mycobacterium lentiflavum   \n",
       "30   Mycobacterium kyorinense   \n",
       "31   Mycobacterium kyorinense   \n",
       "38       Mycobacterium gilvum   \n",
       "\n",
       "                                                Names  \\\n",
       "23  AB291543.1.1401 Bacteria;Actinobacteria;Actino...   \n",
       "28  AB362381.1.1471 Bacteria;Actinobacteria;Actino...   \n",
       "30  AB370111.1.1470 Bacteria;Actinobacteria;Actino...   \n",
       "31  AB370169.1.1462 Bacteria;Actinobacteria;Actino...   \n",
       "38  AB491971.1.1374 Bacteria;Actinobacteria;Actino...   \n",
       "\n",
       "                                             Sequence  Lengths  \n",
       "23  CAUGCAAGUCGAACGGAAAGGUCUCUUCGGAGACACUCGAGUGGCG...     1401  \n",
       "28  GACGAACGCUGGCGGCGUGCUUAACACAUGCAAGUCGAACGGAAAG...     1471  \n",
       "30  AGGACGAACGCUGGCGGCGUGCUUAACACAUGCAAGUCGAACGGAA...     1470  \n",
       "31  AGGACGAACGCUGGCGGCGUGCUUAACACAUGCAAGUCGAACGGAA...     1462  \n",
       "38  AGAGUUUGAUCCUGGCUCAGGACGAACGCUGGCGGCGUGCUUAACA...     1374  "
      ]
     },
     "execution_count": 9,
     "metadata": {},
     "output_type": "execute_result"
    }
   ],
   "source": [
    "## Greater than one\n",
    "import random\n",
    "my_acc = []\n",
    "greatera = rrna_df[rrna_df['Species'].isin(greater)]\n",
    "greatera.head()"
   ]
  },
  {
   "cell_type": "code",
   "execution_count": 10,
   "metadata": {
    "collapsed": true
   },
   "outputs": [],
   "source": [
    "for name, group in greatera.groupby('Species'):\n",
    "    my_list = list(group['Names'])\n",
    "    one = random.sample(my_list,1)\n",
    "    my_acc.append(one)\n",
    "    \n",
    "### Multiples with 1 record\n",
    "ones = df4[df4['Abundance'] == 1]\n",
    "ones = list(ones.index)\n",
    "ehod = rrna_in_others[rrna_in_others['Species'].isin(ones)]\n",
    "acc = list(ehod['Names'])"
   ]
  },
  {
   "cell_type": "code",
   "execution_count": 11,
   "metadata": {},
   "outputs": [
    {
     "data": {
      "text/plain": [
       "158"
      ]
     },
     "execution_count": 11,
     "metadata": {},
     "output_type": "execute_result"
    }
   ],
   "source": [
    "my_acc = [item for sublist in my_acc for item in sublist]\n",
    "len(my_acc)"
   ]
  },
  {
   "cell_type": "code",
   "execution_count": 12,
   "metadata": {
    "collapsed": true
   },
   "outputs": [],
   "source": [
    "acc_to_keep = acc+my_acc\n",
    "\n",
    "final_df = rrna_in_others[rrna_in_others['Names'].isin(acc_to_keep)]"
   ]
  },
  {
   "cell_type": "code",
   "execution_count": 13,
   "metadata": {
    "collapsed": true
   },
   "outputs": [],
   "source": [
    "Headers = list(final_df['Species'])\n",
    "Sequenced = list(final_df['Sequence'])"
   ]
  },
  {
   "cell_type": "code",
   "execution_count": 14,
   "metadata": {
    "collapsed": true
   },
   "outputs": [],
   "source": [
    "import re\n",
    "reverse_translated = []\n",
    "headers = []\n",
    "for item in Sequenced:\n",
    "    item2 = re.sub('U', 'T', item)\n",
    "    reverse_translated.append(item2)\n",
    "\n",
    "for item in Headers:\n",
    "    item2 = re.sub(' ', '_', item)\n",
    "    headers.append(item2)\n",
    "    "
   ]
  },
  {
   "cell_type": "code",
   "execution_count": 16,
   "metadata": {
    "collapsed": true
   },
   "outputs": [],
   "source": [
    "ofile = open(\"16S_Edited.fasta\", \"w\")\n",
    "for i in range(len(headers)):\n",
    "    ofile.write(\">\" + headers[i] + \"\\n\" +reverse_translated[i] + \"\\n\")\n",
    "\n",
    "ofile.close()"
   ]
  },
  {
   "cell_type": "code",
   "execution_count": 15,
   "metadata": {},
   "outputs": [
    {
     "data": {
      "text/plain": [
       "186"
      ]
     },
     "execution_count": 15,
     "metadata": {},
     "output_type": "execute_result"
    }
   ],
   "source": []
  },
  {
   "cell_type": "code",
   "execution_count": null,
   "metadata": {
    "collapsed": true
   },
   "outputs": [],
   "source": []
  }
 ],
 "metadata": {
  "kernelspec": {
   "display_name": "Python 2",
   "language": "python",
   "name": "python2"
  },
  "language_info": {
   "codemirror_mode": {
    "name": "ipython",
    "version": 2
   },
   "file_extension": ".py",
   "mimetype": "text/x-python",
   "name": "python",
   "nbconvert_exporter": "python",
   "pygments_lexer": "ipython2",
   "version": "2.7.14"
  },
  "toc": {
   "base_numbering": 1,
   "nav_menu": {},
   "number_sections": true,
   "sideBar": true,
   "skip_h1_title": false,
   "title_cell": "Table of Contents",
   "title_sidebar": "Contents",
   "toc_cell": false,
   "toc_position": {},
   "toc_section_display": true,
   "toc_window_display": false
  }
 },
 "nbformat": 4,
 "nbformat_minor": 2
}
