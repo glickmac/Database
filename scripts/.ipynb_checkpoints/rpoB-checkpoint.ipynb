{
 "cells": [
  {
   "cell_type": "markdown",
   "metadata": {
    "heading_collapsed": true
   },
   "source": [
    "### Generate rpoB Database"
   ]
  },
  {
   "cell_type": "code",
   "execution_count": 80,
   "metadata": {
    "hidden": true
   },
   "outputs": [
    {
     "data": {
      "text/plain": [
       "1590"
      ]
     },
     "execution_count": 80,
     "metadata": {},
     "output_type": "execute_result"
    }
   ],
   "source": [
    "import pandas as pd \n",
    "import numpy as np \n",
    "from Bio import SeqIO\n",
    "import random\n",
    "df = pd.read_table('../data/rpoB/nuccore_result_table.txt')\n",
    "df.head()\n",
    "random.seed(10)\n",
    "\n",
    "\n",
    "### Remove Unaligned Species \n",
    "unaligned = [\"AF060365.1\",\"JQ314438.1\",\"MF145297.1\",\"GU362494.1\",\"GU362473.1\", \"AF060364.1\", \"GU362478.1\",\"AF060363.1\",\"AF060361.1\",\"GU362487.1\",\"AF060355.1\",\"MF471868.1\"\n",
    "        , \"AF060362.1\", \"AF060359.1\",\"AF060356.1\",\"DQ985207.1\", \"DQ985218.1\", \"KF224998.1\" ]\n",
    "df = df[~df['Accession'].isin(unaligned)]\n",
    "\n",
    "\n",
    "\n",
    "## Filter for Culture Codes\n",
    "cultures = df['Accession'].str.contains('AF0603|MF1452|DQ9852|GU3624|KF2249|MG9950|JN3153|JQ3144|KJ6837')\n",
    "df = df[~cultures]\n",
    "len(df)"
   ]
  },
  {
   "cell_type": "code",
   "execution_count": 81,
   "metadata": {
    "hidden": true
   },
   "outputs": [
    {
     "data": {
      "text/plain": [
       "1507"
      ]
     },
     "execution_count": 81,
     "metadata": {},
     "output_type": "execute_result"
    }
   ],
   "source": [
    "### Remove Unverified and unclassified Bacteria\n",
    "list_names = df['Name']\n",
    "g = [x.split(' ',2)[0] for x in list_names]\n",
    "matching = [s == \"Mycobacterium\" for s in g]\n",
    "df_filtered = df[matching]\n",
    "len(df_filtered)"
   ]
  },
  {
   "cell_type": "code",
   "execution_count": 82,
   "metadata": {
    "hidden": true
   },
   "outputs": [
    {
     "data": {
      "text/plain": [
       "1342"
      ]
     },
     "execution_count": 82,
     "metadata": {},
     "output_type": "execute_result"
    }
   ],
   "source": [
    "list_names = df_filtered['Name']\n",
    "g = [x.split(' ',2)[1] for x in list_names]\n",
    "matching = [s != \"sp.\" for s in g]\n",
    "df_filtered = df_filtered[matching]\n",
    "len(df_filtered)"
   ]
  },
  {
   "cell_type": "code",
   "execution_count": 83,
   "metadata": {
    "hidden": true
   },
   "outputs": [
    {
     "data": {
      "text/plain": [
       "1219"
      ]
     },
     "execution_count": 83,
     "metadata": {},
     "output_type": "execute_result"
    }
   ],
   "source": [
    "list_names = df_filtered['Name']\n",
    "g = [x.split(' ',2)[1] for x in list_names]\n",
    "matching = [s != \"massiliense\" for s in g]\n",
    "df_filtered = df_filtered[matching]\n",
    "len(df_filtered)"
   ]
  },
  {
   "cell_type": "code",
   "execution_count": 84,
   "metadata": {
    "collapsed": true,
    "hidden": true
   },
   "outputs": [],
   "source": [
    "### Split String Name\n",
    "list_names = df_filtered['Name']\n",
    "g = [x.split(' ',2)[0] for x in list_names]\n",
    "s = [x.split(' ',2)[1] for x in list_names]\n",
    "y = list(zip(g,s))\n",
    "y = [list(x) for x in y]\n",
    "z = [' '.join(x) for x in y]"
   ]
  },
  {
   "cell_type": "code",
   "execution_count": 85,
   "metadata": {
    "hidden": true
   },
   "outputs": [
    {
     "data": {
      "text/html": [
       "<div>\n",
       "<style>\n",
       "    .dataframe thead tr:only-child th {\n",
       "        text-align: right;\n",
       "    }\n",
       "\n",
       "    .dataframe thead th {\n",
       "        text-align: left;\n",
       "    }\n",
       "\n",
       "    .dataframe tbody tr th {\n",
       "        vertical-align: top;\n",
       "    }\n",
       "</style>\n",
       "<table border=\"1\" class=\"dataframe\">\n",
       "  <thead>\n",
       "    <tr style=\"text-align: right;\">\n",
       "      <th></th>\n",
       "      <th>Name</th>\n",
       "      <th>Length</th>\n",
       "      <th>Accession</th>\n",
       "      <th>GI</th>\n",
       "      <th>Species</th>\n",
       "    </tr>\n",
       "  </thead>\n",
       "  <tbody>\n",
       "    <tr>\n",
       "      <th>0</th>\n",
       "      <td>Mycobacterium bouchedurhonense strain 4355387 ...</td>\n",
       "      <td>711</td>\n",
       "      <td>EF584445.1</td>\n",
       "      <td>157851024</td>\n",
       "      <td>Mycobacterium bouchedurhonense</td>\n",
       "    </tr>\n",
       "    <tr>\n",
       "      <th>1</th>\n",
       "      <td>Mycobacterium marseillense strain 5356591 RpoB</td>\n",
       "      <td>711</td>\n",
       "      <td>EF584434.1</td>\n",
       "      <td>157851003</td>\n",
       "      <td>Mycobacterium marseillense</td>\n",
       "    </tr>\n",
       "    <tr>\n",
       "      <th>2</th>\n",
       "      <td>Mycobacterium bacteremicum strain ATCC 25791</td>\n",
       "      <td>638</td>\n",
       "      <td>FJ172329.1</td>\n",
       "      <td>207690910</td>\n",
       "      <td>Mycobacterium bacteremicum</td>\n",
       "    </tr>\n",
       "    <tr>\n",
       "      <th>3</th>\n",
       "      <td>Mycobacterium marseillense strain 62863 RpoB</td>\n",
       "      <td>711</td>\n",
       "      <td>EF584444.1</td>\n",
       "      <td>167540464</td>\n",
       "      <td>Mycobacterium marseillense</td>\n",
       "    </tr>\n",
       "    <tr>\n",
       "      <th>4</th>\n",
       "      <td>Mycobacterium timonense strain 3256799 RpoB</td>\n",
       "      <td>711</td>\n",
       "      <td>EF584435.1</td>\n",
       "      <td>157851005</td>\n",
       "      <td>Mycobacterium timonense</td>\n",
       "    </tr>\n",
       "  </tbody>\n",
       "</table>\n",
       "</div>"
      ],
      "text/plain": [
       "                                                Name  Length   Accession  \\\n",
       "0  Mycobacterium bouchedurhonense strain 4355387 ...     711  EF584445.1   \n",
       "1     Mycobacterium marseillense strain 5356591 RpoB     711  EF584434.1   \n",
       "2       Mycobacterium bacteremicum strain ATCC 25791     638  FJ172329.1   \n",
       "3       Mycobacterium marseillense strain 62863 RpoB     711  EF584444.1   \n",
       "4        Mycobacterium timonense strain 3256799 RpoB     711  EF584435.1   \n",
       "\n",
       "          GI                         Species  \n",
       "0  157851024  Mycobacterium bouchedurhonense  \n",
       "1  157851003      Mycobacterium marseillense  \n",
       "2  207690910      Mycobacterium bacteremicum  \n",
       "3  167540464      Mycobacterium marseillense  \n",
       "4  157851005         Mycobacterium timonense  "
      ]
     },
     "execution_count": 85,
     "metadata": {},
     "output_type": "execute_result"
    }
   ],
   "source": [
    "df_filtered['Species'] = z\n",
    "df_filtered.head()"
   ]
  },
  {
   "cell_type": "code",
   "execution_count": 86,
   "metadata": {
    "hidden": true
   },
   "outputs": [
    {
     "data": {
      "text/plain": [
       "136"
      ]
     },
     "execution_count": 86,
     "metadata": {},
     "output_type": "execute_result"
    }
   ],
   "source": [
    "df2 = df_filtered[['Name','Species']].groupby('Species').agg(['count'])\n",
    "df2.columns = ['Abundance']\n",
    "len(df2)"
   ]
  },
  {
   "cell_type": "code",
   "execution_count": 87,
   "metadata": {
    "collapsed": true,
    "hidden": true
   },
   "outputs": [],
   "source": [
    "bool1 = df_filtered['Name'].str.contains('ATCC')\n",
    "bool2 = df_filtered['Name'].str.contains('DSM')\n",
    "bool3 = df_filtered['Name'].str.contains('CCUG')\n",
    "bool4 = df_filtered['Name'].str.contains('ASIN')\n",
    "bool5 = df_filtered['Name'].str.contains('QIA')\n",
    "bool6 = df_filtered['Name'].str.contains('GTC')\n",
    "\n",
    "df_filtered['Cultures'] = bool1|bool2|bool3|bool4|bool5|bool6\n",
    "df_filtered['Cultures'] = df_filtered['Cultures'].astype(int)"
   ]
  },
  {
   "cell_type": "code",
   "execution_count": 88,
   "metadata": {
    "collapsed": true,
    "hidden": true
   },
   "outputs": [],
   "source": [
    "df2_s = df2[df2['Abundance'] > 2]\n",
    "df2_s.head()\n",
    "test = list(df2_s.index)\n",
    "\n",
    "## Keep everything in this df\n",
    "df_auto_pick = df_filtered[~df_filtered['Species'].isin(test)]\n",
    "small_counts = list(df_auto_pick['Accession'])"
   ]
  },
  {
   "cell_type": "code",
   "execution_count": 89,
   "metadata": {
    "hidden": true
   },
   "outputs": [
    {
     "data": {
      "text/html": [
       "<div>\n",
       "<style>\n",
       "    .dataframe thead tr:only-child th {\n",
       "        text-align: right;\n",
       "    }\n",
       "\n",
       "    .dataframe thead th {\n",
       "        text-align: left;\n",
       "    }\n",
       "\n",
       "    .dataframe tbody tr th {\n",
       "        vertical-align: top;\n",
       "    }\n",
       "</style>\n",
       "<table border=\"1\" class=\"dataframe\">\n",
       "  <thead>\n",
       "    <tr style=\"text-align: right;\">\n",
       "      <th></th>\n",
       "      <th>Abundance</th>\n",
       "    </tr>\n",
       "    <tr>\n",
       "      <th>Species</th>\n",
       "      <th></th>\n",
       "    </tr>\n",
       "  </thead>\n",
       "  <tbody>\n",
       "    <tr>\n",
       "      <th>Mycobacterium abscessus</th>\n",
       "      <td>129</td>\n",
       "    </tr>\n",
       "    <tr>\n",
       "      <th>Mycobacterium alvei</th>\n",
       "      <td>12</td>\n",
       "    </tr>\n",
       "    <tr>\n",
       "      <th>Mycobacterium arceuilense</th>\n",
       "      <td>3</td>\n",
       "    </tr>\n",
       "    <tr>\n",
       "      <th>Mycobacterium arupense</th>\n",
       "      <td>20</td>\n",
       "    </tr>\n",
       "    <tr>\n",
       "      <th>Mycobacterium aurum</th>\n",
       "      <td>5</td>\n",
       "    </tr>\n",
       "  </tbody>\n",
       "</table>\n",
       "</div>"
      ],
      "text/plain": [
       "                           Abundance\n",
       "Species                             \n",
       "Mycobacterium abscessus          129\n",
       "Mycobacterium alvei               12\n",
       "Mycobacterium arceuilense          3\n",
       "Mycobacterium arupense            20\n",
       "Mycobacterium aurum                5"
      ]
     },
     "execution_count": 89,
     "metadata": {},
     "output_type": "execute_result"
    }
   ],
   "source": [
    "## Randomly select two species (Keep Cultures)\n",
    "df_mult = df_filtered[df_filtered['Species'].isin(test)]\n",
    "len(df_mult)\n",
    "\n",
    "df3 = df_mult[['Name','Species']].groupby('Species').agg(['count'])\n",
    "df3.columns = ['Abundance']\n",
    "df3.head()"
   ]
  },
  {
   "cell_type": "code",
   "execution_count": 90,
   "metadata": {
    "hidden": true
   },
   "outputs": [
    {
     "data": {
      "text/html": [
       "<div>\n",
       "<style>\n",
       "    .dataframe thead tr:only-child th {\n",
       "        text-align: right;\n",
       "    }\n",
       "\n",
       "    .dataframe thead th {\n",
       "        text-align: left;\n",
       "    }\n",
       "\n",
       "    .dataframe tbody tr th {\n",
       "        vertical-align: top;\n",
       "    }\n",
       "</style>\n",
       "<table border=\"1\" class=\"dataframe\">\n",
       "  <thead>\n",
       "    <tr style=\"text-align: right;\">\n",
       "      <th></th>\n",
       "      <th>Abundance</th>\n",
       "    </tr>\n",
       "    <tr>\n",
       "      <th>Species</th>\n",
       "      <th></th>\n",
       "    </tr>\n",
       "  </thead>\n",
       "  <tbody>\n",
       "    <tr>\n",
       "      <th>Mycobacterium abscessus</th>\n",
       "      <td>4</td>\n",
       "    </tr>\n",
       "    <tr>\n",
       "      <th>Mycobacterium alvei</th>\n",
       "      <td>0</td>\n",
       "    </tr>\n",
       "    <tr>\n",
       "      <th>Mycobacterium arceuilense</th>\n",
       "      <td>0</td>\n",
       "    </tr>\n",
       "    <tr>\n",
       "      <th>Mycobacterium arupense</th>\n",
       "      <td>1</td>\n",
       "    </tr>\n",
       "    <tr>\n",
       "      <th>Mycobacterium aurum</th>\n",
       "      <td>1</td>\n",
       "    </tr>\n",
       "  </tbody>\n",
       "</table>\n",
       "</div>"
      ],
      "text/plain": [
       "                           Abundance\n",
       "Species                             \n",
       "Mycobacterium abscessus            4\n",
       "Mycobacterium alvei                0\n",
       "Mycobacterium arceuilense          0\n",
       "Mycobacterium arupense             1\n",
       "Mycobacterium aurum                1"
      ]
     },
     "execution_count": 90,
     "metadata": {},
     "output_type": "execute_result"
    }
   ],
   "source": [
    "## Count Abundance of Culture Codes\n",
    "df4 = df_mult[['Species', 'Cultures']].groupby('Species').sum()\n",
    "df4.columns = ['Abundance']\n",
    "df4.head()"
   ]
  },
  {
   "cell_type": "code",
   "execution_count": 91,
   "metadata": {
    "collapsed": true,
    "hidden": true
   },
   "outputs": [],
   "source": [
    "### Multiples with 0\n",
    "zeros = df4[df4['Abundance'] < 1]\n",
    "zeros = list(zeros.index)\n",
    "\n",
    "\n",
    "### Multiples with 1\n",
    "ones = df4[df4['Abundance'] == 1]\n",
    "ones = list(ones.index)\n",
    "\n",
    "\n",
    "### Multiples with 2\n",
    "twos = df4[df4['Abundance'] == 2]\n",
    "twos = list(twos.index)\n",
    "\n",
    "### Multiples with Greater than 2\n",
    "greater = df4[df4['Abundance'] > 2]\n",
    "greater = list(greater.index)"
   ]
  },
  {
   "cell_type": "code",
   "execution_count": 92,
   "metadata": {
    "collapsed": true,
    "hidden": true
   },
   "outputs": [],
   "source": [
    "## Select Accession of Organism with two cultures \n",
    "twos_A = df_mult[df_mult['Species'].isin(twos)]\n",
    "twos_A = twos_A[twos_A['Cultures'] == 1]\n",
    "twos_A = list(twos_A['Accession'])\n",
    "twos_list = twos_A"
   ]
  },
  {
   "cell_type": "code",
   "execution_count": 93,
   "metadata": {
    "hidden": true
   },
   "outputs": [
    {
     "data": {
      "text/plain": [
       "24"
      ]
     },
     "execution_count": 93,
     "metadata": {},
     "output_type": "execute_result"
    }
   ],
   "source": [
    "## Greater than twos\n",
    "import random\n",
    "my_acc = []\n",
    "greatera = df_mult[df_mult['Species'].isin(greater)]\n",
    "greatera = greatera[greatera['Cultures'] == 1]\n",
    "for name, group in greatera.groupby('Species'):\n",
    "    my_list = list(group['Accession'])\n",
    "    one, two = random.sample(my_list,2)\n",
    "    my_acc.append(one)\n",
    "    my_acc.append(two)\n",
    "   \n",
    "greater_list = my_acc\n",
    "len(greater_list)"
   ]
  },
  {
   "cell_type": "code",
   "execution_count": 94,
   "metadata": {
    "collapsed": true,
    "hidden": true
   },
   "outputs": [],
   "source": [
    "## Ones\n",
    "my_ones = []\n",
    "onesa = df_filtered[df_filtered['Species'].isin(ones)]\n",
    "onesa_1 = onesa[onesa['Cultures'] == 1]\n",
    "onesa_1 = list(onesa_1['Accession'])\n",
    "onesa = onesa[onesa['Cultures'] == 0]\n",
    "for name, group in onesa.groupby('Species'):\n",
    "    my_list = list(group['Accession'])\n",
    "    one = random.sample(my_list, 1)\n",
    "    my_ones.append(one)\n",
    "\n",
    "my_ones = [item for sublist in my_ones for item in sublist]\n",
    "ones_list = my_ones+onesa_1"
   ]
  },
  {
   "cell_type": "code",
   "execution_count": 95,
   "metadata": {
    "hidden": true
   },
   "outputs": [
    {
     "data": {
      "text/plain": [
       "54"
      ]
     },
     "execution_count": 95,
     "metadata": {},
     "output_type": "execute_result"
    }
   ],
   "source": [
    "## Zeros\n",
    "my_zeros = []\n",
    "zeroa = df_mult[df_mult['Species'].isin(zeros)]\n",
    "zeroa = zeroa[zeroa['Cultures'] == 0]\n",
    "for name, group in zeroa.groupby('Species'):\n",
    "    my_list = list(group['Accession'])\n",
    "    one, two = random.sample(my_list,2)\n",
    "    my_zeros.append(one)\n",
    "    my_zeros.append(two)\n",
    "    \n",
    "zeros_list = my_zeros\n",
    "len(zeros_list)"
   ]
  },
  {
   "cell_type": "code",
   "execution_count": 96,
   "metadata": {
    "hidden": true
   },
   "outputs": [
    {
     "data": {
      "text/plain": [
       "224"
      ]
     },
     "execution_count": 96,
     "metadata": {},
     "output_type": "execute_result"
    }
   ],
   "source": [
    "## Combine all Accessions\n",
    "Combined_Accessions = zeros_list + ones_list + twos_list + greater_list + small_counts\n",
    "df5 = df_filtered[df_filtered['Accession'].isin(Combined_Accessions)]\n",
    "len(df5)"
   ]
  },
  {
   "cell_type": "code",
   "execution_count": 97,
   "metadata": {
    "collapsed": true,
    "hidden": true
   },
   "outputs": [],
   "source": [
    "writer = pd.ExcelWriter('Counts_of_Species.xlsx')\n",
    "df5.to_excel(writer, \"Sheet2\")\n",
    "writer.save()"
   ]
  },
  {
   "cell_type": "code",
   "execution_count": 98,
   "metadata": {
    "collapsed": true,
    "hidden": true
   },
   "outputs": [],
   "source": [
    "from Bio import SeqIO\n",
    "\n",
    "with open('../rpoB.fasta', 'w') as out_file:\n",
    "    for fasta in SeqIO.parse('../data/rpoB/sequence.fasta','fasta'):\n",
    "        name, sequence = fasta.id, fasta.seq\n",
    "        if name in Combined_Accessions:\n",
    "            SeqIO.write(fasta, out_file, 'fasta')"
   ]
  },
  {
   "cell_type": "code",
   "execution_count": null,
   "metadata": {
    "collapsed": true,
    "hidden": true
   },
   "outputs": [],
   "source": []
  },
  {
   "cell_type": "markdown",
   "metadata": {},
   "source": [
    "### Check Accession Overlap"
   ]
  },
  {
   "cell_type": "code",
   "execution_count": 1,
   "metadata": {
    "collapsed": true
   },
   "outputs": [],
   "source": [
    "from Bio import SeqIO\n",
    "from collections import defaultdict\n",
    "records=list(SeqIO.parse(\"../Databases/rpoB/rpob_region.fasta\", \"fasta\"))"
   ]
  },
  {
   "cell_type": "code",
   "execution_count": 2,
   "metadata": {},
   "outputs": [
    {
     "name": "stderr",
     "output_type": "stream",
     "text": [
      "/Users/stronglab2/anaconda2/lib/python2.7/site-packages/Bio/Seq.py:155: BiopythonWarning: Biopython Seq objects now use string comparison. Older versions of Biopython used object comparison. During this transition, please use hash(id(my_seq)) or my_dict[id(my_seq)] if you want the old behaviour, or use hash(str(my_seq)) or my_dict[str(my_seq)] for the new string hashing behaviour.\n",
      "  \"the new string hashing behaviour.\", BiopythonWarning)\n"
     ]
    },
    {
     "data": {
      "text/plain": [
       "197"
      ]
     },
     "execution_count": 2,
     "metadata": {},
     "output_type": "execute_result"
    }
   ],
   "source": [
    "from collections import OrderedDict\n",
    "\n",
    "d = OrderedDict()\n",
    "for record in records:\n",
    "    if record.seq in d:\n",
    "        d[record.seq].append(record)\n",
    "    else:\n",
    "        d[record.seq] = [record]\n",
    "        \n",
    "len(d)"
   ]
  },
  {
   "cell_type": "code",
   "execution_count": 3,
   "metadata": {
    "collapsed": true
   },
   "outputs": [],
   "source": [
    "q = {k: v for k, v in d.iteritems() if len(v)> 1}\n",
    "\n",
    "keep = []\n",
    "\n",
    "for seq, record_set in q.iteritems():\n",
    "    \n",
    "    my_list = []\n",
    "    for record in record_set:\n",
    "        \n",
    "        my_list.append(record.description.split(' ')[2])\n",
    "    my_list = list(set(my_list))\n",
    "    if len(my_list) > 1:\n",
    "        keep.append(True)\n",
    "    else:\n",
    "        keep.append(False)"
   ]
  },
  {
   "cell_type": "code",
   "execution_count": 4,
   "metadata": {},
   "outputs": [
    {
     "data": {
      "text/plain": [
       "3"
      ]
     },
     "execution_count": 4,
     "metadata": {},
     "output_type": "execute_result"
    }
   ],
   "source": [
    "weird = dict()\n",
    "for i in range(len(keep)):\n",
    "    if keep[i]==True:\n",
    "        weird[q.keys()[i]] = q.values()[i]\n",
    "len(weird)"
   ]
  },
  {
   "cell_type": "code",
   "execution_count": 5,
   "metadata": {},
   "outputs": [
    {
     "name": "stdout",
     "output_type": "stream",
     "text": [
      "ATCTTCGGCGAGAAGGCCCGCGAGGTCCGCGACACGTCGCTGAAGGTGCCGCACGGCGAGTCCGGCAAGGTCATCGGCATCCGGGTGTTCTCCCGCGAGGACGACGACGAGCTGCCCGCCGGCGTCAACGAGCTGGTCCGCGTGTACGTGGCCCAGAAGCGCAAGATCTCCGACGGCGACAAGCTGGCCGGCCGGCACGGCAACAAGGGTGTGATCGGCAAGATCCTGCCCGTCGAGGACATGCCGTTCCTGCCGGACGGCACACCGGTGGACATCATCCTCAACACCCACGGGGTGCCGCGACGGATGAACATCGGCCAGATCCTGGAAACCCACCTGGGCTGGTGCGCGCACAGCGGCTGGAAGGTCGAGGCCCGACTGGGCCGCCAAGCTGCCGGAGGAGCTGCTGGAGGCCGAGCCGAACAAGATCGTCTCGACGCCGGTGTTCGACGGTGCCCGCGAGGAGGAGCTGCAGGGGCTGCTGTCCTCGACGCTGCCCAACCGCGACGGCGACGTGCTGGTCGACGGCGACGGCAAGGCGATCCTGTACGACGGGCGCTCCGGTGAGCCGTTCCCGTACCCGGTGACGACCGGCTACATGTACATCATGAAGCTGCACCACCTGGTGGACGACAAGATCCACGCCCGCTCCACCGG: (3)\n",
      "    JF346871.1 Mycobacterium celatum strain ATCC 51130 RNA polymerase beta subunit (rpoB) gene, partial cds\n",
      "    JN866833.1 Mycobacterium kyorinense strain DSM 45166 RNA polymerase beta subunit (rpoB) gene, partial cds\n",
      "    JQ744020.1 Mycobacterium kyorinense strain HF1629 RNA polymerase subunit B (rpoB) gene, complete cds\n",
      "ATCTTCGGCGAGAAGGCCCGCGAGGTCCGCGACACCTCGCTGAAGGTGCCGCACGGTGAGTCCGGCAAGGTCATCGGCATCCGGGTGTTCTCCCGCGAGGACGACGACGAGCTGCCGGCCGGTGTCAACGAGCTGGTCCGCGTCTACGTGGCGCAAAAGCGGAAGATCTCCGACGGCGACAAGCTGGCCGGACGGCACGGCAACAAGGGTGTGATCGGCAAGATCCTGCCCCAGGAGGACATGCCGTTCCTGCCGGACGGCACTCCGGTGGACATCATCCTGAACACCCACGGGGTGCCGCGACGGATGAACATCGGCCAGATCCTGGAGACCCACCTCGGGTGGGTCGCCAAGTCCGGCTGGAACATCGAGGCCCGATTGGGCGGTGAACCTGCCCGAGGAGCTGCGGCACGCGCAGCCGGACCAGATCGTGTCGACGCCGGTGTTCGACGGCGCCAAGGAGGAGGAGCTTGCGGGCATGCTGTCCTGCACGCTGCCCAACCGCGACGGCGAGGTCATGGTGGACGGCGACGGCAAGTCGGTGCTGTTCGACGGCCGCAGCGGCGAGCCGTTCCCGTACCCGGTGACCGTCGGCTACATGTACATCATGAAGCTGCACCACCTGGTGGACGACAAGATCCACGCCCGCTCCACCGG: (3)\n",
      "    KF910212.1 Mycobacterium intracellulare strain QIA-2 RNA polymerase beta subunit (rpoB) gene, partial cds\n",
      "    KP890659.1 Mycobacterium paraintracellulare strain Asan 29591 RNA polymerase beta subunit (rpoB) gene, partial cds\n",
      "    KP890661.1 Mycobacterium paraintracellulare strain MOTT64 RNA polymerase beta subunit (rpoB) gene, partial cds\n",
      "ATCTTCGGTGAGAAGGCCCGCGAGGTGCGCGACACTTCGCTGAAGGTGCCGCACGGCGAATCCGGCAAGGTGATCGGCATTCGGGTGTTTTCCCGCGAGGACGAGGACGAGTTGCCGGCCGGTGTCAACGAGCTGGTGCGTGTGTATGTGGCTCAGAAACGCAAGATCTCCGACGGTGACAAGCTGGCCGGCCGGCACGGCAACAAGGGCGTGATCGGCAAGATCCTGCCGGTTGAGGACATGCCGTTCCTTGCCGACGGCACCCCGGTGGACATTATTTTGAACACCCACGGCGTGCCGCGACGGATGAACATCGGCCAGATTTTGGAGACCCACCTGGGTTGGTGTGCCCACAGCGGCTGGAAGGTCGACGCCGGACTGGGCCGCCAGGCTGCCCGACGAACTGCTCGAGGCGCAGCCGAACGCCATTGTGTCGACGCCGGTGTTCGACGGCGCCCAGGAGGCCGAGCTGCAGGGCCTGTTGTCGTGCACGCTGCCCAACCGCGACGGTGACGTGCTGGTCGACGCCGACGGCAAGGCCATGCTCTTCGACGGGCGCAGCGGCGAGCCGTTCCCGTACCCGGTCACGGTTGGCTACATGTACATCATGAAGCTGCACCACCTGGTGGACGACAAGATCCACGCCCGCTCCACCGG: (5)\n",
      "    JF923622.1 Mycobacterium africanum strain ATCC 25420 RNA polymerase beta subunit (rpoB) gene, partial cds\n",
      "    JF923623.1 Mycobacterium microti strain ATCC 11152 RNA polymerase beta subunit (rpoB) gene, partial cds\n",
      "    EU287435.2 Mycobacterium pinnipedii RNA polymerase beta subunit (rpoB) gene, partial cds\n",
      "    JX303328.1 Mycobacterium tuberculosis strain MTB001 DNA-directed RNA polymerase subunit beta (rpoB) gene, complete cds\n",
      "    KC692348.1 Mycobacterium tuberculosis strain TB11-111 DNA-directed RNA polymerase subunit beta (rpoB) gene, complete cds\n"
     ]
    }
   ],
   "source": [
    "for seq, record_set in weird.iteritems():\n",
    "    print seq + ': (' + str(len(record_set)) + ')'\n",
    "    for record in record_set:\n",
    "        print '    ' + record.description"
   ]
  },
  {
   "cell_type": "code",
   "execution_count": 30,
   "metadata": {},
   "outputs": [
    {
     "data": {
      "text/plain": [
       "2"
      ]
     },
     "execution_count": 30,
     "metadata": {},
     "output_type": "execute_result"
    }
   ],
   "source": [
    "count = 0\n",
    "for seq, record_set in weird.iteritems():\n",
    "    for record in record_set:\n",
    "        count += 1\n",
    "count"
   ]
  },
  {
   "cell_type": "markdown",
   "metadata": {},
   "source": [
    "### Cluster Sequences"
   ]
  },
  {
   "cell_type": "code",
   "execution_count": 6,
   "metadata": {
    "collapsed": true
   },
   "outputs": [],
   "source": [
    "ids_to_remove = []\n",
    "for seq, record_set in weird.iteritems():\n",
    "    for record in record_set:\n",
    "        ids_to_remove.append(record.id)"
   ]
  },
  {
   "cell_type": "code",
   "execution_count": 7,
   "metadata": {
    "collapsed": true
   },
   "outputs": [],
   "source": [
    "replace_seq = []\n",
    "for i in weird.iterkeys():\n",
    "    replace_seq.append(i)\n",
    "\n",
    "replace_groups = ['MH: kyorinense | celatum', 'MH: intracellulare| paraintracellulare', 'MH: tuberculosis | pinnipedii | microti | africanum']"
   ]
  },
  {
   "cell_type": "code",
   "execution_count": 11,
   "metadata": {},
   "outputs": [
    {
     "data": {
      "text/plain": [
       "216"
      ]
     },
     "execution_count": 11,
     "metadata": {},
     "output_type": "execute_result"
    }
   ],
   "source": [
    "from Bio import SeqIO\n",
    "\n",
    "fasta_sequences = SeqIO.parse(open('../Databases/rpoB/rpob_region.fasta'),'fasta')\n",
    "new_items = []\n",
    "for fasta in fasta_sequences:\n",
    "    name = fasta.id\n",
    "    if name in ids_to_remove:\n",
    "        continue\n",
    "    else:\n",
    "        new_items.append(fasta)\n",
    "        \n",
    "for item in range(len(replace_groups)):\n",
    "    val = SeqIO.SeqRecord(id=replace_groups[item], seq=replace_seq[item])\n",
    "    new_items.append(val)\n",
    "SeqIO.write(new_items, \"../Databases/rpoB/rpoB_clustered_region.fasta\", \"fasta\")"
   ]
  }
 ],
 "metadata": {
  "kernelspec": {
   "display_name": "Python 2",
   "language": "python",
   "name": "python2"
  },
  "language_info": {
   "codemirror_mode": {
    "name": "ipython",
    "version": 2
   },
   "file_extension": ".py",
   "mimetype": "text/x-python",
   "name": "python",
   "nbconvert_exporter": "python",
   "pygments_lexer": "ipython2",
   "version": "2.7.14"
  },
  "toc": {
   "base_numbering": 1,
   "nav_menu": {},
   "number_sections": true,
   "sideBar": true,
   "skip_h1_title": false,
   "title_cell": "Table of Contents",
   "title_sidebar": "Contents",
   "toc_cell": false,
   "toc_position": {},
   "toc_section_display": true,
   "toc_window_display": false
  }
 },
 "nbformat": 4,
 "nbformat_minor": 2
}
