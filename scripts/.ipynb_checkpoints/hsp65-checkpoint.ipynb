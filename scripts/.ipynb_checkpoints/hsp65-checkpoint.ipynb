{
 "cells": [
  {
   "cell_type": "code",
   "execution_count": 2,
   "metadata": {
    "collapsed": true
   },
   "outputs": [],
   "source": [
    "'''sizes = [len(rec) for rec in SeqIO.parse(\"hsp65/hsp65.fasta\", \"fasta\")]\n",
    "names = [x.description for x in SeqIO.parse(\"hsp65/hsp65.fasta\", \"fasta\")]\n",
    "names = [x.split('|')[0] for x in names]\n",
    "'''"
   ]
  },
  {
   "cell_type": "code",
   "execution_count": 34,
   "metadata": {
    "collapsed": true
   },
   "outputs": [],
   "source": [
    "'''with open('hsp65/updated_hsp65.fasta', 'w') as out_file:\n",
    "    for fasta in SeqIO.parse('hsp65/hsp65.fasta','fasta'):\n",
    "        SeqIO.write(fasta, out_file, 'fasta')\n",
    "'''\n",
    "\n",
    "## The above two chunks are used for sequence formatting"
   ]
  },
  {
   "cell_type": "markdown",
   "metadata": {},
   "source": [
    "### Create HSP65 Database"
   ]
  },
  {
   "cell_type": "code",
   "execution_count": 1,
   "metadata": {},
   "outputs": [],
   "source": [
    "import pandas as pd \n",
    "import numpy as np \n",
    "from Bio import SeqIO\n",
    "import random\n",
    "df = pd.read_table('../data/hsp65/nuccore_result_table.txt')\n",
    "df.head()\n",
    "random.seed(2018)"
   ]
  },
  {
   "cell_type": "code",
   "execution_count": 2,
   "metadata": {},
   "outputs": [
    {
     "data": {
      "text/plain": [
       "1428"
      ]
     },
     "execution_count": 2,
     "metadata": {},
     "output_type": "execute_result"
    }
   ],
   "source": [
    "### Remove Unverified and unclassified Bacteria\n",
    "list_names = df['Name']\n",
    "g = [x.split(' ',2)[0] for x in list_names]\n",
    "matching = [s == \"Mycobacterium\" for s in g]\n",
    "df_filtered = df[matching]\n",
    "len(df_filtered)"
   ]
  },
  {
   "cell_type": "code",
   "execution_count": 3,
   "metadata": {},
   "outputs": [
    {
     "data": {
      "text/plain": [
       "1198"
      ]
     },
     "execution_count": 3,
     "metadata": {},
     "output_type": "execute_result"
    }
   ],
   "source": [
    "list_names = df_filtered['Name']\n",
    "g = [x.split(' ',2)[1] for x in list_names]\n",
    "matching = [s != \"sp.\" for s in g]\n",
    "df_filtered = df_filtered[matching]\n",
    "len(df_filtered)"
   ]
  },
  {
   "cell_type": "code",
   "execution_count": 4,
   "metadata": {},
   "outputs": [
    {
     "data": {
      "text/plain": [
       "1099"
      ]
     },
     "execution_count": 4,
     "metadata": {},
     "output_type": "execute_result"
    }
   ],
   "source": [
    "list_names = df_filtered['Name']\n",
    "g = [x.split(' ',2)[1] for x in list_names]\n",
    "matching = [s != \"massiliense\" for s in g]\n",
    "df_filtered = df_filtered[matching]\n",
    "len(df_filtered)"
   ]
  },
  {
   "cell_type": "code",
   "execution_count": 5,
   "metadata": {
    "collapsed": true
   },
   "outputs": [],
   "source": [
    "### Split String Name\n",
    "list_names = df_filtered['Name']\n",
    "g = [x.split(' ',2)[0] for x in list_names]\n",
    "s = [x.split(' ',2)[1] for x in list_names]\n",
    "y = list(zip(g,s))\n",
    "y = [list(x) for x in y]\n",
    "z = [' '.join(x) for x in y]"
   ]
  },
  {
   "cell_type": "code",
   "execution_count": 6,
   "metadata": {},
   "outputs": [
    {
     "data": {
      "text/html": [
       "<div>\n",
       "<style>\n",
       "    .dataframe thead tr:only-child th {\n",
       "        text-align: right;\n",
       "    }\n",
       "\n",
       "    .dataframe thead th {\n",
       "        text-align: left;\n",
       "    }\n",
       "\n",
       "    .dataframe tbody tr th {\n",
       "        vertical-align: top;\n",
       "    }\n",
       "</style>\n",
       "<table border=\"1\" class=\"dataframe\">\n",
       "  <thead>\n",
       "    <tr style=\"text-align: right;\">\n",
       "      <th></th>\n",
       "      <th>Name</th>\n",
       "      <th>Length</th>\n",
       "      <th>Accession</th>\n",
       "      <th>GI</th>\n",
       "      <th>Species</th>\n",
       "    </tr>\n",
       "  </thead>\n",
       "  <tbody>\n",
       "    <tr>\n",
       "      <th>0</th>\n",
       "      <td>Mycobacterium timonense strain 5351974 heat</td>\n",
       "      <td>994</td>\n",
       "      <td>EU239792.1</td>\n",
       "      <td>171466780</td>\n",
       "      <td>Mycobacterium timonense</td>\n",
       "    </tr>\n",
       "    <tr>\n",
       "      <th>1</th>\n",
       "      <td>Mycobacterium bouchedurhonense strain 4355387 ...</td>\n",
       "      <td>994</td>\n",
       "      <td>EU239790.1</td>\n",
       "      <td>171466776</td>\n",
       "      <td>Mycobacterium bouchedurhonense</td>\n",
       "    </tr>\n",
       "    <tr>\n",
       "      <th>2</th>\n",
       "      <td>Mycobacterium marseillense strain 5356591 heat</td>\n",
       "      <td>1462</td>\n",
       "      <td>EU239787.1</td>\n",
       "      <td>171466772</td>\n",
       "      <td>Mycobacterium marseillense</td>\n",
       "    </tr>\n",
       "    <tr>\n",
       "      <th>3</th>\n",
       "      <td>Mycobacterium abscessus subsp. bolletii hsp65</td>\n",
       "      <td>401</td>\n",
       "      <td>AB548601.1</td>\n",
       "      <td>315433461</td>\n",
       "      <td>Mycobacterium abscessus</td>\n",
       "    </tr>\n",
       "    <tr>\n",
       "      <th>4</th>\n",
       "      <td>Mycobacterium timonense strain 3256799 heat</td>\n",
       "      <td>994</td>\n",
       "      <td>EU239791.1</td>\n",
       "      <td>171466778</td>\n",
       "      <td>Mycobacterium timonense</td>\n",
       "    </tr>\n",
       "  </tbody>\n",
       "</table>\n",
       "</div>"
      ],
      "text/plain": [
       "                                                Name  Length   Accession  \\\n",
       "0        Mycobacterium timonense strain 5351974 heat     994  EU239792.1   \n",
       "1  Mycobacterium bouchedurhonense strain 4355387 ...     994  EU239790.1   \n",
       "2     Mycobacterium marseillense strain 5356591 heat    1462  EU239787.1   \n",
       "3      Mycobacterium abscessus subsp. bolletii hsp65     401  AB548601.1   \n",
       "4        Mycobacterium timonense strain 3256799 heat     994  EU239791.1   \n",
       "\n",
       "          GI                         Species  \n",
       "0  171466780         Mycobacterium timonense  \n",
       "1  171466776  Mycobacterium bouchedurhonense  \n",
       "2  171466772      Mycobacterium marseillense  \n",
       "3  315433461         Mycobacterium abscessus  \n",
       "4  171466778         Mycobacterium timonense  "
      ]
     },
     "execution_count": 6,
     "metadata": {},
     "output_type": "execute_result"
    }
   ],
   "source": [
    "df_filtered['Species'] = z\n",
    "df_filtered.head()"
   ]
  },
  {
   "cell_type": "code",
   "execution_count": 7,
   "metadata": {},
   "outputs": [
    {
     "data": {
      "text/html": [
       "<div>\n",
       "<style>\n",
       "    .dataframe thead tr:only-child th {\n",
       "        text-align: right;\n",
       "    }\n",
       "\n",
       "    .dataframe thead th {\n",
       "        text-align: left;\n",
       "    }\n",
       "\n",
       "    .dataframe tbody tr th {\n",
       "        vertical-align: top;\n",
       "    }\n",
       "</style>\n",
       "<table border=\"1\" class=\"dataframe\">\n",
       "  <thead>\n",
       "    <tr style=\"text-align: right;\">\n",
       "      <th></th>\n",
       "      <th>Abundance</th>\n",
       "    </tr>\n",
       "    <tr>\n",
       "      <th>Species</th>\n",
       "      <th></th>\n",
       "    </tr>\n",
       "  </thead>\n",
       "  <tbody>\n",
       "    <tr>\n",
       "      <th>Mycobacterium abscessus</th>\n",
       "      <td>63</td>\n",
       "    </tr>\n",
       "    <tr>\n",
       "      <th>Mycobacterium aemonae</th>\n",
       "      <td>1</td>\n",
       "    </tr>\n",
       "    <tr>\n",
       "      <th>Mycobacterium africanum</th>\n",
       "      <td>4</td>\n",
       "    </tr>\n",
       "    <tr>\n",
       "      <th>Mycobacterium agri</th>\n",
       "      <td>1</td>\n",
       "    </tr>\n",
       "    <tr>\n",
       "      <th>Mycobacterium aichiense</th>\n",
       "      <td>3</td>\n",
       "    </tr>\n",
       "  </tbody>\n",
       "</table>\n",
       "</div>"
      ],
      "text/plain": [
       "                         Abundance\n",
       "Species                           \n",
       "Mycobacterium abscessus         63\n",
       "Mycobacterium aemonae            1\n",
       "Mycobacterium africanum          4\n",
       "Mycobacterium agri               1\n",
       "Mycobacterium aichiense          3"
      ]
     },
     "execution_count": 7,
     "metadata": {},
     "output_type": "execute_result"
    }
   ],
   "source": [
    "df2 = df_filtered[['Name','Species']].groupby('Species').agg(['count'])\n",
    "df2.columns = ['Abundance']\n",
    "df2.head()"
   ]
  },
  {
   "cell_type": "markdown",
   "metadata": {
    "collapsed": true
   },
   "source": [
    "### Add Culture Code Regex Boolean"
   ]
  },
  {
   "cell_type": "code",
   "execution_count": 8,
   "metadata": {
    "collapsed": true
   },
   "outputs": [],
   "source": [
    "bool1 = df_filtered['Name'].str.contains('ATCC')\n",
    "bool2 = df_filtered['Name'].str.contains('DSM')\n",
    "bool3 = df_filtered['Name'].str.contains('CCUG')\n",
    "bool4 = df_filtered['Name'].str.contains('ASIN')\n",
    "bool5 = df_filtered['Name'].str.contains('QIA')\n",
    "bool6 = df_filtered['Name'].str.contains('GTC')\n",
    "\n",
    "df_filtered['Cultures'] = bool1|bool2|bool3|bool4|bool5|bool6\n",
    "df_filtered['Cultures'] = df_filtered['Cultures'].astype(int)"
   ]
  },
  {
   "cell_type": "code",
   "execution_count": 9,
   "metadata": {
    "collapsed": true
   },
   "outputs": [],
   "source": [
    "df2_s = df2[df2['Abundance'] > 2]\n",
    "df2_s.head()\n",
    "test = list(df2_s.index)\n",
    "\n",
    "## Keep everything in this df\n",
    "df_auto_pick = df_filtered[~df_filtered['Species'].isin(test)]\n",
    "small_counts = list(df_auto_pick['Accession'])"
   ]
  },
  {
   "cell_type": "markdown",
   "metadata": {},
   "source": [
    "### Filter and Randomly Select Species by Culture Code"
   ]
  },
  {
   "cell_type": "code",
   "execution_count": 10,
   "metadata": {},
   "outputs": [
    {
     "data": {
      "text/html": [
       "<div>\n",
       "<style>\n",
       "    .dataframe thead tr:only-child th {\n",
       "        text-align: right;\n",
       "    }\n",
       "\n",
       "    .dataframe thead th {\n",
       "        text-align: left;\n",
       "    }\n",
       "\n",
       "    .dataframe tbody tr th {\n",
       "        vertical-align: top;\n",
       "    }\n",
       "</style>\n",
       "<table border=\"1\" class=\"dataframe\">\n",
       "  <thead>\n",
       "    <tr style=\"text-align: right;\">\n",
       "      <th></th>\n",
       "      <th>Abundance</th>\n",
       "    </tr>\n",
       "    <tr>\n",
       "      <th>Species</th>\n",
       "      <th></th>\n",
       "    </tr>\n",
       "  </thead>\n",
       "  <tbody>\n",
       "    <tr>\n",
       "      <th>Mycobacterium abscessus</th>\n",
       "      <td>63</td>\n",
       "    </tr>\n",
       "    <tr>\n",
       "      <th>Mycobacterium africanum</th>\n",
       "      <td>4</td>\n",
       "    </tr>\n",
       "    <tr>\n",
       "      <th>Mycobacterium aichiense</th>\n",
       "      <td>3</td>\n",
       "    </tr>\n",
       "    <tr>\n",
       "      <th>Mycobacterium alvei</th>\n",
       "      <td>4</td>\n",
       "    </tr>\n",
       "    <tr>\n",
       "      <th>Mycobacterium angelicum</th>\n",
       "      <td>3</td>\n",
       "    </tr>\n",
       "  </tbody>\n",
       "</table>\n",
       "</div>"
      ],
      "text/plain": [
       "                         Abundance\n",
       "Species                           \n",
       "Mycobacterium abscessus         63\n",
       "Mycobacterium africanum          4\n",
       "Mycobacterium aichiense          3\n",
       "Mycobacterium alvei              4\n",
       "Mycobacterium angelicum          3"
      ]
     },
     "execution_count": 10,
     "metadata": {},
     "output_type": "execute_result"
    }
   ],
   "source": [
    "## Randomly select two species (Keep Cultures)\n",
    "df_mult = df_filtered[df_filtered['Species'].isin(test)]\n",
    "len(df_mult)\n",
    "\n",
    "df3 = df_mult[['Name','Species']].groupby('Species').agg(['count'])\n",
    "df3.columns = ['Abundance']\n",
    "df3.head()"
   ]
  },
  {
   "cell_type": "code",
   "execution_count": 11,
   "metadata": {},
   "outputs": [
    {
     "data": {
      "text/html": [
       "<div>\n",
       "<style>\n",
       "    .dataframe thead tr:only-child th {\n",
       "        text-align: right;\n",
       "    }\n",
       "\n",
       "    .dataframe thead th {\n",
       "        text-align: left;\n",
       "    }\n",
       "\n",
       "    .dataframe tbody tr th {\n",
       "        vertical-align: top;\n",
       "    }\n",
       "</style>\n",
       "<table border=\"1\" class=\"dataframe\">\n",
       "  <thead>\n",
       "    <tr style=\"text-align: right;\">\n",
       "      <th></th>\n",
       "      <th>Abundance</th>\n",
       "    </tr>\n",
       "    <tr>\n",
       "      <th>Species</th>\n",
       "      <th></th>\n",
       "    </tr>\n",
       "  </thead>\n",
       "  <tbody>\n",
       "    <tr>\n",
       "      <th>Mycobacterium abscessus</th>\n",
       "      <td>2</td>\n",
       "    </tr>\n",
       "    <tr>\n",
       "      <th>Mycobacterium africanum</th>\n",
       "      <td>2</td>\n",
       "    </tr>\n",
       "    <tr>\n",
       "      <th>Mycobacterium aichiense</th>\n",
       "      <td>2</td>\n",
       "    </tr>\n",
       "    <tr>\n",
       "      <th>Mycobacterium alvei</th>\n",
       "      <td>0</td>\n",
       "    </tr>\n",
       "    <tr>\n",
       "      <th>Mycobacterium angelicum</th>\n",
       "      <td>0</td>\n",
       "    </tr>\n",
       "  </tbody>\n",
       "</table>\n",
       "</div>"
      ],
      "text/plain": [
       "                         Abundance\n",
       "Species                           \n",
       "Mycobacterium abscessus          2\n",
       "Mycobacterium africanum          2\n",
       "Mycobacterium aichiense          2\n",
       "Mycobacterium alvei              0\n",
       "Mycobacterium angelicum          0"
      ]
     },
     "execution_count": 11,
     "metadata": {},
     "output_type": "execute_result"
    }
   ],
   "source": [
    "## Count Abundance of Culture Codes\n",
    "df4 = df_mult[['Species', 'Cultures']].groupby('Species').sum()\n",
    "df4.columns = ['Abundance']\n",
    "df4.head()"
   ]
  },
  {
   "cell_type": "code",
   "execution_count": 12,
   "metadata": {
    "collapsed": true
   },
   "outputs": [],
   "source": [
    "### Multiples with 0\n",
    "zeros = df4[df4['Abundance'] < 1]\n",
    "zeros = list(zeros.index)\n",
    "\n",
    "\n",
    "### Multiples with 1\n",
    "ones = df4[df4['Abundance'] == 1]\n",
    "ones = list(ones.index)\n",
    "\n",
    "\n",
    "### Multiples with 2\n",
    "twos = df4[df4['Abundance'] == 2]\n",
    "twos = list(twos.index)\n",
    "\n",
    "### Multiples with Greater than 2\n",
    "greater = df4[df4['Abundance'] > 2]\n",
    "greater = list(greater.index)"
   ]
  },
  {
   "cell_type": "code",
   "execution_count": 13,
   "metadata": {
    "collapsed": true
   },
   "outputs": [],
   "source": [
    "## Select Accession of Organism with two cultures \n",
    "twos_A = df_mult[df_mult['Species'].isin(twos)]\n",
    "twos_A = twos_A[twos_A['Cultures'] == 1]\n",
    "twos_A = list(twos_A['Accession'])\n",
    "twos_list = twos_A"
   ]
  },
  {
   "cell_type": "code",
   "execution_count": 14,
   "metadata": {},
   "outputs": [
    {
     "data": {
      "text/plain": [
       "52"
      ]
     },
     "execution_count": 14,
     "metadata": {},
     "output_type": "execute_result"
    }
   ],
   "source": [
    "## Greater than twos\n",
    "import random\n",
    "my_acc = []\n",
    "greatera = df_mult[df_mult['Species'].isin(greater)]\n",
    "greatera = greatera[greatera['Cultures'] == 1]\n",
    "for name, group in greatera.groupby('Species'):\n",
    "    my_list = list(group['Accession'])\n",
    "    one, two = random.sample(my_list,2)\n",
    "    my_acc.append(one)\n",
    "    my_acc.append(two)\n",
    "   \n",
    "greater_list = my_acc\n",
    "len(greater_list)"
   ]
  },
  {
   "cell_type": "code",
   "execution_count": 15,
   "metadata": {
    "collapsed": true
   },
   "outputs": [],
   "source": [
    "## Ones\n",
    "my_ones = []\n",
    "onesa = df_filtered[df_filtered['Species'].isin(ones)]\n",
    "onesa_1 = onesa[onesa['Cultures'] == 1]\n",
    "onesa_1 = list(onesa_1['Accession'])\n",
    "onesa = onesa[onesa['Cultures'] == 0]\n",
    "for name, group in onesa.groupby('Species'):\n",
    "    my_list = list(group['Accession'])\n",
    "    one = random.sample(my_list, 1)\n",
    "    my_ones.append(one)\n",
    "\n",
    "my_ones = [item for sublist in my_ones for item in sublist]\n",
    "ones_list = my_ones+onesa_1"
   ]
  },
  {
   "cell_type": "code",
   "execution_count": 16,
   "metadata": {},
   "outputs": [
    {
     "data": {
      "text/plain": [
       "54"
      ]
     },
     "execution_count": 16,
     "metadata": {},
     "output_type": "execute_result"
    }
   ],
   "source": [
    "## Zeros\n",
    "my_zeros = []\n",
    "zeroa = df_mult[df_mult['Species'].isin(zeros)]\n",
    "zeroa = zeroa[zeroa['Cultures'] == 0]\n",
    "for name, group in zeroa.groupby('Species'):\n",
    "    my_list = list(group['Accession'])\n",
    "    one, two = random.sample(my_list,2)\n",
    "    my_zeros.append(one)\n",
    "    my_zeros.append(two)\n",
    "    \n",
    "zeros_list = my_zeros\n",
    "len(zeros_list)"
   ]
  },
  {
   "cell_type": "code",
   "execution_count": 17,
   "metadata": {
    "collapsed": true
   },
   "outputs": [],
   "source": [
    "## Combine all Accessions\n",
    "Combined_Accessions = zeros_list + ones_list + twos_list + greater_list + small_counts"
   ]
  },
  {
   "cell_type": "code",
   "execution_count": 18,
   "metadata": {},
   "outputs": [
    {
     "data": {
      "text/plain": [
       "319"
      ]
     },
     "execution_count": 18,
     "metadata": {},
     "output_type": "execute_result"
    }
   ],
   "source": [
    "df5 = df_filtered[df_filtered['Accession'].isin(Combined_Accessions)]\n",
    "len(df5)"
   ]
  },
  {
   "cell_type": "markdown",
   "metadata": {
    "collapsed": true
   },
   "source": [
    "#### Write Species to Excel and Filter Sequences by Accession"
   ]
  },
  {
   "cell_type": "code",
   "execution_count": 19,
   "metadata": {
    "collapsed": true
   },
   "outputs": [],
   "source": [
    "writer = pd.ExcelWriter('Counts_of_Species2.xlsx')\n",
    "df5.to_excel(writer, \"Sheet1\")\n",
    "writer.save()"
   ]
  },
  {
   "cell_type": "code",
   "execution_count": 22,
   "metadata": {},
   "outputs": [],
   "source": [
    "from Bio import SeqIO\n",
    "\n",
    "with open('../hsp65.fasta', 'w') as out_file:\n",
    "    for fasta in SeqIO.parse('../data/hsp65/sequence.fasta','fasta'):\n",
    "        name, sequence = fasta.id, fasta.seq\n",
    "        if name in Combined_Accessions:\n",
    "            SeqIO.write(fasta, out_file, 'fasta')"
   ]
  },
  {
   "cell_type": "markdown",
   "metadata": {},
   "source": [
    "### Check Accession Overlap Here"
   ]
  },
  {
   "cell_type": "code",
   "execution_count": 88,
   "metadata": {
    "collapsed": true
   },
   "outputs": [],
   "source": [
    "from Bio import SeqIO\n",
    "from collections import defaultdict\n",
    "records=list(SeqIO.parse(\"Filtered_hsp65.fasta\", \"fasta\"))"
   ]
  },
  {
   "cell_type": "markdown",
   "metadata": {
    "heading_collapsed": true
   },
   "source": [
    "#### Find Records that Share the Same Sequence"
   ]
  },
  {
   "cell_type": "code",
   "execution_count": 89,
   "metadata": {
    "hidden": true
   },
   "outputs": [
    {
     "name": "stderr",
     "output_type": "stream",
     "text": [
      "/Users/stronglab2/anaconda2/lib/python2.7/site-packages/Bio/Seq.py:155: BiopythonWarning: Biopython Seq objects now use string comparison. Older versions of Biopython used object comparison. During this transition, please use hash(id(my_seq)) or my_dict[id(my_seq)] if you want the old behaviour, or use hash(str(my_seq)) or my_dict[str(my_seq)] for the new string hashing behaviour.\n",
      "  \"the new string hashing behaviour.\", BiopythonWarning)\n"
     ]
    },
    {
     "data": {
      "text/plain": [
       "298"
      ]
     },
     "execution_count": 89,
     "metadata": {},
     "output_type": "execute_result"
    }
   ],
   "source": [
    "from collections import OrderedDict\n",
    "\n",
    "d = OrderedDict()\n",
    "for record in records:\n",
    "    if record.seq in d:\n",
    "        d[record.seq].append(record)\n",
    "    else:\n",
    "        d[record.seq] = [record]\n",
    "        \n",
    "len(d)"
   ]
  },
  {
   "cell_type": "markdown",
   "metadata": {
    "hidden": true
   },
   "source": [
    "The following chunk createsa new dictionary that contains sequences that have more than one record, then creates a list of true false values to check if the mulitple sequences share the same species"
   ]
  },
  {
   "cell_type": "code",
   "execution_count": 90,
   "metadata": {
    "collapsed": true,
    "hidden": true
   },
   "outputs": [],
   "source": [
    "q = {k: v for k, v in d.iteritems() if len(v)> 1}\n",
    "\n",
    "keep = []\n",
    "\n",
    "for seq, record_set in q.iteritems():\n",
    "    \n",
    "    my_list = []\n",
    "    for record in record_set:\n",
    "        \n",
    "        my_list.append(record.description.split(' ')[2])\n",
    "    my_list = list(set(my_list))\n",
    "    if len(my_list) > 1:\n",
    "        keep.append(True)\n",
    "    else:\n",
    "        keep.append(False)"
   ]
  },
  {
   "cell_type": "markdown",
   "metadata": {
    "hidden": true
   },
   "source": [
    "The following chunk creates a dictionary of sequences with the same sequences, but different annotations"
   ]
  },
  {
   "cell_type": "code",
   "execution_count": 91,
   "metadata": {
    "hidden": true
   },
   "outputs": [
    {
     "data": {
      "text/plain": [
       "6"
      ]
     },
     "execution_count": 91,
     "metadata": {},
     "output_type": "execute_result"
    }
   ],
   "source": [
    "weird = dict()\n",
    "for i in range(len(keep)):\n",
    "    if keep[i]==True:\n",
    "        weird[q.keys()[i]] = q.values()[i]\n",
    "len(weird)"
   ]
  },
  {
   "cell_type": "code",
   "execution_count": 92,
   "metadata": {
    "hidden": true
   },
   "outputs": [
    {
     "name": "stdout",
     "output_type": "stream",
     "text": [
      "GAGGACCCTTACGAGAAGATCGGCGCCGAGCTGGTCAAGGAAGTCGCCAAGAAGACCGACGACGTTGCCGGTGACGGCACGACGACGGCCACGGTTCTGGCCCAGGCGTTGGTCCGCGAGGGCCTGCGTAACGTCGCCGCCGGCGCCAACCCGCTGGGTCTCAAGCGCGGCATCGAGAAGGCCGTCGAGAAGGTCACCGAGACCCTGCTCAAGTCGGCCAAGGAGGTCGAGACCAAGGACCAGATCGCTGCCACCGCGGCGATTTCGGCGGGCGACCAGTCGATCGGTGACCTCATCGCCGAGGCGATGGACAAGGTCGGCAACGAGGGCGTCATCACCGTCGAGGAGTCCAACACCTTCGGCCTGCAGCTCGAGCTCACCGAGGGCATGCGGTTCGACAAGGGCTACATCTCGGGCTACTTCGTCACCGACGCCGAGCGTCAGGAAGCGGTCCTCGAGGACCCCTTCATCCTGCTGGTCAGCTCCAAGGTGTCGACGGTCAAGGACCTGCTGCCGCTGCTGGAGAAGGTCATCCAGGCCGGCAAGCCGCTGCTGATCATCGCCGAGGACGTCGAGGGTGAGGCTCTGAGCACCCTGGTCGTC: (3)\n",
      "    KP670342.1 Mycobacterium paraintracellulare strain MOTT64 heat shock protein 65 (hsp65) gene, partial cds\n",
      "    KP670341.1 Mycobacterium paraintracellulare strain Asan 37128 heat shock protein 65 (hsp65) gene, partial cds\n",
      "    KF910248.1 Mycobacterium intracellulare strain QIA-9 heat shock protein 65 (hsp65) gene, partial cds\n",
      "CGCCAAGGAGATCGAGCTGGAGGACCCGTACGAGAAGATCGGCGCCGAGCTGGTCAAGGAAGTTGCCAAGAAGACCGACGATGTCGCCGGTGACGGCACGACGACGGCCACCGTGCTGGCTCAGGCACTCGTCAAAGAGGGCCTGCGCAACGTAGCGGCCGGCGCCAACCCGCTGGGTCTCAAGCGCGGCATCGAGAAGGCCGTCGAGAAGATCACCGAGACCCTGCTGAAGTCGGCCAAGGACGTCGAGACCAAGGAGCAGATCGCTGCGACCGCTGGTATCTCGGCGGGCGATCAGTCGATCGGCGACCTGATCGCCGAGGCGATGGACAAGGTCGGCAACGAGGGCGTCATCACCGTCGAGGAGTCCAACACCTTCGGCCTGCAGCTCGAGCTCACCG: (2)\n",
      "    JF491317.1 Mycobacterium florentinum strain DSM 44852 GroEL (hsp65) gene, partial cds\n",
      "    AY550210.1 Mycobacterium triplex strain variant MS418 65 kDa heat shock protein (hsp65) gene, partial cds\n",
      "GAGGATCCGTACGAGAAGATCGGCGCCGAGCTGGTCAAAGAGGTAGCCAAGAAGACCGATGACGTCGCCGGTGACGGCACCACGACGGCCACCGTGCTGGCCCAGGCGTTGGTTCGCGAGGGCCTGCGCAACGTCGCGGCCGGCGCCAACCCGCTCGGTCTCAAACGCGGCATCGAAAAGGCCGTGGAGAAGGTCACCGAGACCCTGCTCAAGGGCGCCAAGGAGGTCGAGACCAAGGAGCAGATTGCGGCCACCGCAGCGATTTCGGCGGGTGACCAGTCCATCGGTGACCTGATCGCCGAGGCGATGGACAAGGTGGGCAACGAGGGCGTCATCACCGTCGAGGAGTCCAACACCTTTGGGCTGCAGCTCGAGCTCACCGAGGGTATGCGGTTCGACAAGGGCTACATCTCGGGGTACTTCGTGACCGACCCGGAGCGTCAGGAGGCGGTCCTGGAGGACCCCTACATCCTGCTGGTCAGCTCCAAGGTGTCCACTGTCAAGGATCTGCTGCCGCTGCNNNNNNNNNNNNNNNNNNNNGGTAAGCCGCTGCTGATCATCGCCGAGGACGTCGAGGGCGAGGCGCTGTCCACCCTGGTCGTC: (3)\n",
      "    AY299178.1 Mycobacterium bovis strain ATCC 19210 heat shock protein 65 (hsp65) gene, partial cds\n",
      "    AY299144.1 Mycobacterium tuberculosis strain ATCC 27294 heat shock protein 65 (hsp65) gene, partial cds\n",
      "    AY299135.1 Mycobacterium microti strain ATCC 19422 heat shock protein 65 (hsp65) gene, partial cds\n",
      "CGCCAAGGAGATCGAGCTGGAGGATCCGTACGAGAAGATCGGCGCCGAGCTGGTCAAAGAGGTAGCCAAGAAGACCGATGACGTCGCCGGTGACGGCACCACGACGGCCACCGTGCTGGCCCAGGCGTTGGTTCGCGAGGGCCTGCGCAACGTCGCGGCCGGCGCCAACCCGCTCGGTCTCAAACGCGGCATCGAAAAGGCCGTGGAGAAGGTCACCGAGACCCTGCTCAAGGGCGCCAAGGAGGTCGAGACCAAGGAGCAGATTGCGGCCACCGCAGCGATTTCGGCGGGTGACCAGTCCATCGGTGACCTGATCGCCGAGGCGATGGACAAGGTGGGCAACGAGGGCGTCATCACCGTCGAGGAGTCCAACACCTTTGGGCTGCAGCTCGAGCTCACCG: (2)\n",
      "    JF491332.1 Mycobacterium bovis strain ATCC 19210 GroEL (hsp65) gene, partial cds\n",
      "    JF491311.1 Mycobacterium tuberculosis strain ATCC 27294 GroEL (hsp65) gene, partial cds\n",
      "ATGGTGTGTCCATCGCCAAGGAGATCGAGCTGGAGGATCCGTACGAGAAGATCGGCGCCGAGCTGGTCAAAGAGGTAGCCAAGAAGACCGATGACGTCGCCGGTGACGGCACCACGACGGCCACCGTGCTGGCCCAGGCGTTGGTTCGCGAGGGCCTGCGCAACGTCGCGGCCGGCGCCAACCCGCTCGGTCTCAAACGCGGCATCGAAAAGGCCGTGGAGAAGGTCACCGAGACCCTGCTCAAGGGCGCCAAGGAGGTCGAGACCAAGGAGCAGATTGCGGCCACCGCAGCGATTTCGGCGGGTGACCAGTCCATCGGTGACCTGATCGCCGAGGCGATGGACAAGGTGGGCAACGAGGGCGTCATCACCGTCGAGGAGTCCAACACCTTTGGGCTGCAGCTCGAGCTCACCGAGGGTATGCG: (2)\n",
      "    AF547884.1 Mycobacterium caprae strain CIP 105776 65 kDa heat shock protein (hsp65) gene, partial cds\n",
      "    AF547856.1 Mycobacterium microti strain CIP 104256 65 kDa heat shock protein (hsp65) gene, partial cds\n",
      "CGCCAAGGAGATCGAGCTGGAGGACCCGTACGAGAAGATCGGCGCTGAGCTGGTCAAGGAAGTTGCCAAGAAGACCGACGACGTGGCCGGTGACGGCACGACGACGGCCACCGTGCTGGCCCAGGCGCTGGTCAAGGAAGGCCTGCGCAACGTTGCGGCCGGTGCCAACCCGCTCGGTCTGAAGCGCGGCATCGAGAAGGCAGTCGAGAAGGTCACCGAGATCCTGCTCAAGTCGGCCAAAGAGGTCGAGACCAAGGAGCAGATCGCGGCGACCGCAGCCATCTCCGCCGGCGACCAGTCGATCGGCGACCTGATCGCCGAGGCGATGGACAAGGTGGGCAACGAGGGCGTCATCACCGTCGAGGAGTCCAACACCTTCGGCCTGCAGCTCGAGCTCACCG: (3)\n",
      "    AY571788.1 Mycobacterium pseudoshottsii Hsp65 (hsp65) gene, partial cds\n",
      "    AY500839.1 Mycobacterium liflandii 65 kDa heat shock protein (hsp65) gene, partial cds\n",
      "    AB548704.1 Mycobacterium pseudoshottsii hsp65 gene for heat shock protein 65, partial cds, strain: MF01\n"
     ]
    }
   ],
   "source": [
    "for seq, record_set in weird.iteritems():\n",
    "    print seq + ': (' + str(len(record_set)) + ')'\n",
    "    for record in record_set:\n",
    "        print '    ' + record.description"
   ]
  },
  {
   "cell_type": "code",
   "execution_count": 93,
   "metadata": {
    "hidden": true
   },
   "outputs": [
    {
     "data": {
      "text/plain": [
       "15"
      ]
     },
     "execution_count": 93,
     "metadata": {},
     "output_type": "execute_result"
    }
   ],
   "source": [
    "count = 0\n",
    "for seq, record_set in weird.iteritems():\n",
    "    for record in record_set:\n",
    "        count += 1\n",
    "count"
   ]
  }
 ],
 "metadata": {
  "kernelspec": {
   "display_name": "Python 2",
   "language": "python",
   "name": "python2"
  },
  "language_info": {
   "codemirror_mode": {
    "name": "ipython",
    "version": 2
   },
   "file_extension": ".py",
   "mimetype": "text/x-python",
   "name": "python",
   "nbconvert_exporter": "python",
   "pygments_lexer": "ipython2",
   "version": "2.7.14"
  },
  "latex_envs": {
   "LaTeX_envs_menu_present": true,
   "autoclose": false,
   "autocomplete": true,
   "bibliofile": "biblio.bib",
   "cite_by": "apalike",
   "current_citInitial": 1,
   "eqLabelWithNumbers": true,
   "eqNumInitial": 1,
   "hotkeys": {
    "equation": "Ctrl-E",
    "itemize": "Ctrl-I"
   },
   "labels_anchors": false,
   "latex_user_defs": false,
   "report_style_numbering": false,
   "user_envs_cfg": false
  },
  "toc": {
   "base_numbering": 1,
   "nav_menu": {},
   "number_sections": true,
   "sideBar": true,
   "skip_h1_title": false,
   "title_cell": "Table of Contents",
   "title_sidebar": "Contents",
   "toc_cell": false,
   "toc_position": {},
   "toc_section_display": true,
   "toc_window_display": false
  },
  "varInspector": {
   "cols": {
    "lenName": 16,
    "lenType": 16,
    "lenVar": 40
   },
   "kernels_config": {
    "python": {
     "delete_cmd_postfix": "",
     "delete_cmd_prefix": "del ",
     "library": "var_list.py",
     "varRefreshCmd": "print(var_dic_list())"
    },
    "r": {
     "delete_cmd_postfix": ") ",
     "delete_cmd_prefix": "rm(",
     "library": "var_list.r",
     "varRefreshCmd": "cat(var_dic_list()) "
    }
   },
   "types_to_exclude": [
    "module",
    "function",
    "builtin_function_or_method",
    "instance",
    "_Feature"
   ],
   "window_display": false
  }
 },
 "nbformat": 4,
 "nbformat_minor": 2
}
