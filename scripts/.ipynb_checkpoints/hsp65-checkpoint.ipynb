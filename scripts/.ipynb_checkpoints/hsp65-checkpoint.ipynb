{
 "cells": [
  {
   "cell_type": "code",
   "execution_count": 2,
   "metadata": {
    "collapsed": true
   },
   "outputs": [],
   "source": [
    "'''sizes = [len(rec) for rec in SeqIO.parse(\"hsp65/hsp65.fasta\", \"fasta\")]\n",
    "names = [x.description for x in SeqIO.parse(\"hsp65/hsp65.fasta\", \"fasta\")]\n",
    "names = [x.split('|')[0] for x in names]\n",
    "'''"
   ]
  },
  {
   "cell_type": "code",
   "execution_count": 34,
   "metadata": {
    "collapsed": true
   },
   "outputs": [],
   "source": [
    "'''with open('hsp65/updated_hsp65.fasta', 'w') as out_file:\n",
    "    for fasta in SeqIO.parse('hsp65/hsp65.fasta','fasta'):\n",
    "        SeqIO.write(fasta, out_file, 'fasta')\n",
    "'''\n",
    "\n",
    "## The above two chunks are used for sequence formatting"
   ]
  },
  {
   "cell_type": "markdown",
   "metadata": {},
   "source": [
    "### Create HSP65 Database"
   ]
  },
  {
   "cell_type": "code",
   "execution_count": 1,
   "metadata": {
    "collapsed": true
   },
   "outputs": [],
   "source": [
    "import pandas as pd \n",
    "import numpy as np \n",
    "from Bio import SeqIO\n",
    "import random\n",
    "df = pd.read_table('../data/hsp65/nuccore_result_table.txt')\n",
    "\n",
    "random.seed(10)\n",
    "### Remove Unaligned Species \n",
    "unaligned = [\"EU239779.1\",\"EU239790.1\",\"EU239791.1\", \"EU239792.1\", \"EU239783.1\", \"KC737844.1\"]\n",
    "df = df[~df['Accession'].isin(unaligned)]"
   ]
  },
  {
   "cell_type": "code",
   "execution_count": 2,
   "metadata": {},
   "outputs": [
    {
     "data": {
      "text/plain": [
       "1422"
      ]
     },
     "execution_count": 2,
     "metadata": {},
     "output_type": "execute_result"
    }
   ],
   "source": [
    "### Remove Unverified and unclassified Bacteria\n",
    "list_names = df['Name']\n",
    "g = [x.split(' ',2)[0] for x in list_names]\n",
    "matching = [s == \"Mycobacterium\" for s in g]\n",
    "df_filtered = df[matching]\n",
    "len(df_filtered)"
   ]
  },
  {
   "cell_type": "code",
   "execution_count": 3,
   "metadata": {},
   "outputs": [
    {
     "data": {
      "text/plain": [
       "1192"
      ]
     },
     "execution_count": 3,
     "metadata": {},
     "output_type": "execute_result"
    }
   ],
   "source": [
    "list_names = df_filtered['Name']\n",
    "g = [x.split(' ',2)[1] for x in list_names]\n",
    "matching = [s != \"sp.\" for s in g]\n",
    "df_filtered = df_filtered[matching]\n",
    "len(df_filtered)"
   ]
  },
  {
   "cell_type": "code",
   "execution_count": 4,
   "metadata": {},
   "outputs": [
    {
     "data": {
      "text/plain": [
       "1093"
      ]
     },
     "execution_count": 4,
     "metadata": {},
     "output_type": "execute_result"
    }
   ],
   "source": [
    "list_names = df_filtered['Name']\n",
    "g = [x.split(' ',2)[1] for x in list_names]\n",
    "matching = [s != \"massiliense\" for s in g]\n",
    "df_filtered = df_filtered[matching]\n",
    "len(df_filtered)"
   ]
  },
  {
   "cell_type": "code",
   "execution_count": 5,
   "metadata": {
    "collapsed": true
   },
   "outputs": [],
   "source": [
    "### Split String Name\n",
    "list_names = df_filtered['Name']\n",
    "g = [x.split(' ',2)[0] for x in list_names]\n",
    "s = [x.split(' ',2)[1] for x in list_names]\n",
    "y = list(zip(g,s))\n",
    "y = [list(x) for x in y]\n",
    "z = [' '.join(x) for x in y]"
   ]
  },
  {
   "cell_type": "code",
   "execution_count": 6,
   "metadata": {},
   "outputs": [
    {
     "data": {
      "text/html": [
       "<div>\n",
       "<style>\n",
       "    .dataframe thead tr:only-child th {\n",
       "        text-align: right;\n",
       "    }\n",
       "\n",
       "    .dataframe thead th {\n",
       "        text-align: left;\n",
       "    }\n",
       "\n",
       "    .dataframe tbody tr th {\n",
       "        vertical-align: top;\n",
       "    }\n",
       "</style>\n",
       "<table border=\"1\" class=\"dataframe\">\n",
       "  <thead>\n",
       "    <tr style=\"text-align: right;\">\n",
       "      <th></th>\n",
       "      <th>Name</th>\n",
       "      <th>Length</th>\n",
       "      <th>Accession</th>\n",
       "      <th>GI</th>\n",
       "      <th>Species</th>\n",
       "    </tr>\n",
       "  </thead>\n",
       "  <tbody>\n",
       "    <tr>\n",
       "      <th>2</th>\n",
       "      <td>Mycobacterium marseillense strain 5356591 heat</td>\n",
       "      <td>1462</td>\n",
       "      <td>EU239787.1</td>\n",
       "      <td>171466772</td>\n",
       "      <td>Mycobacterium marseillense</td>\n",
       "    </tr>\n",
       "    <tr>\n",
       "      <th>3</th>\n",
       "      <td>Mycobacterium abscessus subsp. bolletii hsp65</td>\n",
       "      <td>401</td>\n",
       "      <td>AB548601.1</td>\n",
       "      <td>315433461</td>\n",
       "      <td>Mycobacterium abscessus</td>\n",
       "    </tr>\n",
       "    <tr>\n",
       "      <th>5</th>\n",
       "      <td>Mycobacterium marseillense strain 62863 heat</td>\n",
       "      <td>1462</td>\n",
       "      <td>EU239788.1</td>\n",
       "      <td>171466773</td>\n",
       "      <td>Mycobacterium marseillense</td>\n",
       "    </tr>\n",
       "    <tr>\n",
       "      <th>6</th>\n",
       "      <td>Mycobacterium bacteremicum strain ATCC 25791</td>\n",
       "      <td>402</td>\n",
       "      <td>FJ172314.1</td>\n",
       "      <td>207692940</td>\n",
       "      <td>Mycobacterium bacteremicum</td>\n",
       "    </tr>\n",
       "    <tr>\n",
       "      <th>7</th>\n",
       "      <td>Mycobacterium aromaticivorans strain JS19b1 65</td>\n",
       "      <td>417</td>\n",
       "      <td>DQ841182.1</td>\n",
       "      <td>111283528</td>\n",
       "      <td>Mycobacterium aromaticivorans</td>\n",
       "    </tr>\n",
       "  </tbody>\n",
       "</table>\n",
       "</div>"
      ],
      "text/plain": [
       "                                             Name  Length   Accession  \\\n",
       "2  Mycobacterium marseillense strain 5356591 heat    1462  EU239787.1   \n",
       "3   Mycobacterium abscessus subsp. bolletii hsp65     401  AB548601.1   \n",
       "5    Mycobacterium marseillense strain 62863 heat    1462  EU239788.1   \n",
       "6    Mycobacterium bacteremicum strain ATCC 25791     402  FJ172314.1   \n",
       "7  Mycobacterium aromaticivorans strain JS19b1 65     417  DQ841182.1   \n",
       "\n",
       "          GI                        Species  \n",
       "2  171466772     Mycobacterium marseillense  \n",
       "3  315433461        Mycobacterium abscessus  \n",
       "5  171466773     Mycobacterium marseillense  \n",
       "6  207692940     Mycobacterium bacteremicum  \n",
       "7  111283528  Mycobacterium aromaticivorans  "
      ]
     },
     "execution_count": 6,
     "metadata": {},
     "output_type": "execute_result"
    }
   ],
   "source": [
    "df_filtered['Species'] = z\n",
    "df_filtered.head()"
   ]
  },
  {
   "cell_type": "code",
   "execution_count": 7,
   "metadata": {},
   "outputs": [
    {
     "data": {
      "text/html": [
       "<div>\n",
       "<style>\n",
       "    .dataframe thead tr:only-child th {\n",
       "        text-align: right;\n",
       "    }\n",
       "\n",
       "    .dataframe thead th {\n",
       "        text-align: left;\n",
       "    }\n",
       "\n",
       "    .dataframe tbody tr th {\n",
       "        vertical-align: top;\n",
       "    }\n",
       "</style>\n",
       "<table border=\"1\" class=\"dataframe\">\n",
       "  <thead>\n",
       "    <tr style=\"text-align: right;\">\n",
       "      <th></th>\n",
       "      <th>Abundance</th>\n",
       "    </tr>\n",
       "    <tr>\n",
       "      <th>Species</th>\n",
       "      <th></th>\n",
       "    </tr>\n",
       "  </thead>\n",
       "  <tbody>\n",
       "    <tr>\n",
       "      <th>Mycobacterium abscessus</th>\n",
       "      <td>63</td>\n",
       "    </tr>\n",
       "    <tr>\n",
       "      <th>Mycobacterium aemonae</th>\n",
       "      <td>1</td>\n",
       "    </tr>\n",
       "    <tr>\n",
       "      <th>Mycobacterium africanum</th>\n",
       "      <td>4</td>\n",
       "    </tr>\n",
       "    <tr>\n",
       "      <th>Mycobacterium agri</th>\n",
       "      <td>1</td>\n",
       "    </tr>\n",
       "    <tr>\n",
       "      <th>Mycobacterium aichiense</th>\n",
       "      <td>3</td>\n",
       "    </tr>\n",
       "  </tbody>\n",
       "</table>\n",
       "</div>"
      ],
      "text/plain": [
       "                         Abundance\n",
       "Species                           \n",
       "Mycobacterium abscessus         63\n",
       "Mycobacterium aemonae            1\n",
       "Mycobacterium africanum          4\n",
       "Mycobacterium agri               1\n",
       "Mycobacterium aichiense          3"
      ]
     },
     "execution_count": 7,
     "metadata": {},
     "output_type": "execute_result"
    }
   ],
   "source": [
    "df2 = df_filtered[['Name','Species']].groupby('Species').agg(['count'])\n",
    "df2.columns = ['Abundance']\n",
    "df2.head()"
   ]
  },
  {
   "cell_type": "markdown",
   "metadata": {
    "collapsed": true
   },
   "source": [
    "### Add Culture Code Regex Boolean"
   ]
  },
  {
   "cell_type": "code",
   "execution_count": 8,
   "metadata": {
    "collapsed": true
   },
   "outputs": [],
   "source": [
    "bool1 = df_filtered['Name'].str.contains('ATCC')\n",
    "bool2 = df_filtered['Name'].str.contains('DSM')\n",
    "bool3 = df_filtered['Name'].str.contains('CCUG')\n",
    "bool4 = df_filtered['Name'].str.contains('ASIN')\n",
    "bool5 = df_filtered['Name'].str.contains('QIA')\n",
    "bool6 = df_filtered['Name'].str.contains('GTC')\n",
    "\n",
    "df_filtered['Cultures'] = bool1|bool2|bool3|bool4|bool5|bool6\n",
    "df_filtered['Cultures'] = df_filtered['Cultures'].astype(int)"
   ]
  },
  {
   "cell_type": "code",
   "execution_count": 9,
   "metadata": {
    "collapsed": true
   },
   "outputs": [],
   "source": [
    "df2_s = df2[df2['Abundance'] > 2]\n",
    "df2_s.head()\n",
    "test = list(df2_s.index)\n",
    "\n",
    "## Keep everything in this df\n",
    "df_auto_pick = df_filtered[~df_filtered['Species'].isin(test)]\n",
    "small_counts = list(df_auto_pick['Accession'])"
   ]
  },
  {
   "cell_type": "markdown",
   "metadata": {},
   "source": [
    "### Filter and Randomly Select Species by Culture Code"
   ]
  },
  {
   "cell_type": "code",
   "execution_count": 10,
   "metadata": {},
   "outputs": [
    {
     "data": {
      "text/html": [
       "<div>\n",
       "<style>\n",
       "    .dataframe thead tr:only-child th {\n",
       "        text-align: right;\n",
       "    }\n",
       "\n",
       "    .dataframe thead th {\n",
       "        text-align: left;\n",
       "    }\n",
       "\n",
       "    .dataframe tbody tr th {\n",
       "        vertical-align: top;\n",
       "    }\n",
       "</style>\n",
       "<table border=\"1\" class=\"dataframe\">\n",
       "  <thead>\n",
       "    <tr style=\"text-align: right;\">\n",
       "      <th></th>\n",
       "      <th>Abundance</th>\n",
       "    </tr>\n",
       "    <tr>\n",
       "      <th>Species</th>\n",
       "      <th></th>\n",
       "    </tr>\n",
       "  </thead>\n",
       "  <tbody>\n",
       "    <tr>\n",
       "      <th>Mycobacterium abscessus</th>\n",
       "      <td>63</td>\n",
       "    </tr>\n",
       "    <tr>\n",
       "      <th>Mycobacterium africanum</th>\n",
       "      <td>4</td>\n",
       "    </tr>\n",
       "    <tr>\n",
       "      <th>Mycobacterium aichiense</th>\n",
       "      <td>3</td>\n",
       "    </tr>\n",
       "    <tr>\n",
       "      <th>Mycobacterium alvei</th>\n",
       "      <td>4</td>\n",
       "    </tr>\n",
       "    <tr>\n",
       "      <th>Mycobacterium angelicum</th>\n",
       "      <td>3</td>\n",
       "    </tr>\n",
       "  </tbody>\n",
       "</table>\n",
       "</div>"
      ],
      "text/plain": [
       "                         Abundance\n",
       "Species                           \n",
       "Mycobacterium abscessus         63\n",
       "Mycobacterium africanum          4\n",
       "Mycobacterium aichiense          3\n",
       "Mycobacterium alvei              4\n",
       "Mycobacterium angelicum          3"
      ]
     },
     "execution_count": 10,
     "metadata": {},
     "output_type": "execute_result"
    }
   ],
   "source": [
    "## Randomly select two species (Keep Cultures)\n",
    "df_mult = df_filtered[df_filtered['Species'].isin(test)]\n",
    "len(df_mult)\n",
    "\n",
    "df3 = df_mult[['Name','Species']].groupby('Species').agg(['count'])\n",
    "df3.columns = ['Abundance']\n",
    "df3.head()"
   ]
  },
  {
   "cell_type": "code",
   "execution_count": 11,
   "metadata": {},
   "outputs": [
    {
     "data": {
      "text/html": [
       "<div>\n",
       "<style>\n",
       "    .dataframe thead tr:only-child th {\n",
       "        text-align: right;\n",
       "    }\n",
       "\n",
       "    .dataframe thead th {\n",
       "        text-align: left;\n",
       "    }\n",
       "\n",
       "    .dataframe tbody tr th {\n",
       "        vertical-align: top;\n",
       "    }\n",
       "</style>\n",
       "<table border=\"1\" class=\"dataframe\">\n",
       "  <thead>\n",
       "    <tr style=\"text-align: right;\">\n",
       "      <th></th>\n",
       "      <th>Abundance</th>\n",
       "    </tr>\n",
       "    <tr>\n",
       "      <th>Species</th>\n",
       "      <th></th>\n",
       "    </tr>\n",
       "  </thead>\n",
       "  <tbody>\n",
       "    <tr>\n",
       "      <th>Mycobacterium abscessus</th>\n",
       "      <td>2</td>\n",
       "    </tr>\n",
       "    <tr>\n",
       "      <th>Mycobacterium africanum</th>\n",
       "      <td>2</td>\n",
       "    </tr>\n",
       "    <tr>\n",
       "      <th>Mycobacterium aichiense</th>\n",
       "      <td>2</td>\n",
       "    </tr>\n",
       "    <tr>\n",
       "      <th>Mycobacterium alvei</th>\n",
       "      <td>0</td>\n",
       "    </tr>\n",
       "    <tr>\n",
       "      <th>Mycobacterium angelicum</th>\n",
       "      <td>0</td>\n",
       "    </tr>\n",
       "  </tbody>\n",
       "</table>\n",
       "</div>"
      ],
      "text/plain": [
       "                         Abundance\n",
       "Species                           \n",
       "Mycobacterium abscessus          2\n",
       "Mycobacterium africanum          2\n",
       "Mycobacterium aichiense          2\n",
       "Mycobacterium alvei              0\n",
       "Mycobacterium angelicum          0"
      ]
     },
     "execution_count": 11,
     "metadata": {},
     "output_type": "execute_result"
    }
   ],
   "source": [
    "## Count Abundance of Culture Codes\n",
    "df4 = df_mult[['Species', 'Cultures']].groupby('Species').sum()\n",
    "df4.columns = ['Abundance']\n",
    "df4.head()"
   ]
  },
  {
   "cell_type": "code",
   "execution_count": 12,
   "metadata": {
    "collapsed": true
   },
   "outputs": [],
   "source": [
    "### Multiples with 0\n",
    "zeros = df4[df4['Abundance'] < 1]\n",
    "zeros = list(zeros.index)\n",
    "\n",
    "\n",
    "### Multiples with 1\n",
    "ones = df4[df4['Abundance'] == 1]\n",
    "ones = list(ones.index)\n",
    "\n",
    "\n",
    "### Multiples with 2\n",
    "twos = df4[df4['Abundance'] == 2]\n",
    "twos = list(twos.index)\n",
    "\n",
    "### Multiples with Greater than 2\n",
    "greater = df4[df4['Abundance'] > 2]\n",
    "greater = list(greater.index)"
   ]
  },
  {
   "cell_type": "code",
   "execution_count": 13,
   "metadata": {
    "collapsed": true
   },
   "outputs": [],
   "source": [
    "## Select Accession of Organism with two cultures \n",
    "twos_A = df_mult[df_mult['Species'].isin(twos)]\n",
    "twos_A = twos_A[twos_A['Cultures'] == 1]\n",
    "twos_A = list(twos_A['Accession'])\n",
    "twos_list = twos_A"
   ]
  },
  {
   "cell_type": "code",
   "execution_count": 14,
   "metadata": {},
   "outputs": [
    {
     "data": {
      "text/plain": [
       "52"
      ]
     },
     "execution_count": 14,
     "metadata": {},
     "output_type": "execute_result"
    }
   ],
   "source": [
    "## Greater than twos\n",
    "import random\n",
    "my_acc = []\n",
    "greatera = df_mult[df_mult['Species'].isin(greater)]\n",
    "greatera = greatera[greatera['Cultures'] == 1]\n",
    "for name, group in greatera.groupby('Species'):\n",
    "    my_list = list(group['Accession'])\n",
    "    one, two = random.sample(my_list,2)\n",
    "    my_acc.append(one)\n",
    "    my_acc.append(two)\n",
    "   \n",
    "greater_list = my_acc\n",
    "len(greater_list)"
   ]
  },
  {
   "cell_type": "code",
   "execution_count": 15,
   "metadata": {
    "collapsed": true
   },
   "outputs": [],
   "source": [
    "## Ones\n",
    "my_ones = []\n",
    "onesa = df_filtered[df_filtered['Species'].isin(ones)]\n",
    "onesa_1 = onesa[onesa['Cultures'] == 1]\n",
    "onesa_1 = list(onesa_1['Accession'])\n",
    "onesa = onesa[onesa['Cultures'] == 0]\n",
    "for name, group in onesa.groupby('Species'):\n",
    "    my_list = list(group['Accession'])\n",
    "    one = random.sample(my_list, 1)\n",
    "    my_ones.append(one)\n",
    "\n",
    "my_ones = [item for sublist in my_ones for item in sublist]\n",
    "ones_list = my_ones+onesa_1"
   ]
  },
  {
   "cell_type": "code",
   "execution_count": 16,
   "metadata": {},
   "outputs": [
    {
     "data": {
      "text/plain": [
       "52"
      ]
     },
     "execution_count": 16,
     "metadata": {},
     "output_type": "execute_result"
    }
   ],
   "source": [
    "## Zeros\n",
    "my_zeros = []\n",
    "zeroa = df_mult[df_mult['Species'].isin(zeros)]\n",
    "zeroa = zeroa[zeroa['Cultures'] == 0]\n",
    "for name, group in zeroa.groupby('Species'):\n",
    "    my_list = list(group['Accession'])\n",
    "    one, two = random.sample(my_list,2)\n",
    "    my_zeros.append(one)\n",
    "    my_zeros.append(two)\n",
    "    \n",
    "zeros_list = my_zeros\n",
    "len(zeros_list)"
   ]
  },
  {
   "cell_type": "code",
   "execution_count": 17,
   "metadata": {
    "collapsed": true
   },
   "outputs": [],
   "source": [
    "## Combine all Accessions\n",
    "Combined_Accessions = zeros_list + ones_list + twos_list + greater_list + small_counts"
   ]
  },
  {
   "cell_type": "code",
   "execution_count": 18,
   "metadata": {},
   "outputs": [
    {
     "data": {
      "text/plain": [
       "318"
      ]
     },
     "execution_count": 18,
     "metadata": {},
     "output_type": "execute_result"
    }
   ],
   "source": [
    "df5 = df_filtered[df_filtered['Accession'].isin(Combined_Accessions)]\n",
    "len(df5)"
   ]
  },
  {
   "cell_type": "markdown",
   "metadata": {
    "collapsed": true
   },
   "source": [
    "#### Write Species to Excel and Filter Sequences by Accession"
   ]
  },
  {
   "cell_type": "code",
   "execution_count": 40,
   "metadata": {
    "collapsed": true
   },
   "outputs": [],
   "source": [
    "writer = pd.ExcelWriter('Counts_of_Species2.xlsx')\n",
    "df5.to_excel(writer, \"Sheet1\")\n",
    "writer.save()"
   ]
  },
  {
   "cell_type": "code",
   "execution_count": 41,
   "metadata": {
    "collapsed": true
   },
   "outputs": [],
   "source": [
    "from Bio import SeqIO\n",
    "\n",
    "with open('../hsp65.fasta', 'w') as out_file:\n",
    "    for fasta in SeqIO.parse('../data/hsp65/sequence.fasta','fasta'):\n",
    "        name, sequence = fasta.id, fasta.seq\n",
    "        if name in Combined_Accessions:\n",
    "            SeqIO.write(fasta, out_file, 'fasta')"
   ]
  },
  {
   "cell_type": "markdown",
   "metadata": {},
   "source": [
    "### Check Accession Overlap Here"
   ]
  },
  {
   "cell_type": "code",
   "execution_count": 26,
   "metadata": {
    "collapsed": true
   },
   "outputs": [],
   "source": [
    "from Bio import SeqIO\n",
    "from collections import defaultdict\n",
    "records=list(SeqIO.parse(\"../Databases/hsp65/hsp65_region.fasta\", \"fasta\"))"
   ]
  },
  {
   "cell_type": "markdown",
   "metadata": {},
   "source": [
    "#### Find Records that Share the Same Sequence"
   ]
  },
  {
   "cell_type": "code",
   "execution_count": 27,
   "metadata": {},
   "outputs": [
    {
     "data": {
      "text/plain": [
       "229"
      ]
     },
     "execution_count": 27,
     "metadata": {},
     "output_type": "execute_result"
    }
   ],
   "source": [
    "from collections import OrderedDict\n",
    "\n",
    "d = OrderedDict()\n",
    "for record in records:\n",
    "    if record.seq in d:\n",
    "        d[record.seq].append(record)\n",
    "    else:\n",
    "        d[record.seq] = [record]\n",
    "        \n",
    "len(d)"
   ]
  },
  {
   "cell_type": "code",
   "execution_count": 55,
   "metadata": {},
   "outputs": [
    {
     "data": {
      "text/plain": [
       "OrderedDict([(Seq('GAGGACCCGTACGAGAAGATCGGCGCCGAGCTGGTCAAGGAAGTCGCCAAGAAG...CCG', SingleLetterAlphabet()),\n",
       "              [SeqRecord(seq=Seq('GAGGACCCGTACGAGAAGATCGGCGCCGAGCTGGTCAAGGAAGTCGCCAAGAAG...CCG', SingleLetterAlphabet()), id='EU239787.1', name='EU239787.1', description='EU239787.1 Mycobacterium marseillense strain 5356591 heat shock protein 65-like (hsp65) gene, partial sequence', dbxrefs=[]),\n",
       "               SeqRecord(seq=Seq('GAGGACCCGTACGAGAAGATCGGCGCCGAGCTGGTCAAGGAAGTCGCCAAGAAG...CCG', SingleLetterAlphabet()), id='HM602037.1', name='HM602037.1', description='HM602037.1 Mycobacterium marseillense strain CIP 109828 65 kDa heat shock protein (hsp65) gene, partial cds', dbxrefs=[])]),\n",
       "             (Seq('GAGGACCCGTACGAGAAGATCGGCGCCGAGCTGGTCAAAGAGGTCGCCAAGAAG...CCG', SingleLetterAlphabet()),\n",
       "              [SeqRecord(seq=Seq('GAGGACCCGTACGAGAAGATCGGCGCCGAGCTGGTCAAAGAGGTCGCCAAGAAG...CCG', SingleLetterAlphabet()), id='FJ172314.1', name='FJ172314.1', description='FJ172314.1 Mycobacterium bacteremicum strain ATCC 25791 heat shock protein 65 (hsp65) gene, partial cds', dbxrefs=[])]),\n",
       "             (Seq('GAGGACCCGTACGAGAAGATCGGCGCCGAGCTGGTCAAGGAAGTCGCCAAGAAG...CCG', SingleLetterAlphabet()),\n",
       "              [SeqRecord(seq=Seq('GAGGACCCGTACGAGAAGATCGGCGCCGAGCTGGTCAAGGAAGTCGCCAAGAAG...CCG', SingleLetterAlphabet()), id='DQ841182.1', name='DQ841182.1', description='DQ841182.1 Mycobacterium aromaticivorans strain JS19b1 65 kDa heat shock protein (hsp65) gene, partial cds', dbxrefs=[])]),\n",
       "             (Seq('GAGGACCCTTACGAGAAGATCGGCGCCGAGCTGGTCAAGGAAGTCGCCAAGAAG...CCG', SingleLetterAlphabet()),\n",
       "              [SeqRecord(seq=Seq('GAGGACCCTTACGAGAAGATCGGCGCCGAGCTGGTCAAGGAAGTCGCCAAGAAG...CCG', SingleLetterAlphabet()), id='DQ841181.1', name='DQ841181.1', description='DQ841181.1 Mycobacterium rufum strain JS14 65 kDa heat shock protein (hsp65) gene, partial cds', dbxrefs=[])]),\n",
       "             (Seq('GAGGACCCGTACGAGAAGATCGGCGCCGAGCTGGTCAAGGAAGTCGCCAAGAAG...CCG', SingleLetterAlphabet()),\n",
       "              [SeqRecord(seq=Seq('GAGGACCCGTACGAGAAGATCGGCGCCGAGCTGGTCAAGGAAGTCGCCAAGAAG...CCG', SingleLetterAlphabet()), id='DQ533997.1', name='DQ533997.1', description='DQ533997.1 Mycobacterium pallens strain czh-8 65 kDa heat shock protein (hsp65) gene, partial cds', dbxrefs=[])]),\n",
       "             (Seq('GAGGACCCGTACGAGAAGATCGGCGCTGAGCTGGTCAAGGAAGTCGCCAAGAAG...CCG', SingleLetterAlphabet()),\n",
       "              [SeqRecord(seq=Seq('GAGGACCCGTACGAGAAGATCGGCGCTGAGCTGGTCAAGGAAGTCGCCAAGAAG...CCG', SingleLetterAlphabet()), id='AY859679.1', name='AY859679.1', description='AY859679.1 Mycobacterium barrassiae CIP 108545 65 kDa heat shock protein (hsp65) gene, partial cds', dbxrefs=[])]),\n",
       "             (Seq('GAGGACCCGTACGAGAAGATCGGCGCCGAGCTGGTCAAGGAAGTCGCCAAGAAG...CCG', SingleLetterAlphabet()),\n",
       "              [SeqRecord(seq=Seq('GAGGACCCGTACGAGAAGATCGGCGCCGAGCTGGTCAAGGAAGTCGCCAAGAAG...CCG', SingleLetterAlphabet()), id='EU239785.1', name='EU239785.1', description='EU239785.1 Mycobacterium colombiense strain CIP 108962 heat shock protein 65-like (hsp65) gene, partial sequence', dbxrefs=[]),\n",
       "               SeqRecord(seq=Seq('GAGGACCCGTACGAGAAGATCGGCGCCGAGCTGGTCAAGGAAGTCGCCAAGAAG...CCG', SingleLetterAlphabet()), id='GQ153298.1', name='GQ153298.1', description='GQ153298.1 Mycobacterium colombiense strain CIP108962 Hsp65 (hsp65) gene, partial cds', dbxrefs=[])]),\n",
       "             (Seq('GAGGACCCGTACGAGAAGATCGGCGCTGAGCTGGTCAAGGAAGTTGCCAAGAAG...CCG', SingleLetterAlphabet()),\n",
       "              [SeqRecord(seq=Seq('GAGGACCCGTACGAGAAGATCGGCGCTGAGCTGGTCAAGGAAGTTGCCAAGAAG...CCG', SingleLetterAlphabet()), id='KM973026.1', name='KM973026.1', description='KM973026.1 Mycobacterium saopaulense strain EPM10906 heat shock protein 65 (hsp65) gene, partial cds', dbxrefs=[]),\n",
       "               SeqRecord(seq=Seq('GAGGACCCGTACGAGAAGATCGGCGCTGAGCTGGTCAAGGAAGTTGCCAAGAAG...CCG', SingleLetterAlphabet()), id='KM973025.1', name='KM973025.1', description='KM973025.1 Mycobacterium saopaulense strain EPM10695 heat shock protein 65 (hsp65) gene, partial cds', dbxrefs=[])]),\n",
       "             (Seq('GAGGACCCGTACGAGAAGATCGGCGCCGAGCTGGTCAAAGAGGTCGCCAAGAAG...CCG', SingleLetterAlphabet()),\n",
       "              [SeqRecord(seq=Seq('GAGGACCCGTACGAGAAGATCGGCGCCGAGCTGGTCAAAGAGGTCGCCAAGAAG...CCG', SingleLetterAlphabet()), id='FJ172320.1', name='FJ172320.1', description='FJ172320.1 Mycobacterium neoaurum strain ATCC 25795 heat shock protein 65 (hsp65) gene, partial cds', dbxrefs=[]),\n",
       "               SeqRecord(seq=Seq('GAGGACCCGTACGAGAAGATCGGCGCCGAGCTGGTCAAAGAGGTCGCCAAGAAG...CCG', SingleLetterAlphabet()), id='AY299157.1', name='AY299157.1', description='AY299157.1 Mycobacterium parafortuitum strain ATCC 19686 heat shock protein 65 (hsp65) gene, partial cds', dbxrefs=[])]),\n",
       "             (Seq('GAGGACCCGTACGAGAAGATCGGCGCTGAGCTGGTCAAAGAGGTCGCCAAGAAG...CCG', SingleLetterAlphabet()),\n",
       "              [SeqRecord(seq=Seq('GAGGACCCGTACGAGAAGATCGGCGCTGAGCTGGTCAAAGAGGTCGCCAAGAAG...CCG', SingleLetterAlphabet()), id='AY458070.1', name='AY458070.1', description='AY458070.1 Mycobacterium mageritense strain CIP 104973 65 kDa heat shock protein (hsp65) gene, partial cds', dbxrefs=[]),\n",
       "               SeqRecord(seq=Seq('GAGGACCCGTACGAGAAGATCGGCGCTGAGCTGGTCAAAGAGGTCGCCAAGAAG...CCG', SingleLetterAlphabet()), id='AF547853.1', name='AF547853.1', description='AF547853.1 Mycobacterium mageritense strain CIP 104973 65 kDa heat shock protein (hsp65) gene, partial cds', dbxrefs=[])]),\n",
       "             (Seq('GAGGACCCGTACGAGAAGATCGGCGCCGAGCTGGTCAAGGAAGTCGCCAAGAAG...CCG', SingleLetterAlphabet()),\n",
       "              [SeqRecord(seq=Seq('GAGGACCCGTACGAGAAGATCGGCGCCGAGCTGGTCAAGGAAGTCGCCAAGAAG...CCG', SingleLetterAlphabet()), id='AY368457.1', name='AY368457.1', description='AY368457.1 Mycobacterium nebraskense 65 kDa heat shock protein (hsp65) gene, partial cds', dbxrefs=[])]),\n",
       "             (Seq('GAGGACCCCTACGAGAAGATCGGCGCCGAGCTGGTCAAGGAAGTCGCCAAGAAG...CCG', SingleLetterAlphabet()),\n",
       "              [SeqRecord(seq=Seq('GAGGACCCCTACGAGAAGATCGGCGCCGAGCTGGTCAAGGAAGTCGCCAAGAAG...CCG', SingleLetterAlphabet()), id='GQ153297.1', name='GQ153297.1', description='GQ153297.1 Mycobacterium arosiense strain ATCC BAA-1401 Hsp65 (hsp65) gene, partial cds', dbxrefs=[]),\n",
       "               SeqRecord(seq=Seq('GAGGACCCCTACGAGAAGATCGGCGCCGAGCTGGTCAAGGAAGTCGCCAAGAAG...CCG', SingleLetterAlphabet()), id='JF491321.1', name='JF491321.1', description='JF491321.1 Mycobacterium arosiense strain DSM 45069 GroEL (hsp65) gene, partial cds', dbxrefs=[])]),\n",
       "             (Seq('GAGGACCCGTACGAGAAGATCGGCGCCGAGCTGGTCAAGGAAGTCGCCAAGAAG...CCG', SingleLetterAlphabet()),\n",
       "              [SeqRecord(seq=Seq('GAGGACCCGTACGAGAAGATCGGCGCCGAGCTGGTCAAGGAAGTCGCCAAGAAG...CCG', SingleLetterAlphabet()), id='GQ153295.1', name='GQ153295.1', description='GQ153295.1 Mycobacterium parascrofulaceum strain ATCC BAA-614 Hsp65 (hsp65) gene, partial cds', dbxrefs=[])]),\n",
       "             (Seq('GAGGACCCGTACGAGAAGATCGGCGCTGAGCTGGTCAAAGAGGTCGCCAAGAAG...CCG', SingleLetterAlphabet()),\n",
       "              [SeqRecord(seq=Seq('GAGGACCCGTACGAGAAGATCGGCGCTGAGCTGGTCAAAGAGGTCGCCAAGAAG...CCG', SingleLetterAlphabet()), id='AY255477.1', name='AY255477.1', description='AY255477.1 Mycobacterium canariasense Hsp65 (hsp65) gene, partial cds', dbxrefs=[]),\n",
       "               SeqRecord(seq=Seq('GAGGACCCGTACGAGAAGATCGGCGCTGAGCTGGTCAAAGAGGTCGCCAAGAAG...CCG', SingleLetterAlphabet()), id='JF491316.1', name='JF491316.1', description='JF491316.1 Mycobacterium canariasense strain DSM 44828 GroEL (hsp65) gene, partial cds', dbxrefs=[])]),\n",
       "             (Seq('GAGGACCCGTACGAGAAGATCGGCGCCGAGCTGGTCAAGGAAGTTGCGAAGAAG...CCG', SingleLetterAlphabet()),\n",
       "              [SeqRecord(seq=Seq('GAGGACCCGTACGAGAAGATCGGCGCCGAGCTGGTCAAGGAAGTTGCGAAGAAG...CCG', SingleLetterAlphabet()), id='DQ866777.1', name='DQ866777.1', description='DQ866777.1 Mycobacterium salmoniphilum strain ATCC 13758 heat shock protein 65 (hsp65) gene, partial cds', dbxrefs=[])]),\n",
       "             (Seq('GAGGACCCGTACGAGAAGATCGGCGCCGAGCTGGTCAAGGAAGTCGCCAAGAAG...CCG', SingleLetterAlphabet()),\n",
       "              [SeqRecord(seq=Seq('GAGGACCCGTACGAGAAGATCGGCGCCGAGCTGGTCAAGGAAGTCGCCAAGAAG...CCG', SingleLetterAlphabet()), id='HM022220.1', name='HM022220.1', description='HM022220.1 Mycobacterium europaeum strain DSM 45397 65 kDa heat shock protein (hsp65) gene, partial cds', dbxrefs=[])]),\n",
       "             (Seq('GAGGACCCCTACGAGAAGATCGGCGCCGAGCTGGTCAAAGAGGTCGCCAAGAAG...CCG', SingleLetterAlphabet()),\n",
       "              [SeqRecord(seq=Seq('GAGGACCCCTACGAGAAGATCGGCGCCGAGCTGGTCAAAGAGGTCGCCAAGAAG...CCG', SingleLetterAlphabet()), id='JF271827.1', name='JF271827.1', description='JF271827.1 Mycobacterium koreense strain 01-305 heat shock protein 65 (hsp65) gene, partial cds', dbxrefs=[])]),\n",
       "             (Seq('GAGGACGCCTACGAGAAGATCGGCGCCGAGCTGGTCAAAGAGGTCGCCAAGAAG...CCG', SingleLetterAlphabet()),\n",
       "              [SeqRecord(seq=Seq('GAGGACGCCTACGAGAAGATCGGCGCCGAGCTGGTCAAAGAGGTCGCCAAGAAG...CCG', SingleLetterAlphabet()), id='JF271824.1', name='JF271824.1', description='JF271824.1 Mycobacterium parakoreense strain 299 heat shock protein 65 (hsp65) gene, partial cds', dbxrefs=[])]),\n",
       "             (Seq('GAGGACCCCTACGAGAAGATCGGCGCCGAGCTGGTCAAAGAGGTCGCCAAGAAG...CCG', SingleLetterAlphabet()),\n",
       "              [SeqRecord(seq=Seq('GAGGACCCCTACGAGAAGATCGGCGCCGAGCTGGTCAAAGAGGTCGCCAAGAAG...CCG', SingleLetterAlphabet()), id='GU564405.1', name='GU564405.1', description='GU564405.1 Mycobacterium algericum DSM 45454 65 kDa heat shock protein (hsp65) gene, partial cds', dbxrefs=[]),\n",
       "               SeqRecord(seq=Seq('GAGGACCCCTACGAGAAGATCGGCGCCGAGCTGGTCAAAGAGGTCGCCAAGAAG...CCG', SingleLetterAlphabet()), id='KX824047.1', name='KX824047.1', description='KX824047.1 Mycobacterium algericum strain 2895/13 HGM 65 kDa heat shock protein (hsp65) gene, partial cds', dbxrefs=[])]),\n",
       "             (Seq('GAGGACCCGTACGAGAAGATCGGCGCTGAGCTGGTCAAGGAAGTTGCCAAGAAG...CCG', SingleLetterAlphabet()),\n",
       "              [SeqRecord(seq=Seq('GAGGACCCGTACGAGAAGATCGGCGCTGAGCTGGTCAAGGAAGTTGCCAAGAAG...CCG', SingleLetterAlphabet()), id='EU732722.1', name='EU732722.1', description='EU732722.1 Mycobacterium bolletii strain Asan30754 heat shock protein 65 (hsp65) gene, partial cds', dbxrefs=[])]),\n",
       "             (Seq('GAGGACCCCTACGAGAAGATCGGCGCCGAGCTGGTCAAGGAGGTCGCCAAGAAG...CCG', SingleLetterAlphabet()),\n",
       "              [SeqRecord(seq=Seq('GAGGACCCCTACGAGAAGATCGGCGCCGAGCTGGTCAAGGAGGTCGCCAAGAAG...CCG', SingleLetterAlphabet()), id='AB239920.1', name='AB239920.1', description='AB239920.1 Mycobacterium kumamotonense hsp65 gene for 65 kDa heat shock protein, partial cds, strain:CST7247 (= GTC2729)', dbxrefs=[]),\n",
       "               SeqRecord(seq=Seq('GAGGACCCCTACGAGAAGATCGGCGCCGAGCTGGTCAAGGAGGTCGCCAAGAAG...CCG', SingleLetterAlphabet()), id='JF491323.1', name='JF491323.1', description='JF491323.1 Mycobacterium kumamotonense strain DSM 45093 GroEL (hsp65) gene, partial cds', dbxrefs=[])]),\n",
       "             (Seq('GAGGACCCGTACGAGAAGATCGGCGCTGAGCTGGTCAAGGAAGTTGCCAAGAAG...CCG', SingleLetterAlphabet()),\n",
       "              [SeqRecord(seq=Seq('GAGGACCCGTACGAGAAGATCGGCGCTGAGCTGGTCAAGGAAGTTGCCAAGAAG...CCG', SingleLetterAlphabet()), id='LC008145.2', name='LC008145.2', description='LC008145.2 Mycobacterium stephanolepidis hsp65 gene for heat shock protein 65, partial cds', dbxrefs=[])]),\n",
       "             (Seq('GAGGACCCGTACGAGAAGATCGGCGCTGAGCTGGTCAAAGAGGTCGCCAAGAAG...CCG', SingleLetterAlphabet()),\n",
       "              [SeqRecord(seq=Seq('GAGGACCCGTACGAGAAGATCGGCGCTGAGCTGGTCAAAGAGGTCGCCAAGAAG...CCG', SingleLetterAlphabet()), id='KP644752.1', name='KP644752.1', description='KP644752.1 Mycobacterium arceuilense strain 352 65 kDa heat shock protein (hsp65) gene, partial cds', dbxrefs=[]),\n",
       "               SeqRecord(seq=Seq('GAGGACCCGTACGAGAAGATCGGCGCTGAGCTGGTCAAAGAGGTCGCCAAGAAG...CCG', SingleLetterAlphabet()), id='KP644751.1', name='KP644751.1', description='KP644751.1 Mycobacterium arceuilense strain 269 65 kDa heat shock protein (hsp65) gene, partial cds', dbxrefs=[])]),\n",
       "             (Seq('GAGGACCCGTACGAGAAGATCGGCGCTGAGCTGGTCAAAGAGGTCGCCAAGAAG...CCG', SingleLetterAlphabet()),\n",
       "              [SeqRecord(seq=Seq('GAGGACCCGTACGAGAAGATCGGCGCTGAGCTGGTCAAAGAGGTCGCCAAGAAG...CCG', SingleLetterAlphabet()), id='KP676926.1', name='KP676926.1', description='KP676926.1 Mycobacterium montmartrense strain 286 65 kDa heat shock protein (hsp65) gene, partial cds', dbxrefs=[]),\n",
       "               SeqRecord(seq=Seq('GAGGACCCGTACGAGAAGATCGGCGCTGAGCTGGTCAAAGAGGTCGCCAAGAAG...CCG', SingleLetterAlphabet()), id='KP676916.1', name='KP676916.1', description='KP676916.1 Mycobacterium montmartrense strain 028 65 kDa heat shock protein (hsp65) gene, partial cds', dbxrefs=[])]),\n",
       "             (Seq('GAGGACCCGTACGAGAAGATCGGCGCTGAGCTGGTCAAAGAGGTCGCCAAGAAG...CCG', SingleLetterAlphabet()),\n",
       "              [SeqRecord(seq=Seq('GAGGACCCGTACGAGAAGATCGGCGCTGAGCTGGTCAAAGAGGTCGCCAAGAAG...CCG', SingleLetterAlphabet()), id='KP676906.1', name='KP676906.1', description='KP676906.1 Mycobacterium lutetiense strain 071 65 kDa heat shock protein (hsp65) gene, partial cds', dbxrefs=[]),\n",
       "               SeqRecord(seq=Seq('GAGGACCCGTACGAGAAGATCGGCGCTGAGCTGGTCAAAGAGGTCGCCAAGAAG...CCG', SingleLetterAlphabet()), id='KP676901.1', name='KP676901.1', description='KP676901.1 Mycobacterium lutetiense strain 024 65 kDa heat shock protein (hsp65) gene, partial cds', dbxrefs=[])]),\n",
       "             (Seq('GAGGACCCCTACGAGAAGATCGGCGCCGAGCTGGTCAAGGAAGTCGCCAAGAAG...CCG', SingleLetterAlphabet()),\n",
       "              [SeqRecord(seq=Seq('GAGGACCCCTACGAGAAGATCGGCGCCGAGCTGGTCAAGGAAGTCGCCAAGAAG...CCG', SingleLetterAlphabet()), id='FJ232523.1', name='FJ232523.1', description='FJ232523.1 Mycobacterium mantenii strain NLA000401474 65 kDa heat shock protein (hsp65) gene, partial cds', dbxrefs=[])]),\n",
       "             (Seq('GAGGACCCGTACGAGAAGATCGGCGCTGAGCTGGTCAAGGAAGTCGCCAAGAAG...CCG', SingleLetterAlphabet()),\n",
       "              [SeqRecord(seq=Seq('GAGGACCCGTACGAGAAGATCGGCGCTGAGCTGGTCAAGGAAGTCGCCAAGAAG...CCG', SingleLetterAlphabet()), id='EU727188.1', name='EU727188.1', description='EU727188.1 Mycobacterium rutilum strain czh-132 65 kD heat-shock protein (hsp65) gene, partial cds', dbxrefs=[])]),\n",
       "             (Seq('GAGGACCCGTACGAGAAGATCGGCGCTGAGCTGGTCAAGGAAGTCGCCAAGAAG...CCG', SingleLetterAlphabet()),\n",
       "              [SeqRecord(seq=Seq('GAGGACCCGTACGAGAAGATCGGCGCTGAGCTGGTCAAGGAAGTCGCCAAGAAG...CCG', SingleLetterAlphabet()), id='EU727187.1', name='EU727187.1', description='EU727187.1 Mycobacterium rutilum strain czh-107 65 kD heat-shock protein (hsp65) gene, partial cds', dbxrefs=[])]),\n",
       "             (Seq('GAGGACCCGTACGAGAAGATCGGCGCTGAGCTGGTCAAAGAGGTCGCCAAGAAG...CCG', SingleLetterAlphabet()),\n",
       "              [SeqRecord(seq=Seq('GAGGACCCGTACGAGAAGATCGGCGCTGAGCTGGTCAAAGAGGTCGCCAAGAAG...CCG', SingleLetterAlphabet()), id='JF491320.1', name='JF491320.1', description='JF491320.1 Mycobacterium monacense strain DSM 44395 GroEL (hsp65) gene, partial cds', dbxrefs=[])]),\n",
       "             (Seq('GAGGACCCGTACGAGAAGATCGGCGCCGAGCTGGTCAAGGAAGTCGCCAAGAAG...CCG', SingleLetterAlphabet()),\n",
       "              [SeqRecord(seq=Seq('GAGGACCCGTACGAGAAGATCGGCGCCGAGCTGGTCAAGGAAGTCGCCAAGAAG...CCG', SingleLetterAlphabet()), id='JF491296.1', name='JF491296.1', description='JF491296.1 Mycobacterium haemophilum strain ATCC 29548 GroEL (hsp65) gene, partial cds', dbxrefs=[]),\n",
       "               SeqRecord(seq=Seq('GAGGACCCGTACGAGAAGATCGGCGCCGAGCTGGTCAAGGAAGTCGCCAAGAAG...CCG', SingleLetterAlphabet()), id='AY299185.1', name='AY299185.1', description='AY299185.1 Mycobacterium haemophilum strain ATCC 29548 heat shock protein 65 (hsp65) gene, partial cds', dbxrefs=[])]),\n",
       "             (Seq('GAGGACCCGTACGAGAAGATCGGCGCTGAGCTGGTCAAGGAAGTTGCCAAGAAG...CCG', SingleLetterAlphabet()),\n",
       "              [SeqRecord(seq=Seq('GAGGACCCGTACGAGAAGATCGGCGCTGAGCTGGTCAAGGAAGTTGCCAAGAAG...CCG', SingleLetterAlphabet()), id='JF491290.1', name='JF491290.1', description='JF491290.1 Mycobacterium abscessus ATCC 19977 GroEL (hsp65) gene, partial cds', dbxrefs=[]),\n",
       "               SeqRecord(seq=Seq('GAGGACCCGTACGAGAAGATCGGCGCTGAGCTGGTCAAGGAAGTTGCCAAGAAG...CCG', SingleLetterAlphabet()), id='EF486338.1', name='EF486338.1', description='EF486338.1 Mycobacterium abscessus strain ATCC 19977 heat shock protein 65 (hsp65) gene, partial cds', dbxrefs=[])]),\n",
       "             (Seq('GAGGACCCGTACGAGAAGATCGGCGCTGAGCTGGTCAAGGAAGTTGCCAAGAAG...CCG', SingleLetterAlphabet()),\n",
       "              [SeqRecord(seq=Seq('GAGGACCCGTACGAGAAGATCGGCGCTGAGCTGGTCAAGGAAGTTGCCAAGAAG...CCG', SingleLetterAlphabet()), id='AY571788.1', name='AY571788.1', description='AY571788.1 Mycobacterium pseudoshottsii Hsp65 (hsp65) gene, partial cds', dbxrefs=[]),\n",
       "               SeqRecord(seq=Seq('GAGGACCCGTACGAGAAGATCGGCGCTGAGCTGGTCAAGGAAGTTGCCAAGAAG...CCG', SingleLetterAlphabet()), id='AY500839.1', name='AY500839.1', description='AY500839.1 Mycobacterium liflandii 65 kDa heat shock protein (hsp65) gene, partial cds', dbxrefs=[]),\n",
       "               SeqRecord(seq=Seq('GAGGACCCGTACGAGAAGATCGGCGCTGAGCTGGTCAAGGAAGTTGCCAAGAAG...CCG', SingleLetterAlphabet()), id='AB548704.1', name='AB548704.1', description='AB548704.1 Mycobacterium pseudoshottsii hsp65 gene for heat shock protein 65, partial cds, strain: MF01', dbxrefs=[])]),\n",
       "             (Seq('GAGGATCCCTACGAGAAGATCGGCGCTGAGCTGGTCAAGGAAGTTGCCAAGAAG...CCG', SingleLetterAlphabet()),\n",
       "              [SeqRecord(seq=Seq('GAGGATCCCTACGAGAAGATCGGCGCTGAGCTGGTCAAGGAAGTTGCCAAGAAG...CCG', SingleLetterAlphabet()), id='AY438091.1', name='AY438091.1', description='AY438091.1 Mycobacterium vanbaalenii 65 kDa heat shock protein (hsp65) gene, partial cds', dbxrefs=[]),\n",
       "               SeqRecord(seq=Seq('GAGGATCCCTACGAGAAGATCGGCGCTGAGCTGGTCAAGGAAGTTGCCAAGAAG...CCG', SingleLetterAlphabet()), id='AM403501.1', name='AM403501.1', description='AM403501.1 Mycobacterium austroafricanum partial hsp65 gene for heat-shock protein 65, strain BHF004', dbxrefs=[])]),\n",
       "             (Seq('GAGGACCCCTACGAGAAGATCGGCGCCGAGCTGGTCAAGGAAGTCGCCAAGAAG...CCG', SingleLetterAlphabet()),\n",
       "              [SeqRecord(seq=Seq('GAGGACCCCTACGAGAAGATCGGCGCCGAGCTGGTCAAGGAAGTCGCCAAGAAG...CCG', SingleLetterAlphabet()), id='AY438084.1', name='AY438084.1', description='AY438084.1 Mycobacterium holsaticum 65 kDa heat shock protein (hsp65) gene, partial cds', dbxrefs=[]),\n",
       "               SeqRecord(seq=Seq('GAGGACCCCTACGAGAAGATCGGCGCCGAGCTGGTCAAGGAAGTCGCCAAGAAG...CCG', SingleLetterAlphabet()), id='AJ310469.1', name='AJ310469.1', description='AJ310469.1 Mycobacterium holsaticum partial hsp65 gene for 65 kDa heat shock protein', dbxrefs=[])]),\n",
       "             (Seq('GAGGACCCGTACGAGAAGATCGGCGCCGAGCTGGTCAAGGAAGTCGCCAAGAAG...CCG', SingleLetterAlphabet()),\n",
       "              [SeqRecord(seq=Seq('GAGGACCCGTACGAGAAGATCGGCGCCGAGCTGGTCAAGGAAGTCGCCAAGAAG...CCG', SingleLetterAlphabet()), id='AY208858.1', name='AY208858.1', description='AY208858.1 Mycobacterium saskatchewanense strain NRCM 00-250 heat shock protein 65 (hsp65) gene, partial cds', dbxrefs=[]),\n",
       "               SeqRecord(seq=Seq('GAGGACCCGTACGAGAAGATCGGCGCCGAGCTGGTCAAGGAAGTCGCCAAGAAG...CCG', SingleLetterAlphabet()), id='JF491331.1', name='JF491331.1', description='JF491331.1 Mycobacterium saskatchewanense strain DSM 44616 GroEL (hsp65) gene, partial cds', dbxrefs=[])]),\n",
       "             (Seq('GAGGATCCGTACGAGAAGATCGGCGCCGAGCTGGTCAAAGAGGTAGCCAAGAAG...CCG', SingleLetterAlphabet()),\n",
       "              [SeqRecord(seq=Seq('GAGGATCCGTACGAGAAGATCGGCGCCGAGCTGGTCAAAGAGGTAGCCAAGAAG...CCG', SingleLetterAlphabet()), id='AF547884.1', name='AF547884.1', description='AF547884.1 Mycobacterium caprae strain CIP 105776 65 kDa heat shock protein (hsp65) gene, partial cds', dbxrefs=[]),\n",
       "               SeqRecord(seq=Seq('GAGGATCCGTACGAGAAGATCGGCGCCGAGCTGGTCAAAGAGGTAGCCAAGAAG...CCG', SingleLetterAlphabet()), id='JF491332.1', name='JF491332.1', description='JF491332.1 Mycobacterium bovis strain ATCC 19210 GroEL (hsp65) gene, partial cds', dbxrefs=[]),\n",
       "               SeqRecord(seq=Seq('GAGGATCCGTACGAGAAGATCGGCGCCGAGCTGGTCAAAGAGGTAGCCAAGAAG...CCG', SingleLetterAlphabet()), id='JF491311.1', name='JF491311.1', description='JF491311.1 Mycobacterium tuberculosis strain ATCC 27294 GroEL (hsp65) gene, partial cds', dbxrefs=[]),\n",
       "               SeqRecord(seq=Seq('GAGGATCCGTACGAGAAGATCGGCGCCGAGCTGGTCAAAGAGGTAGCCAAGAAG...CCG', SingleLetterAlphabet()), id='AF547856.1', name='AF547856.1', description='AF547856.1 Mycobacterium microti strain CIP 104256 65 kDa heat shock protein (hsp65) gene, partial cds', dbxrefs=[]),\n",
       "               SeqRecord(seq=Seq('GAGGATCCGTACGAGAAGATCGGCGCCGAGCTGGTCAAAGAGGTAGCCAAGAAG...CCG', SingleLetterAlphabet()), id='AY299178.1', name='AY299178.1', description='AY299178.1 Mycobacterium bovis strain ATCC 19210 heat shock protein 65 (hsp65) gene, partial cds', dbxrefs=[]),\n",
       "               SeqRecord(seq=Seq('GAGGATCCGTACGAGAAGATCGGCGCCGAGCTGGTCAAAGAGGTAGCCAAGAAG...CCG', SingleLetterAlphabet()), id='AY299144.1', name='AY299144.1', description='AY299144.1 Mycobacterium tuberculosis strain ATCC 27294 heat shock protein 65 (hsp65) gene, partial cds', dbxrefs=[]),\n",
       "               SeqRecord(seq=Seq('GAGGATCCGTACGAGAAGATCGGCGCCGAGCTGGTCAAAGAGGTAGCCAAGAAG...CCG', SingleLetterAlphabet()), id='AY299135.1', name='AY299135.1', description='AY299135.1 Mycobacterium microti strain ATCC 19422 heat shock protein 65 (hsp65) gene, partial cds', dbxrefs=[])]),\n",
       "             (Seq('GAGGACCCGTACGAGAAGATCGGCGCCGAGCTGGTCAAGGAAGTCGCCAAGAAG...CCG', SingleLetterAlphabet()),\n",
       "              [SeqRecord(seq=Seq('GAGGACCCGTACGAGAAGATCGGCGCCGAGCTGGTCAAGGAAGTCGCCAAGAAG...CCG', SingleLetterAlphabet()), id='DQ533996.1', name='DQ533996.1', description='DQ533996.1 Mycobacterium crocinum strain czh-3 65 kDa heat shock protein (hsp65) gene, partial cds', dbxrefs=[]),\n",
       "               SeqRecord(seq=Seq('GAGGACCCGTACGAGAAGATCGGCGCCGAGCTGGTCAAGGAAGTCGCCAAGAAG...CCG', SingleLetterAlphabet()), id='DQ533995.1', name='DQ533995.1', description='DQ533995.1 Mycobacterium crocinum strain czh-1A 65 kDa heat shock protein (hsp65) gene, partial cds', dbxrefs=[])]),\n",
       "             (Seq('GAGGATCCCTACGAGAAGATCGGCGCAGAGCTGGTCAAGGAAGTCGCCAAGAAG...CCG', SingleLetterAlphabet()),\n",
       "              [SeqRecord(seq=Seq('GAGGATCCCTACGAGAAGATCGGCGCAGAGCTGGTCAAGGAAGTCGCCAAGAAG...CCG', SingleLetterAlphabet()), id='KC010487.1', name='KC010487.1', description='KC010487.1 Mycobacterium arabiense strain YIM 121001 heat shock protein (hsp65) gene, partial cds', dbxrefs=[])]),\n",
       "             (Seq('GAGGATCCCTACGAGAAGATCGGCGCAGAGCTGGTCAAGGAAGTCGCCAAGAAG...CCG', SingleLetterAlphabet()),\n",
       "              [SeqRecord(seq=Seq('GAGGATCCCTACGAGAAGATCGGCGCAGAGCTGGTCAAGGAAGTCGCCAAGAAG...CCG', SingleLetterAlphabet()), id='KC010486.1', name='KC010486.1', description='KC010486.1 Mycobacterium sediminis strain YIM M13028 heat shock protein (hsp65) gene, partial cds', dbxrefs=[])]),\n",
       "             (Seq('-------------AAGAGATCGGCGCTGAGCTGGTCAAGGAAGTTGCCAAGAAG...CCG', SingleLetterAlphabet()),\n",
       "              [SeqRecord(seq=Seq('-------------AAGAGATCGGCGCTGAGCTGGTCAAGGAAGTTGCCAAGAAG...CCG', SingleLetterAlphabet()), id='HQ009485.1', name='HQ009485.1', description='HQ009485.1 Mycobacterium iranicum strain M05 heat shock protein 65 kDa (hsp65) gene, partial cds', dbxrefs=[])]),\n",
       "             (Seq('GAGGACCCGTACGAGAAGATCGGCGCTGAGCTGGTCAAGGAGGTCGCCAAGAAG...CCG', SingleLetterAlphabet()),\n",
       "              [SeqRecord(seq=Seq('GAGGACCCGTACGAGAAGATCGGCGCTGAGCTGGTCAAGGAGGTCGCCAAGAAG...CCG', SingleLetterAlphabet()), id='AY859680.1', name='AY859680.1', description='AY859680.1 Mycobacterium moriokaense CIP 105393 65 kDa heat shock protein (hsp65) gene, partial cds', dbxrefs=[]),\n",
       "               SeqRecord(seq=Seq('GAGGACCCGTACGAGAAGATCGGCGCTGAGCTGGTCAAGGAGGTCGCCAAGAAG...CCG', SingleLetterAlphabet()), id='AF547857.1', name='AF547857.1', description='AF547857.1 Mycobacterium moriokaense strain CIP 105393 65 kDa heat shock protein (hsp65) gene, partial cds', dbxrefs=[])]),\n",
       "             (Seq('GAGGACCCGTACGAGAAGATCGGCGCTGAGCTGGTCAAGGAAGTTGCCAAGAAG...CCG', SingleLetterAlphabet()),\n",
       "              [SeqRecord(seq=Seq('GAGGACCCGTACGAGAAGATCGGCGCTGAGCTGGTCAAGGAAGTTGCCAAGAAG...CCG', SingleLetterAlphabet()), id='AY859677.1', name='AY859677.1', description='AY859677.1 Mycobacterium aubagnense CIP 108543 65 kDa heat shock protein (hsp65) gene, partial cds', dbxrefs=[]),\n",
       "               SeqRecord(seq=Seq('GAGGACCCGTACGAGAAGATCGGCGCTGAGCTGGTCAAGGAAGTTGCCAAGAAG...CCG', SingleLetterAlphabet()), id='DQ987727.1', name='DQ987727.1', description='DQ987727.1 Mycobacterium aubagnense strain CCUG 50186 65 kDa heat shock protein (hsp65) gene, partial cds', dbxrefs=[])]),\n",
       "             (Seq('GAGGACCCCTACGAGAAGATCGGCGCCGAGCTGGTCAAGGAAGTCGCCAAGAAG...CCG', SingleLetterAlphabet()),\n",
       "              [SeqRecord(seq=Seq('GAGGACCCCTACGAGAAGATCGGCGCCGAGCTGGTCAAGGAAGTCGCCAAGAAG...CCG', SingleLetterAlphabet()), id='AB370171.1', name='AB370171.1', description='AB370171.1 Mycobacterium kyorinense hsp65 gene for heat shock protein 65, partial cds, strain: KUM 060204', dbxrefs=[]),\n",
       "               SeqRecord(seq=Seq('GAGGACCCCTACGAGAAGATCGGCGCCGAGCTGGTCAAGGAAGTCGCCAAGAAG...CCG', SingleLetterAlphabet()), id='AY299181.1', name='AY299181.1', description='AY299181.1 Mycobacterium celatum strain ATCC 51130 heat shock protein 65 (hsp65) gene, partial cds', dbxrefs=[]),\n",
       "               SeqRecord(seq=Seq('GAGGACCCCTACGAGAAGATCGGCGCCGAGCTGGTCAAGGAAGTCGCCAAGAAG...CCG', SingleLetterAlphabet()), id='HM602040.1', name='HM602040.1', description='HM602040.1 Mycobacterium kyorinense strain DSM 45166 65 kDa heat shock protein (hsp65) gene, partial cds', dbxrefs=[])]),\n",
       "             (Seq('GAGGACCCGTACGAGAAGATCGGCGCTGAGCTGGTCAAGGAAGTCGCCAAGAAG...CCG', SingleLetterAlphabet()),\n",
       "              [SeqRecord(seq=Seq('GAGGACCCGTACGAGAAGATCGGCGCTGAGCTGGTCAAGGAAGTCGCCAAGAAG...CCG', SingleLetterAlphabet()), id='LC126333.1', name='LC126333.1', description='LC126333.1 Mycobacterium aquiterrae hsp65 gene for heat shock protein, complete cds', dbxrefs=[])]),\n",
       "             (Seq('GAGGACCCTTACGAGAAGATCGGCGCCGAGCTGGTCAAGGAAGTCGCCAAGAAG...CCG', SingleLetterAlphabet()),\n",
       "              [SeqRecord(seq=Seq('GAGGACCCTTACGAGAAGATCGGCGCCGAGCTGGTCAAGGAAGTCGCCAAGAAG...CCG', SingleLetterAlphabet()), id='KP670342.1', name='KP670342.1', description='KP670342.1 Mycobacterium paraintracellulare strain MOTT64 heat shock protein 65 (hsp65) gene, partial cds', dbxrefs=[]),\n",
       "               SeqRecord(seq=Seq('GAGGACCCTTACGAGAAGATCGGCGCCGAGCTGGTCAAGGAAGTCGCCAAGAAG...CCG', SingleLetterAlphabet()), id='KP670340.1', name='KP670340.1', description='KP670340.1 Mycobacterium paraintracellulare strain Asan 29591 heat shock protein 65 (hsp65) gene, partial cds', dbxrefs=[]),\n",
       "               SeqRecord(seq=Seq('GAGGACCCTTACGAGAAGATCGGCGCCGAGCTGGTCAAGGAAGTCGCCAAGAAG...CCG', SingleLetterAlphabet()), id='GQ153296.1', name='GQ153296.1', description='GQ153296.1 Mycobacterium chimaera strain CIP107892 Hsp65 (hsp65) gene, partial cds', dbxrefs=[]),\n",
       "               SeqRecord(seq=Seq('GAGGACCCTTACGAGAAGATCGGCGCCGAGCTGGTCAAGGAAGTCGCCAAGAAG...CCG', SingleLetterAlphabet()), id='JF795578.1', name='JF795578.1', description='JF795578.1 Mycobacterium chimaera strain DSM 44623 heat shock protein 65 (hsp65) gene, partial cds', dbxrefs=[]),\n",
       "               SeqRecord(seq=Seq('GAGGACCCTTACGAGAAGATCGGCGCCGAGCTGGTCAAGGAAGTCGCCAAGAAG...CCG', SingleLetterAlphabet()), id='KF910259.1', name='KF910259.1', description='KF910259.1 Mycobacterium intracellulare strain QIA-20 heat shock protein 65 (hsp65) gene, partial cds', dbxrefs=[]),\n",
       "               SeqRecord(seq=Seq('GAGGACCCTTACGAGAAGATCGGCGCCGAGCTGGTCAAGGAAGTCGCCAAGAAG...CCG', SingleLetterAlphabet()), id='KF910251.1', name='KF910251.1', description='KF910251.1 Mycobacterium intracellulare strain QIA-12 heat shock protein 65 (hsp65) gene, partial cds', dbxrefs=[])]),\n",
       "             (Seq('GAGGACCCGTACGAGAAGATCGGCGCAGAGCTGGTCAAGGAAGTCGCCAAGAAG...CCG', SingleLetterAlphabet()),\n",
       "              [SeqRecord(seq=Seq('GAGGACCCGTACGAGAAGATCGGCGCAGAGCTGGTCAAGGAAGTCGCCAAGAAG...CCG', SingleLetterAlphabet()), id='FJ172326.1', name='FJ172326.1', description='FJ172326.1 Mycobacterium aurum strain ATCC 23366 heat shock protein 65 (hsp65) gene, partial cds', dbxrefs=[])]),\n",
       "             (Seq('GAGGACCCGTACGAGAAGATCGGCGCAGAGCTGGTCAAAGAAGTTGCCAAGAAG...CCG', SingleLetterAlphabet()),\n",
       "              [SeqRecord(seq=Seq('GAGGACCCGTACGAGAAGATCGGCGCAGAGCTGGTCAAAGAAGTTGCCAAGAAG...CCG', SingleLetterAlphabet()), id='EU921671.1', name='EU921671.1', description='EU921671.1 Mycobacterium riyadhense strain NLA000201958 65 kDa heat shock protein (hsp65) gene, partial cds', dbxrefs=[])]),\n",
       "             (Seq('GAGGACCCCTACGAGAAGATCGGCGCCGAGCTGGTCAAGGAAGTCGCCAAGAAG...CCG', SingleLetterAlphabet()),\n",
       "              [SeqRecord(seq=Seq('GAGGACCCCTACGAGAAGATCGGCGCCGAGCTGGTCAAGGAAGTCGCCAAGAAG...CCG', SingleLetterAlphabet()), id='EU834056.1', name='EU834056.1', description='EU834056.1 Mycobacterium vulneris strain NLA009601918 65 kDa heat shock protein variant II (hsp65) gene, partial cds', dbxrefs=[])]),\n",
       "             (Seq('GAGGATCCGTACGAGAAGATCGGCGCCGAGCTGGTCAAGGAAGTTGCCAAGAAG...CCG', SingleLetterAlphabet()),\n",
       "              [SeqRecord(seq=Seq('GAGGATCCGTACGAGAAGATCGGCGCCGAGCTGGTCAAGGAAGTTGCCAAGAAG...CCG', SingleLetterAlphabet()), id='AY458081.1', name='AY458081.1', description='AY458081.1 Mycobacterium immunogenum strain CIP 106684 65 kDa heat shock protein (hsp65) gene, partial cds', dbxrefs=[]),\n",
       "               SeqRecord(seq=Seq('GAGGATCCGTACGAGAAGATCGGCGCCGAGCTGGTCAAGGAAGTTGCCAAGAAG...CCG', SingleLetterAlphabet()), id='EU266577.1', name='EU266577.1', description='EU266577.1 Mycobacterium immunogenum strain CIP 106684 65 kDa heat shock protein (hsp65) gene, partial cds', dbxrefs=[])]),\n",
       "             (Seq('GAGGACCCGTACGAGAAGATCGGCGCTGAGCTCGTCAAAGAGGTCGCCAAGAAG...CCG', SingleLetterAlphabet()),\n",
       "              [SeqRecord(seq=Seq('GAGGACCCGTACGAGAAGATCGGCGCTGAGCTCGTCAAAGAGGTCGCCAAGAAG...CCG', SingleLetterAlphabet()), id='AY458077.1', name='AY458077.1', description='AY458077.1 Mycobacterium houstonense strain ATCC 49403 65 kDa heat shock protein (hsp65) gene, partial cds', dbxrefs=[]),\n",
       "               SeqRecord(seq=Seq('GAGGACCCGTACGAGAAGATCGGCGCTGAGCTCGTCAAAGAGGTCGCCAAGAAG...CCG', SingleLetterAlphabet()), id='DQ987725.1', name='DQ987725.1', description='DQ987725.1 Mycobacterium houstonense strain DSM 44676 65 kDa heat shock protein (hsp65) gene, partial cds', dbxrefs=[])]),\n",
       "             (Seq('GAGGACCCGTACGAGAAGATCGGCGCTGAGCTCGTCAAAGAGGTCGCCAAGAAG...CCG', SingleLetterAlphabet()),\n",
       "              [SeqRecord(seq=Seq('GAGGACCCGTACGAGAAGATCGGCGCTGAGCTCGTCAAAGAGGTCGCCAAGAAG...CCG', SingleLetterAlphabet()), id='AY458076.1', name='AY458076.1', description='AY458076.1 Mycobacterium neworleansense strain ATCC 49404 65 kDa heat shock protein (hsp65) gene, partial cds', dbxrefs=[]),\n",
       "               SeqRecord(seq=Seq('GAGGACCCGTACGAGAAGATCGGCGCTGAGCTCGTCAAAGAGGTCGCCAAGAAG...CCG', SingleLetterAlphabet()), id='AY373455.1', name='AY373455.1', description='AY373455.1 Mycobacterium fortuitum strain ATCC 49404 heat shock protein (hsp65) gene, partial cds', dbxrefs=[]),\n",
       "               SeqRecord(seq=Seq('GAGGACCCGTACGAGAAGATCGGCGCTGAGCTCGTCAAAGAGGTCGCCAAGAAG...CCG', SingleLetterAlphabet()), id='AY373453.1', name='AY373453.1', description='AY373453.1 Mycobacterium lentiflavum strain ATCC 51985 heat shock protein (hsp65) gene, partial cds', dbxrefs=[]),\n",
       "               SeqRecord(seq=Seq('GAGGACCCGTACGAGAAGATCGGCGCTGAGCTCGTCAAAGAGGTCGCCAAGAAG...CCG', SingleLetterAlphabet()), id='AY496143.1', name='AY496143.1', description='AY496143.1 Mycobacterium neworleansense ATCC 49404 65 kDa heat shock protein (hsp65) gene, partial cds', dbxrefs=[])]),\n",
       "             (Seq('GAGGATCCCTACGAGAAGATCGGTGCTGAGCTCGTCAAAGAGGTCGCCAAGAAG...CCG', SingleLetterAlphabet()),\n",
       "              [SeqRecord(seq=Seq('GAGGATCCCTACGAGAAGATCGGTGCTGAGCTCGTCAAAGAGGTCGCCAAGAAG...CCG', SingleLetterAlphabet()), id='AY458071.1', name='AY458071.1', description='AY458071.1 Mycobacterium goodii strain ATCC 700504 65 kDa heat shock protein (hsp65) gene, partial cds', dbxrefs=[]),\n",
       "               SeqRecord(seq=Seq('GAGGATCCCTACGAGAAGATCGGTGCTGAGCTCGTCAAAGAGGTCGCCAAGAAG...CCG', SingleLetterAlphabet()), id='AF547839.1', name='AF547839.1', description='AF547839.1 Mycobacterium goodii strain CIP 106349 65 kDa heat shock protein (hsp65) gene, partial cds', dbxrefs=[])]),\n",
       "             (Seq('GAGGACCCGTACGAGAAGATCGGCGCTGAGCTGGTCAAAGAGGTCGCCAAGAAG...CCG', SingleLetterAlphabet()),\n",
       "              [SeqRecord(seq=Seq('GAGGACCCGTACGAGAAGATCGGCGCTGAGCTGGTCAAAGAGGTCGCCAAGAAG...CCG', SingleLetterAlphabet()), id='AY458064.1', name='AY458064.1', description='AY458064.1 Mycobacterium wolinskyi strain ATCC 700010 65 kDa heat shock protein (hsp65) gene, partial cds', dbxrefs=[]),\n",
       "               SeqRecord(seq=Seq('GAGGACCCGTACGAGAAGATCGGCGCTGAGCTGGTCAAAGAGGTCGCCAAGAAG...CCG', SingleLetterAlphabet()), id='AY299164.1', name='AY299164.1', description='AY299164.1 Mycobacterium wolinskyi strain ATCC 700010 heat shock protein 65 (hsp65) gene, partial cds', dbxrefs=[])]),\n",
       "             (Seq('GAGGACCCGTACGAGAAGATCGGCGCCGAGCTGGTCAAAGAGGTCGCCAAGAAG...CCG', SingleLetterAlphabet()),\n",
       "              [SeqRecord(seq=Seq('GAGGACCCGTACGAGAAGATCGGCGCCGAGCTGGTCAAAGAGGTCGCCAAGAAG...CCG', SingleLetterAlphabet()), id='AY373457.1', name='AY373457.1', description='AY373457.1 Mycobacterium septicum strain ATCC 700731 heat shock protein (hsp65) gene, partial cds', dbxrefs=[]),\n",
       "               SeqRecord(seq=Seq('GAGGACCCGTACGAGAAGATCGGCGCCGAGCTGGTCAAAGAGGTCGCCAAGAAG...CCG', SingleLetterAlphabet()), id='AY496142.1', name='AY496142.1', description='AY496142.1 Mycobacterium septicum ATCC 700731 65 kDa heat shock protein (hsp65) gene, partial cds', dbxrefs=[])]),\n",
       "             (Seq('GAGGATCCGTACGAGAAGATCGGCGCCGAGCTGGTCAAAGAGGTCGCCAAGAAG...CCG', SingleLetterAlphabet()),\n",
       "              [SeqRecord(seq=Seq('GAGGATCCGTACGAGAAGATCGGCGCCGAGCTGGTCAAAGAGGTCGCCAAGAAG...CCG', SingleLetterAlphabet()), id='AY299158.1', name='AY299158.1', description='AY299158.1 Mycobacterium phlei strain ATCC 11758 heat shock protein 65 (hsp65) gene, partial cds', dbxrefs=[]),\n",
       "               SeqRecord(seq=Seq('GAGGATCCGTACGAGAAGATCGGCGCCGAGCTGGTCAAAGAGGTCGCCAAGAAG...CCG', SingleLetterAlphabet()), id='AF547866.1', name='AF547866.1', description='AF547866.1 Mycobacterium phlei strain CIP 105389 65 kDa heat shock protein (hsp65) gene, partial cds', dbxrefs=[])]),\n",
       "             (Seq('GAGGACCCGTACGAGAAGATCGGCGCTGAGCTCGTCAAAGAGGTCGCCAAGAAG...CCG', SingleLetterAlphabet()),\n",
       "              [SeqRecord(seq=Seq('GAGGACCCGTACGAGAAGATCGGCGCTGAGCTCGTCAAAGAGGTCGCCAAGAAG...CCG', SingleLetterAlphabet()), id='AY299152.1', name='AY299152.1', description='AY299152.1 Mycobacterium fortuitum strain ATCC 6841 heat shock protein 65 (hsp65) gene, partial cds', dbxrefs=[])]),\n",
       "             (Seq('GAGGACCCCTACGAGAAGATCGGCGCCGAGCTGGTCAAGGAAGTCGCCAAGAAG...CCG', SingleLetterAlphabet()),\n",
       "              [SeqRecord(seq=Seq('GAGGACCCCTACGAGAAGATCGGCGCCGAGCTGGTCAAGGAAGTCGCCAAGAAG...CCG', SingleLetterAlphabet()), id='AY365190.1', name='AY365190.1', description='AY365190.1 Mycobacterium sherrisii 65 kDa heat shock protein (hsp65) gene, partial cds', dbxrefs=[]),\n",
       "               SeqRecord(seq=Seq('GAGGACCCCTACGAGAAGATCGGCGCCGAGCTGGTCAAGGAAGTCGCCAAGAAG...CCG', SingleLetterAlphabet()), id='KX824054.1', name='KX824054.1', description='KX824054.1 Mycobacterium sherrisii strain 2191/14 HGM 65 kDa heat shock protein (hsp65) gene, partial cds', dbxrefs=[])]),\n",
       "             (Seq('GAGGACCCGTACGAGAAGATCGGCGCCGAGCTGGTCAAAGAGGTCGCCAAGAAG...CCG', SingleLetterAlphabet()),\n",
       "              [SeqRecord(seq=Seq('GAGGACCCGTACGAGAAGATCGGCGCCGAGCTGGTCAAAGAGGTCGCCAAGAAG...CCG', SingleLetterAlphabet()), id='HM030495.1', name='HM030495.1', description='HM030495.1 Mycobacterium lacticola strain ATCC 9626 65 kDa heat shock protein (hsp65) gene, partial cds', dbxrefs=[])]),\n",
       "             (Seq('GAGGACCCGTACGAGAAGATCGGCGCCGAGCTGGTCAAGGAAGTCGCCAAGAAG...CCG', SingleLetterAlphabet()),\n",
       "              [SeqRecord(seq=Seq('GAGGACCCGTACGAGAAGATCGGCGCCGAGCTGGTCAAGGAAGTCGCCAAGAAG...CCG', SingleLetterAlphabet()), id='GQ153294.1', name='GQ153294.1', description='GQ153294.1 Mycobacterium nebraskense strain ATCC BAA-837 Hsp65 (hsp65) gene, partial cds', dbxrefs=[])]),\n",
       "             (Seq('GAGGACCCGTACGAGAAGATCGGCGCCGAGCTGGTCAAGGAAGTCGCCAAGAAG...CCG', SingleLetterAlphabet()),\n",
       "              [SeqRecord(seq=Seq('GAGGACCCGTACGAGAAGATCGGCGCCGAGCTGGTCAAGGAAGTCGCCAAGAAG...CCG', SingleLetterAlphabet()), id='GQ153293.1', name='GQ153293.1', description='GQ153293.1 Mycobacterium malmoense strain ATCC 29571 Hsp65 (hsp65) gene, partial cds', dbxrefs=[]),\n",
       "               SeqRecord(seq=Seq('GAGGACCCGTACGAGAAGATCGGCGCCGAGCTGGTCAAGGAAGTCGCCAAGAAG...CCG', SingleLetterAlphabet()), id='JF491301.1', name='JF491301.1', description='JF491301.1 Mycobacterium malmoense strain ATCC 29571 GroEL (hsp65) gene, partial cds', dbxrefs=[])]),\n",
       "             (Seq('GAGGACCCCTACGAGAAGATCGGCGCTGAGCTGGTCAAGGAAGTCGCCAAGAAG...CCG', SingleLetterAlphabet()),\n",
       "              [SeqRecord(seq=Seq('GAGGACCCCTACGAGAAGATCGGCGCTGAGCTGGTCAAGGAAGTCGCCAAGAAG...CCG', SingleLetterAlphabet()), id='GQ153292.1', name='GQ153292.1', description='GQ153292.1 Mycobacterium simiae strain ATCC 25275 Hsp65 (hsp65) gene, partial cds', dbxrefs=[]),\n",
       "               SeqRecord(seq=Seq('GAGGACCCCTACGAGAAGATCGGCGCTGAGCTGGTCAAGGAAGTCGCCAAGAAG...CCG', SingleLetterAlphabet()), id='JF491306.1', name='JF491306.1', description='JF491306.1 Mycobacterium simiae strain ATCC 25275 GroEL (hsp65) gene, partial cds', dbxrefs=[]),\n",
       "               SeqRecord(seq=Seq('GAGGACCCCTACGAGAAGATCGGCGCTGAGCTGGTCAAGGAAGTCGCCAAGAAG...CCG', SingleLetterAlphabet()), id='AY299183.1', name='AY299183.1', description='AY299183.1 Mycobacterium genavense strain ATCC 51233 heat shock protein 65 (hsp65) gene, partial cds', dbxrefs=[])]),\n",
       "             (Seq('GAGGACCCGTACGAGAAGATCGGCGCCGAGCTGGTCAAGGAAGTCGCCAAGAAG...CCG', SingleLetterAlphabet()),\n",
       "              [SeqRecord(seq=Seq('GAGGACCCGTACGAGAAGATCGGCGCCGAGCTGGTCAAGGAAGTCGCCAAGAAG...CCG', SingleLetterAlphabet()), id='GQ153291.1', name='GQ153291.1', description='GQ153291.1 Mycobacterium triplex strain ATCC 700071 Hsp65 (hsp65) gene, partial cds', dbxrefs=[]),\n",
       "               SeqRecord(seq=Seq('GAGGACCCGTACGAGAAGATCGGCGCCGAGCTGGTCAAGGAAGTCGCCAAGAAG...CCG', SingleLetterAlphabet()), id='AF547882.1', name='AF547882.1', description='AF547882.1 Mycobacterium triplex strain CIP 106108 65 kDa heat shock protein (hsp65) gene, partial cds', dbxrefs=[])]),\n",
       "             (Seq('GAGGACCCGTACGAGAAGATCGGCGCCGAGCTGGTCAAGGAAGTCGCCAAGAAG...CCG', SingleLetterAlphabet()),\n",
       "              [SeqRecord(seq=Seq('GAGGACCCGTACGAGAAGATCGGCGCCGAGCTGGTCAAGGAAGTCGCCAAGAAG...CCG', SingleLetterAlphabet()), id='GQ153287.1', name='GQ153287.1', description='GQ153287.1 Mycobacterium paraffinicum strain ATCC 12670 Hsp65 (hsp65) gene, partial cds', dbxrefs=[]),\n",
       "               SeqRecord(seq=Seq('GAGGACCCGTACGAGAAGATCGGCGCCGAGCTGGTCAAGGAAGTCGCCAAGAAG...CCG', SingleLetterAlphabet()), id='GQ153282.1', name='GQ153282.1', description='GQ153282.1 Mycobacterium paraffinicum strain 06-839 Hsp65 (hsp65) gene, partial cds', dbxrefs=[])]),\n",
       "             (Seq('GAGGACCCGTACGAGAAGATCGGCGCCGAGCTGGTCAAGGAAGTCGCCAAGAAG...CCG', SingleLetterAlphabet()),\n",
       "              [SeqRecord(seq=Seq('GAGGACCCGTACGAGAAGATCGGCGCCGAGCTGGTCAAGGAAGTCGCCAAGAAG...CCG', SingleLetterAlphabet()), id='HM056140.1', name='HM056140.1', description='HM056140.1 Mycobacterium paraense strain IEC29 65 kDa heat shock protein (hsp65) gene, partial cds', dbxrefs=[]),\n",
       "               SeqRecord(seq=Seq('GAGGACCCGTACGAGAAGATCGGCGCCGAGCTGGTCAAGGAAGTCGCCAAGAAG...CCG', SingleLetterAlphabet()), id='HM056137.1', name='HM056137.1', description='HM056137.1 Mycobacterium paraense strain IEC26 65 kDa heat shock protein (hsp65) gene, partial cds', dbxrefs=[])]),\n",
       "             (Seq('GAGGATCCGTACGAGAAGATCGGCGCCGAGCTGGTCAAGGAAGTCGCCAAGAAG...CCG', SingleLetterAlphabet()),\n",
       "              [SeqRecord(seq=Seq('GAGGATCCGTACGAGAAGATCGGCGCCGAGCTGGTCAAGGAAGTCGCCAAGAAG...CCG', SingleLetterAlphabet()), id='FJ172327.1', name='FJ172327.1', description='FJ172327.1 Mycobacterium chlorophenolicum strain ATCC 25793 heat shock protein 65 (hsp65) gene, partial cds', dbxrefs=[]),\n",
       "               SeqRecord(seq=Seq('GAGGATCCGTACGAGAAGATCGGCGCCGAGCTGGTCAAGGAAGTCGCCAAGAAG...CCG', SingleLetterAlphabet()), id='DQ184957.1', name='DQ184957.1', description='DQ184957.1 Mycobacterium chubuense strain K237Y 65 kDa heat shock protein (hsp65) gene, partial cds', dbxrefs=[])]),\n",
       "             (Seq('GAGGACCCGTACGAGAAGATCGGCGCCGAGCTGGTCAAGGAAGTCGCCAAGAAG...CCG', SingleLetterAlphabet()),\n",
       "              [SeqRecord(seq=Seq('GAGGACCCGTACGAGAAGATCGGCGCCGAGCTGGTCAAGGAAGTCGCCAAGAAG...CCG', SingleLetterAlphabet()), id='FJ172325.1', name='FJ172325.1', description='FJ172325.1 Mycobacterium petroleophilum strain ATCC 21498 heat shock protein 65 (hsp65) gene, partial cds', dbxrefs=[])]),\n",
       "             (Seq('GAGGACCCGTACGAGAAGATCGGCGCCGAGCTGGTCAAGGAAGTCGCCAAGAAG...CCG', SingleLetterAlphabet()),\n",
       "              [SeqRecord(seq=Seq('GAGGACCCGTACGAGAAGATCGGCGCCGAGCTGGTCAAGGAAGTCGCCAAGAAG...CCG', SingleLetterAlphabet()), id='FJ172324.1', name='FJ172324.1', description='FJ172324.1 Mycobacterium fluoranthenivorans strain ATCC 23070 heat shock protein 65 (hsp65) gene, partial cds', dbxrefs=[])]),\n",
       "             (Seq('GAGGACCCGTACGAGAAGATCGGCGCCGAGCTGGTCAAAGAGGTCGCCAAGAAG...CCG', SingleLetterAlphabet()),\n",
       "              [SeqRecord(seq=Seq('GAGGACCCGTACGAGAAGATCGGCGCCGAGCTGGTCAAAGAGGTCGCCAAGAAG...CCG', SingleLetterAlphabet()), id='FJ172315.1', name='FJ172315.1', description='FJ172315.1 Mycobacterium neoaurum strain ATCC 25799 heat shock protein 65 (hsp65) gene, partial cds', dbxrefs=[])]),\n",
       "             (Seq('GAGGACCCGTACGAGAAGATCGGCGCTGAGCTGGTCAAGGAAGTTGCCAAGAAG...CCG', SingleLetterAlphabet()),\n",
       "              [SeqRecord(seq=Seq('GAGGACCCGTACGAGAAGATCGGCGCTGAGCTGGTCAAGGAAGTTGCCAAGAAG...CCG', SingleLetterAlphabet()), id='DQ987724.1', name='DQ987724.1', description='DQ987724.1 Mycobacterium bolletii strain CCUG 50184 65 kDa heat shock protein (hsp65) gene, partial cds', dbxrefs=[])]),\n",
       "             (Seq('GAGGACCCGTACGAGAAGATCGGCGCCGAGCTGGTCAAGGAGGTCGCCAAGAAG...CCG', SingleLetterAlphabet()),\n",
       "              [SeqRecord(seq=Seq('GAGGACCCGTACGAGAAGATCGGCGCCGAGCTGGTCAAGGAGGTCGCCAAGAAG...CCG', SingleLetterAlphabet()), id='AB268505.2', name='AB268505.2', description='AB268505.2 Mycobacterium shinjukuense hsp65 gene for 65 kDa heat shock protein, partial cds, strain: GTC 2738', dbxrefs=[])]),\n",
       "             (Seq('GAGGACCCCTACGAGAAGATCGGCGCCGAGCTGGTCAAGGAAGTCGCCAAGAAG...CCG', SingleLetterAlphabet()),\n",
       "              [SeqRecord(seq=Seq('GAGGACCCCTACGAGAAGATCGGCGCCGAGCTGGTCAAGGAAGTCGCCAAGAAG...CCG', SingleLetterAlphabet()), id='FJ426336.1', name='FJ426336.1', description='FJ426336.1 Mycobacterium mantenii strain NLA000800224 65 kDa heat shock protein (hsp65) gene, partial cds', dbxrefs=[])]),\n",
       "             (Seq('GAGGACCCGTACGAGAAGATTGGCGCTGAGTTGGTCAAGGAAGTCGCCAAGAAA...CCG', SingleLetterAlphabet()),\n",
       "              [SeqRecord(seq=Seq('GAGGACCCGTACGAGAAGATTGGCGCTGAGTTGGTCAAGGAAGTCGCCAAGAAA...CCG', SingleLetterAlphabet()), id='EU203593.2', name='EU203593.2', description='EU203593.2 Mycobacterium lepromatosis strain FJ924 heat shock protein 65 (hsp65) gene, partial cds', dbxrefs=[])]),\n",
       "             (Seq('GAGGACCCGTACGAGAAGATCGGCGCTGAGCTGGTCAAGGAAGTCGCCAAGAAG...CCG', SingleLetterAlphabet()),\n",
       "              [SeqRecord(seq=Seq('GAGGACCCGTACGAGAAGATCGGCGCTGAGCTGGTCAAGGAAGTCGCCAAGAAG...CCG', SingleLetterAlphabet()), id='JF510463.1', name='JF510463.1', description='JF510463.1 Mycobacterium pyrenivorans strain DSM 44605 65 kDa heat shock protein (hsp65) gene, partial cds', dbxrefs=[])]),\n",
       "             (Seq('GAGGACCCGTACGAGAAGATCGGCGCTGAGCTGGTCAAAGAGGTCGCCAAGAAG...CCG', SingleLetterAlphabet()),\n",
       "              [SeqRecord(seq=Seq('GAGGACCCGTACGAGAAGATCGGCGCTGAGCTGGTCAAAGAGGTCGCCAAGAAG...CCG', SingleLetterAlphabet()), id='JF491333.1', name='JF491333.1', description='JF491333.1 Mycobacterium brisbanense strain DSM 44680 GroEL (hsp65) gene, partial cds', dbxrefs=[])]),\n",
       "             (Seq('GAGGACCCGTACGAGAAGATCGGCGCTGAGCTGGTCAAAGAGGTCGCCAAGAAG...CCG', SingleLetterAlphabet()),\n",
       "              [SeqRecord(seq=Seq('GAGGACCCGTACGAGAAGATCGGCGCTGAGCTGGTCAAAGAGGTCGCCAAGAAG...CCG', SingleLetterAlphabet()), id='JF491330.1', name='JF491330.1', description='JF491330.1 Mycobacterium llatzerense strain DSM 45343 GroEL (hsp65) gene, partial cds', dbxrefs=[]),\n",
       "               SeqRecord(seq=Seq('GAGGACCCGTACGAGAAGATCGGCGCTGAGCTGGTCAAAGAGGTCGCCAAGAAG...CCG', SingleLetterAlphabet()), id='AM421345.1', name='AM421345.1', description='AM421345.1 Mycobacterium llatzerense partial hsp65 gene for 65 kDa heat shock protein, strain MG17', dbxrefs=[])]),\n",
       "             (Seq('GAGGACCCGTACGAGAAGATCGGCGCCGAGCTGGTCAAAGAGGTCGCCAAGAAG...CCG', SingleLetterAlphabet()),\n",
       "              [SeqRecord(seq=Seq('GAGGACCCGTACGAGAAGATCGGCGCCGAGCTGGTCAAAGAGGTCGCCAAGAAG...CCG', SingleLetterAlphabet()), id='JF491328.1', name='JF491328.1', description='JF491328.1 Mycobacterium senuense strain DSM 44999 GroEL (hsp65) gene, partial cds', dbxrefs=[])]),\n",
       "             (Seq('GAGGACCCGTACGAGAAGATCGGCGCTGAGCTGGTCAAGGAAGTCGCCAAGAAG...CCG', SingleLetterAlphabet()),\n",
       "              [SeqRecord(seq=Seq('GAGGACCCGTACGAGAAGATCGGCGCTGAGCTGGTCAAGGAAGTCGCCAAGAAG...CCG', SingleLetterAlphabet()), id='JF491327.1', name='JF491327.1', description='JF491327.1 Mycobacterium senegalense strain ATCC 35796 GroEL (hsp65) gene, partial cds', dbxrefs=[])]),\n",
       "             (Seq('GAGGACCCGTACGAGAAGATCGGCGCCGAGCTGGTCAAAGAGGTCGCCAAGAAG...CCG', SingleLetterAlphabet()),\n",
       "              [SeqRecord(seq=Seq('GAGGACCCGTACGAGAAGATCGGCGCCGAGCTGGTCAAAGAGGTCGCCAAGAAG...CCG', SingleLetterAlphabet()), id='JF491325.1', name='JF491325.1', description='JF491325.1 Mycobacterium arupense strain DSM 44942 GroEL (hsp65) gene, partial cds', dbxrefs=[])]),\n",
       "             (Seq('GAGGACCCATACGAGAAGATCGGCGCCGAGCTGGTCAAGGAAGTCGCCAAGAAG...CCG', SingleLetterAlphabet()),\n",
       "              [SeqRecord(seq=Seq('GAGGACCCATACGAGAAGATCGGCGCCGAGCTGGTCAAGGAAGTCGCCAAGAAG...CCG', SingleLetterAlphabet()), id='JF491324.1', name='JF491324.1', description='JF491324.1 Mycobacterium paraseoulense strain DSM 45000 GroEL (hsp65) gene, partial cds', dbxrefs=[]),\n",
       "               SeqRecord(seq=Seq('GAGGACCCATACGAGAAGATCGGCGCCGAGCTGGTCAAGGAAGTCGCCAAGAAG...CCG', SingleLetterAlphabet()), id='HM602042.1', name='HM602042.1', description='HM602042.1 Mycobacterium paraseoulense strain DSM 45000 65 kDa heat shock protein (hsp65) gene, partial cds', dbxrefs=[])]),\n",
       "             (Seq('GAGGACCCGTACGAGAAGATCGGCGCCGAGCTGGTCAAGGAAGTCGCCAAGAAG...CCG', SingleLetterAlphabet()),\n",
       "              [SeqRecord(seq=Seq('GAGGACCCGTACGAGAAGATCGGCGCCGAGCTGGTCAAGGAAGTCGCCAAGAAG...CCG', SingleLetterAlphabet()), id='JF491322.1', name='JF491322.1', description='JF491322.1 Mycobacterium seoulense strain DSM 44998 GroEL (hsp65) gene, partial cds', dbxrefs=[])]),\n",
       "             (Seq('GAGGACCCGTACGAGAAGATCGGCGCCGAGCTGGTCAAGGAAGTCGCCAAGAAG...CCG', SingleLetterAlphabet()),\n",
       "              [SeqRecord(seq=Seq('GAGGACCCGTACGAGAAGATCGGCGCCGAGCTGGTCAAGGAAGTCGCCAAGAAG...CCG', SingleLetterAlphabet()), id='JF491319.1', name='JF491319.1', description='JF491319.1 Mycobacterium insubricum strain DSM 45132 GroEL (hsp65) gene, partial cds', dbxrefs=[]),\n",
       "               SeqRecord(seq=Seq('GAGGACCCGTACGAGAAGATCGGCGCCGAGCTGGTCAAGGAAGTCGCCAAGAAG...CCG', SingleLetterAlphabet()), id='EF584487.1', name='EF584487.1', description='EF584487.1 Mycobacterium insubricum strain FI-06250 Hsp65 (hsp65) gene, partial cds', dbxrefs=[])]),\n",
       "             (Seq('GAGGACCCGTACGAGAAGATCGGCGCCGAGCTGGTCAAAGAGGTCGCCAAGAAG...CCG', SingleLetterAlphabet()),\n",
       "              [SeqRecord(seq=Seq('GAGGACCCGTACGAGAAGATCGGCGCCGAGCTGGTCAAAGAGGTCGCCAAGAAG...CCG', SingleLetterAlphabet()), id='JF491318.1', name='JF491318.1', description='JF491318.1 Mycobacterium fluoranthenivorans strain DSM 44556 GroEL (hsp65) gene, partial cds', dbxrefs=[])]),\n",
       "             (Seq('GAGGACCCGTACGAGAAGATCGGCGCCGAGCTGGTCAAGGAAGTTGCCAAGAAG...CCG', SingleLetterAlphabet()),\n",
       "              [SeqRecord(seq=Seq('GAGGACCCGTACGAGAAGATCGGCGCCGAGCTGGTCAAGGAAGTTGCCAAGAAG...CCG', SingleLetterAlphabet()), id='JF491317.1', name='JF491317.1', description='JF491317.1 Mycobacterium florentinum strain DSM 44852 GroEL (hsp65) gene, partial cds', dbxrefs=[]),\n",
       "               SeqRecord(seq=Seq('GAGGACCCGTACGAGAAGATCGGCGCCGAGCTGGTCAAGGAAGTTGCCAAGAAG...CCG', SingleLetterAlphabet()), id='DQ350162.1', name='DQ350162.1', description='DQ350162.1 Mycobacterium florentinum strain DSM 44852 65 kDa heat shock protein (hsp65) gene, partial cds', dbxrefs=[])]),\n",
       "             (Seq('GAGGACCCGTACGAGAAGATCGGCGCCGAGCTGGTCAAGGAAGTCGCCAAGAAG...CCG', SingleLetterAlphabet()),\n",
       "              [SeqRecord(seq=Seq('GAGGACCCGTACGAGAAGATCGGCGCCGAGCTGGTCAAGGAAGTCGCCAAGAAG...CCG', SingleLetterAlphabet()), id='JF491315.1', name='JF491315.1', description='JF491315.1 Mycobacterium gastri strain ATCC 15754 GroEL (hsp65) gene, partial cds', dbxrefs=[]),\n",
       "               SeqRecord(seq=Seq('GAGGACCCGTACGAGAAGATCGGCGCCGAGCTGGTCAAGGAAGTCGCCAAGAAG...CCG', SingleLetterAlphabet()), id='AY299182.1', name='AY299182.1', description='AY299182.1 Mycobacterium gastri strain ATCC 15754 heat shock protein 65 (hsp65) gene, partial cds', dbxrefs=[])]),\n",
       "             (Seq('GAGGATCCGTACGAGAAGATCGGCGCCGAGCTGGTCAAAGAGGTAGCCAAGAAG...CCG', SingleLetterAlphabet()),\n",
       "              [SeqRecord(seq=Seq('GAGGATCCGTACGAGAAGATCGGCGCCGAGCTGGTCAAAGAGGTAGCCAAGAAG...CCG', SingleLetterAlphabet()), id='JF491313.1', name='JF491313.1', description='JF491313.1 Mycobacterium africanum strain ATCC 25420 GroEL (hsp65) gene, partial cds', dbxrefs=[]),\n",
       "               SeqRecord(seq=Seq('GAGGATCCGTACGAGAAGATCGGCGCCGAGCTGGTCAAAGAGGTAGCCAAGAAG...CCG', SingleLetterAlphabet()), id='FJ617583.1', name='FJ617583.1', description='FJ617583.1 Mycobacterium africanum strain ATCC 25420 groEL2 (hsp65) gene, partial cds', dbxrefs=[])]),\n",
       "             (Seq('GAGGACCCGTACGAGAAGATCGGCGCTGAGCTGGTCAAAGAGGTCGCCAAGAAG...CCG', SingleLetterAlphabet()),\n",
       "              [SeqRecord(seq=Seq('GAGGACCCGTACGAGAAGATCGGCGCTGAGCTGGTCAAAGAGGTCGCCAAGAAG...CCG', SingleLetterAlphabet()), id='JF491312.1', name='JF491312.1', description='JF491312.1 Mycobacterium vaccae strain ATCC 15483 GroEL (hsp65) gene, partial cds', dbxrefs=[])]),\n",
       "             (Seq('GAGGACCCGTACGAGAAGATCGGCGCCGAGCTGGTCAAGGAAGTCGCCAAGAAG...CCG', SingleLetterAlphabet()),\n",
       "              [SeqRecord(seq=Seq('GAGGACCCGTACGAGAAGATCGGCGCCGAGCTGGTCAAGGAAGTCGCCAAGAAG...CCG', SingleLetterAlphabet()), id='JF491310.1', name='JF491310.1', description='JF491310.1 Mycobacterium triviale strain ATCC 23292 GroEL (hsp65) gene, partial cds', dbxrefs=[]),\n",
       "               SeqRecord(seq=Seq('GAGGACCCGTACGAGAAGATCGGCGCCGAGCTGGTCAAGGAAGTCGCCAAGAAG...CCG', SingleLetterAlphabet()), id='AF434737.1', name='AF434737.1', description='AF434737.1 Mycobacterium triviale strain ATCC 23292 65 kDa heat shock protein (hsp65) gene, partial cds', dbxrefs=[])]),\n",
       "             (Seq('GAGGACCCGTACGAGAAGATCGGCGCCGAGCTGGTCAAAGAGGTCGCCAAGAAG...CCG', SingleLetterAlphabet()),\n",
       "              [SeqRecord(seq=Seq('GAGGACCCGTACGAGAAGATCGGCGCCGAGCTGGTCAAAGAGGTCGCCAAGAAG...CCG', SingleLetterAlphabet()), id='JF491309.1', name='JF491309.1', description='JF491309.1 Mycobacterium tokaiense strain ATCC 27282 GroEL (hsp65) gene, partial cds', dbxrefs=[]),\n",
       "               SeqRecord(seq=Seq('GAGGACCCGTACGAGAAGATCGGCGCCGAGCTGGTCAAAGAGGTCGCCAAGAAG...CCG', SingleLetterAlphabet()), id='AF547881.1', name='AF547881.1', description='AF547881.1 Mycobacterium tokaiense strain CIP 106807 65 kDa heat shock protein (hsp65) gene, partial cds', dbxrefs=[])]),\n",
       "             (Seq('GAGGACCCCTACGAGAAGATCGGTGCTGAGCTCGTCAAAGAGGTCGCCAAGAAG...CCG', SingleLetterAlphabet()),\n",
       "              [SeqRecord(seq=Seq('GAGGACCCCTACGAGAAGATCGGTGCTGAGCTCGTCAAAGAGGTCGCCAAGAAG...CCG', SingleLetterAlphabet()), id='JF491307.1', name='JF491307.1', description='JF491307.1 Mycobacterium smegmatis strain ATCC 19420 GroEL (hsp65) gene, partial cds', dbxrefs=[]),\n",
       "               SeqRecord(seq=Seq('GAGGACCCCTACGAGAAGATCGGTGCTGAGCTCGTCAAAGAGGTCGCCAAGAAG...CCG', SingleLetterAlphabet()), id='AY299161.1', name='AY299161.1', description='AY299161.1 Mycobacterium smegmatis strain ATCC 35796 heat shock protein 65 (hsp65) gene, partial cds', dbxrefs=[])]),\n",
       "             (Seq('GAGGACCCCTACGAGAAGATCGGCGCCGAGCTGGTCAAGGAAGTCGCCAAGAAG...CCG', SingleLetterAlphabet()),\n",
       "              [SeqRecord(seq=Seq('GAGGACCCCTACGAGAAGATCGGCGCCGAGCTGGTCAAGGAAGTCGCCAAGAAG...CCG', SingleLetterAlphabet()), id='JF491305.1', name='JF491305.1', description='JF491305.1 Mycobacterium shimoidei strain ATCC 27962 GroEL (hsp65) gene, partial cds', dbxrefs=[]),\n",
       "               SeqRecord(seq=Seq('GAGGACCCCTACGAGAAGATCGGCGCCGAGCTGGTCAAGGAAGTCGCCAAGAAG...CCG', SingleLetterAlphabet()), id='AF547874.1', name='AF547874.1', description='AF547874.1 Mycobacterium shimoidei strain DSM 44152 65 kDa heat shock protein (hsp65) gene, partial cds', dbxrefs=[])]),\n",
       "             (Seq('GAGGACCCGTACGAGAAGATCGGCGCCGAGCTGGTCAAGGAAGTCGCCAAGAAG...CCG', SingleLetterAlphabet()),\n",
       "              [SeqRecord(seq=Seq('GAGGACCCGTACGAGAAGATCGGCGCCGAGCTGGTCAAGGAAGTCGCCAAGAAG...CCG', SingleLetterAlphabet()), id='JF491304.1', name='JF491304.1', description='JF491304.1 Mycobacterium scrofulaceum strain ATCC 19981 GroEL (hsp65) gene, partial cds', dbxrefs=[]),\n",
       "               SeqRecord(seq=Seq('GAGGACCCGTACGAGAAGATCGGCGCCGAGCTGGTCAAGGAAGTCGCCAAGAAG...CCG', SingleLetterAlphabet()), id='AF434733.1', name='AF434733.1', description='AF434733.1 Mycobacterium scrofulaceum strain ATCC 19981 65 kDa heat shock protein (hsp65) gene, partial cds', dbxrefs=[])]),\n",
       "             (Seq('GAGGATCCCTACGAGAAGATCGGCGCTGAGCTGGTCAAAGAGGTCGCCAAGAAG...CCG', SingleLetterAlphabet()),\n",
       "              [SeqRecord(seq=Seq('GAGGATCCCTACGAGAAGATCGGCGCTGAGCTGGTCAAAGAGGTCGCCAAGAAG...CCG', SingleLetterAlphabet()), id='JF491303.1', name='JF491303.1', description='JF491303.1 Mycobacterium nonchromogenicum strain ATCC 19530 GroEL (hsp65) gene, partial cds', dbxrefs=[])]),\n",
       "             (Seq('GACGACCCGTACGAGAAGATCGGCGCCGAGCTGGTCAAAGAGGTCGCCAAGAAG...CCG', SingleLetterAlphabet()),\n",
       "              [SeqRecord(seq=Seq('GACGACCCGTACGAGAAGATCGGCGCCGAGCTGGTCAAAGAGGTCGCCAAGAAG...CCG', SingleLetterAlphabet()), id='JF491297.1', name='JF491297.1', description='JF491297.1 Mycobacterium hiberniae strain ATCC 49874 GroEL (hsp65) gene, partial cds', dbxrefs=[]),\n",
       "               SeqRecord(seq=Seq('GACGACCCGTACGAGAAGATCGGCGCCGAGCTGGTCAAAGAGGTCGCCAAGAAG...CCG', SingleLetterAlphabet()), id='AY438083.1', name='AY438083.1', description='AY438083.1 Mycobacterium hiberniae 65 kDa heat shock protein (hsp65) gene, partial cds', dbxrefs=[])]),\n",
       "             (Seq('GAGGACCCGTACGAGAAGATCGGCGCCGAGCTGGTCAAGGAAGTCGCCAAGAAG...CCG', SingleLetterAlphabet()),\n",
       "              [SeqRecord(seq=Seq('GAGGACCCGTACGAGAAGATCGGCGCCGAGCTGGTCAAGGAAGTCGCCAAGAAG...CCG', SingleLetterAlphabet()), id='JF491294.1', name='JF491294.1', description='JF491294.1 Mycobacterium fallax strain ATCC 35219 GroEL (hsp65) gene, partial cds', dbxrefs=[]),\n",
       "               SeqRecord(seq=Seq('GAGGACCCGTACGAGAAGATCGGCGCCGAGCTGGTCAAGGAAGTCGCCAAGAAG...CCG', SingleLetterAlphabet()), id='AF547829.1', name='AF547829.1', description='AF547829.1 Mycobacterium fallax strain CIP 81.39 65 kDa heat shock protein (hsp65) gene, partial cds', dbxrefs=[])]),\n",
       "             (Seq('GAGGACCCCTACGAAAAGATCGGCGCCGAGCTGGTCAAGGAAGTCGCCAAGAAG...CCG', SingleLetterAlphabet()),\n",
       "              [SeqRecord(seq=Seq('GAGGACCCCTACGAAAAGATCGGCGCCGAGCTGGTCAAGGAAGTCGCCAAGAAG...CCG', SingleLetterAlphabet()), id='JF491292.1', name='JF491292.1', description='JF491292.1 Mycobacterium celatum strain ATCC 51131 GroEL (hsp65) gene, partial cds', dbxrefs=[])]),\n",
       "             (Seq('GAGGACCCGTACGAGAAGATCGGCGCCGAGCTGGTCAAGGAAGTCGCCAAGAAG...CCG', SingleLetterAlphabet()),\n",
       "              [SeqRecord(seq=Seq('GAGGACCCGTACGAGAAGATCGGCGCCGAGCTGGTCAAGGAAGTCGCCAAGAAG...CCG', SingleLetterAlphabet()), id='EU600390.1', name='EU600390.1', description='EU600390.1 Mycobacterium noviomagense strain NLA000500338 65 kDa heat shock protein (hsp65) gene, partial cds', dbxrefs=[])]),\n",
       "             (Seq('GAGGACCCGTACGAGAAGATCGGCGCTGAGCTGGTCAAAGAGGTCGCCAAGAAG...CCG', SingleLetterAlphabet()),\n",
       "              [SeqRecord(seq=Seq('GAGGACCCGTACGAGAAGATCGGCGCTGAGCTGGTCAAAGAGGTCGCCAAGAAG...CCG', SingleLetterAlphabet()), id='AY943195.1', name='AY943195.1', description='AY943195.1 Mycobacterium boenickei strain CIP 107829 65 kDa heat shock protein (hsp65) gene, partial cds', dbxrefs=[])]),\n",
       "             (Seq('GAGGACCCGTACGAGAAGATCGGCGCTGAGCTGGTCAAGGAAGTTGCCAAGAAG...CCG', SingleLetterAlphabet()),\n",
       "              [SeqRecord(seq=Seq('GAGGACCCGTACGAGAAGATCGGCGCTGAGCTGGTCAAGGAAGTTGCCAAGAAG...CCG', SingleLetterAlphabet()), id='AY550238.1', name='AY550238.1', description='AY550238.1 Mycobacterium fuerthensis strain DSM 44567 65 kDa heat shock protein (hsp65) gene, partial cds', dbxrefs=[]),\n",
       "               SeqRecord(seq=Seq('GAGGACCCGTACGAGAAGATCGGCGCTGAGCTGGTCAAGGAAGTTGCCAAGAAG...CCG', SingleLetterAlphabet()), id='AY299148.1', name='AY299148.1', description='AY299148.1 Mycobacterium chelonae strain ATCC 35749 heat shock protein 65 (hsp65) gene, partial cds', dbxrefs=[])]),\n",
       "             (Seq('GAGGACCCGTACGAGAAGATCGGCGCTGAGCTGGTCAAGGAAGTTGCCAAGAAG...CCG', SingleLetterAlphabet()),\n",
       "              [SeqRecord(seq=Seq('GAGGACCCGTACGAGAAGATCGGCGCTGAGCTGGTCAAGGAAGTTGCCAAGAAG...CCG', SingleLetterAlphabet()), id='AY550225.1', name='AY550225.1', description='AY550225.1 Mycobacterium shottsii strain ATCC 700981 65 kDa heat shock protein (hsp65) gene, partial cds', dbxrefs=[]),\n",
       "               SeqRecord(seq=Seq('GAGGACCCGTACGAGAAGATCGGCGCTGAGCTGGTCAAGGAAGTTGCCAAGAAG...CCG', SingleLetterAlphabet()), id='DQ987723.1', name='DQ987723.1', description='DQ987723.1 Mycobacterium shottsii strain NCTC 13215 65 kDa heat shock protein (hsp65) gene, partial cds', dbxrefs=[])]),\n",
       "             (Seq('GAGGACCCGTACGAGAAGATCGGCGCTGAGCTGGTCAAAGAGGTCGCCAAGAAG...CCG', SingleLetterAlphabet()),\n",
       "              [SeqRecord(seq=Seq('GAGGACCCGTACGAGAAGATCGGCGCTGAGCTGGTCAAAGAGGTCGCCAAGAAG...CCG', SingleLetterAlphabet()), id='AY449731.1', name='AY449731.1', description='AY449731.1 Mycobacterium cosmeticum strain 2003-11-06 hsp65 gene, partial cds', dbxrefs=[]),\n",
       "               SeqRecord(seq=Seq('GAGGACCCGTACGAGAAGATCGGCGCTGAGCTGGTCAAAGAGGTCGCCAAGAAG...CCG', SingleLetterAlphabet()), id='DQ124111.1', name='DQ124111.1', description='DQ124111.1 Mycobacterium cosmeticum strain DSM 44829 65 Kda heat shock protein (hsp65) gene, partial cds', dbxrefs=[])]),\n",
       "             (Seq('GAGGACCCATACGAGAAGATCGGCGCCGAGCTGGTCAAGGAGGTCGCCAAGAAG...CCG', SingleLetterAlphabet()),\n",
       "              [SeqRecord(seq=Seq('GAGGACCCATACGAGAAGATCGGCGCCGAGCTGGTCAAGGAGGTCGCCAAGAAG...CCG', SingleLetterAlphabet()), id='AY438090.1', name='AY438090.1', description='AY438090.1 Mycobacterium lacus 65 kDa heat shock protein (hsp65) gene, partial cds', dbxrefs=[])]),\n",
       "             (Seq('GAGGACCCGTACGAGAAGATCGGCGCTGAGCTGGTCAAGGAAGTCGCCAAGAAG...CCG', SingleLetterAlphabet()),\n",
       "              [SeqRecord(seq=Seq('GAGGACCCGTACGAGAAGATCGGCGCTGAGCTGGTCAAGGAAGTCGCCAAGAAG...CCG', SingleLetterAlphabet()), id='AY438080.1', name='AY438080.1', description='AY438080.1 Mycobacterium agri 65 kDa heat shock protein (hsp65) gene, partial cds', dbxrefs=[])]),\n",
       "             (Seq('GAGGACCCGTACGAGAAGATCGGCGCTGAGCTGGTCAAAGAGGTCGCCAAGAAG...CCG', SingleLetterAlphabet()),\n",
       "              [SeqRecord(seq=Seq('GAGGACCCGTACGAGAAGATCGGCGCTGAGCTGGTCAAAGAGGTCGCCAAGAAG...CCG', SingleLetterAlphabet()), id='AY438649.1', name='AY438649.1', description='AY438649.1 Mycobacterium komossense 65 kDa heat shock protein (hsp65) gene, partial cds', dbxrefs=[])]),\n",
       "             (Seq('GAGGACCCGTACGAGAAGATCGGCGCCGAGCTGGTCAAGGAAGTCGCCAAGAAG...CCG', SingleLetterAlphabet()),\n",
       "              [SeqRecord(seq=Seq('GAGGACCCGTACGAGAAGATCGGCGCCGAGCTGGTCAAGGAAGTCGCCAAGAAG...CCG', SingleLetterAlphabet()), id='AY299189.1', name='AY299189.1', description='AY299189.1 Mycobacterium kansasii strain ATCC 12478 heat shock protein 65 (hsp65) gene, partial cds', dbxrefs=[]),\n",
       "               SeqRecord(seq=Seq('GAGGACCCGTACGAGAAGATCGGCGCCGAGCTGGTCAAGGAAGTCGCCAAGAAG...CCG', SingleLetterAlphabet()), id='AF434739.1', name='AF434739.1', description='AF434739.1 Mycobacterium kansasii strain ATCC 12478 65 kDa heat shock protein (hsp65) gene, partial cds', dbxrefs=[])]),\n",
       "             (Seq('GAGGACCCCTACGAGAAGATCGGCGCCGAGCTGGTCAAGGAAGTCGCCAAGAAG...CCG', SingleLetterAlphabet()),\n",
       "              [SeqRecord(seq=Seq('GAGGACCCCTACGAGAAGATCGGCGCCGAGCTGGTCAAGGAAGTCGCCAAGAAG...CCG', SingleLetterAlphabet()), id='AF547843.2', name='AF547843.2', description='AF547843.2 Mycobacterium heckeshornense strain DSM 44428 65 kDa heat shock protein (hsp65) gene, partial cds', dbxrefs=[])]),\n",
       "             (Seq('GAGGACCCGTACGAGAAGATCGGCGCTGAGCTGGTCAAAGAGGTCGCCAAGAAG...CCG', SingleLetterAlphabet()),\n",
       "              [SeqRecord(seq=Seq('GAGGACCCGTACGAGAAGATCGGCGCTGAGCTGGTCAAAGAGGTCGCCAAGAAG...CCG', SingleLetterAlphabet()), id='AF547887.1', name='AF547887.1', description='AF547887.1 Mycobacterium tusciae strain CIP 106367 65 kDa heat shock protein (hsp65) gene, partial cds', dbxrefs=[])]),\n",
       "             (Seq('GAGGACCCGTACGAGAAGATCGGCGCTGAACTGGTCAAAGAGGTCGCCAAGAAG...CCG', SingleLetterAlphabet()),\n",
       "              [SeqRecord(seq=Seq('GAGGACCCGTACGAGAAGATCGGCGCTGAACTGGTCAAAGAGGTCGCCAAGAAG...CCG', SingleLetterAlphabet()), id='AF547870.1', name='AF547870.1', description='AF547870.1 Mycobacterium rhodesiae strain CIP 106806 65 kDa heat shock protein (hsp65) gene, partial cds', dbxrefs=[])]),\n",
       "             (Seq('GAGGACCCGTACGAGAAGATCGGCGCCGAGCTGGTCAAGGAAGTCGCCAAGAAG...CCG', SingleLetterAlphabet()),\n",
       "              [SeqRecord(seq=Seq('GAGGACCCGTACGAGAAGATCGGCGCCGAGCTGGTCAAGGAAGTCGCCAAGAAG...CCG', SingleLetterAlphabet()), id='AF547869.1', name='AF547869.1', description='AF547869.1 Mycobacterium pulveris strain CIP 106804 65 kDa heat shock protein (hsp65) gene, partial cds', dbxrefs=[])]),\n",
       "             (Seq('GAGGATCCGTACGAGAAGATCGGCGCTGAGCTGGTCAAGGAAGTCGCCAAGAAG...CCG', SingleLetterAlphabet()),\n",
       "              [SeqRecord(seq=Seq('GAGGATCCGTACGAGAAGATCGGCGCTGAGCTGGTCAAGGAAGTCGCCAAGAAG...CCG', SingleLetterAlphabet()), id='AF547868.1', name='AF547868.1', description='AF547868.1 Mycobacterium poriferae strain CIP 105394 65 kDa heat shock protein (hsp65) gene, partial cds', dbxrefs=[])]),\n",
       "             (Seq('GAGGACCCGTACGAGAAGATCGGCGCTGAGCTGGTCAAAGAGGTCGCCAAAAAG...CCG', SingleLetterAlphabet()),\n",
       "              [SeqRecord(seq=Seq('GAGGACCCGTACGAGAAGATCGGCGCTGAGCTGGTCAAAGAGGTCGCCAAAAAG...CCG', SingleLetterAlphabet()), id='AF547864.1', name='AF547864.1', description='AF547864.1 Mycobacterium parafortuitum strain CIP 106802 65 kDa heat shock protein (hsp65) gene, partial cds', dbxrefs=[])]),\n",
       "             (Seq('GAGGACCCCTACGAGAAGATCGGCGCAGAGCTGGTCAAGGAAGTCGCCAAGAAG...CCG', SingleLetterAlphabet()),\n",
       "              [SeqRecord(seq=Seq('GAGGACCCCTACGAGAAGATCGGCGCAGAGCTGGTCAAGGAAGTCGCCAAGAAG...CCG', SingleLetterAlphabet()), id='AF547863.1', name='AF547863.1', description='AF547863.1 Mycobacterium obuense strain CIP 106803 65 kDa heat shock protein (hsp65) gene, partial cds', dbxrefs=[])]),\n",
       "             (Seq('GAGGACCCGTACGAGAAGATCGGCGCTGAGCTGGTCAAGGAAGTCGCCAAGAAG...CCG', SingleLetterAlphabet()),\n",
       "              [SeqRecord(seq=Seq('GAGGACCCGTACGAGAAGATCGGCGCTGAGCTGGTCAAGGAAGTCGCCAAGAAG...CCG', SingleLetterAlphabet()), id='AF547862.1', name='AF547862.1', description='AF547862.1 Mycobacterium novocastrense strain CIP 105546 65 kDa heat shock protein (hsp65) gene, partial cds', dbxrefs=[])]),\n",
       "             (Seq('GAGGACCCGTACGAGAAGATCGGCGCCGAGCTGGTCAAAGAGGTCGCCAAGAAG...CCG', SingleLetterAlphabet()),\n",
       "              [SeqRecord(seq=Seq('GAGGACCCGTACGAGAAGATCGGCGCCGAGCTGGTCAAAGAGGTCGCCAAGAAG...CCG', SingleLetterAlphabet()), id='AF547859.1', name='AF547859.1', description='AF547859.1 Mycobacterium murale strain CIP 105980 65 kDa heat shock protein (hsp65) gene, partial cds', dbxrefs=[])]),\n",
       "             (Seq('GAGGACCCGTACGAGAAGATCGGCGCCGAGCTGGTCAAGGAAGTCGCCAAGAAG...CCG', SingleLetterAlphabet()),\n",
       "              [SeqRecord(seq=Seq('GAGGACCCGTACGAGAAGATCGGCGCCGAGCTGGTCAAGGAAGTCGCCAAGAAG...CCG', SingleLetterAlphabet()), id='AF547852.1', name='AF547852.1', description='AF547852.1 Mycobacterium madagascariense strain CIP 104538 65 kDa heat shock protein (hsp65) gene, partial cds', dbxrefs=[])]),\n",
       "             (Seq('GAGGACCCGTACGAGAAGATCGGCGCAGAGCTGGTCAAGGAAGTCGCCAAGAAG...CCG', SingleLetterAlphabet()),\n",
       "              [SeqRecord(seq=Seq('GAGGACCCGTACGAGAAGATCGGCGCAGAGCTGGTCAAGGAAGTCGCCAAGAAG...CCG', SingleLetterAlphabet()), id='AF547845.1', name='AF547845.1', description='AF547845.1 Mycobacterium hodleri strain CIP 104909 65 kDa heat shock protein (hsp65) gene, partial cds', dbxrefs=[])]),\n",
       "             (Seq('GAGGACCCGTACGAGAAGATCGGCGCCGAGCTGGTCAAGGAGGTCGCCAAGAAG...CCG', SingleLetterAlphabet()),\n",
       "              [SeqRecord(seq=Seq('GAGGACCCGTACGAGAAGATCGGCGCCGAGCTGGTCAAGGAGGTCGCCAAGAAG...CCG', SingleLetterAlphabet()), id='AF547844.1', name='AF547844.1', description='AF547844.1 Mycobacterium heidelbergense strain CIP 105424 65 kDa heat shock protein (hsp65) gene, partial cds', dbxrefs=[])]),\n",
       "             (Seq('GAGGACCCCTACGAGAAGATCGGCGCCGAGCTGGTCAAGGAAGTCGCCAAGAAG...CCG', SingleLetterAlphabet()),\n",
       "              [SeqRecord(seq=Seq('GAGGACCCCTACGAGAAGATCGGCGCCGAGCTGGTCAAGGAAGTCGCCAAGAAG...CCG', SingleLetterAlphabet()), id='AF547842.1', name='AF547842.1', description='AF547842.1 Mycobacterium hassiacum strain CIP 105218 65 kDa heat shock protein (hsp65) gene, partial cds', dbxrefs=[]),\n",
       "               SeqRecord(seq=Seq('GAGGACCCCTACGAGAAGATCGGCGCCGAGCTGGTCAAGGAAGTCGCCAAGAAG...CCG', SingleLetterAlphabet()), id='AY373456.1', name='AY373456.1', description='AY373456.1 Mycobacterium hassiacum strain ATCC 700660 heat shock protein (hsp65) gene, partial cds', dbxrefs=[])]),\n",
       "             (Seq('GAGGACCCGTACGAGAAGATCGGCGCTGAGCTGGTCAAAGAGGTCGCCAAGAAG...CCG', SingleLetterAlphabet()),\n",
       "              [SeqRecord(seq=Seq('GAGGACCCGTACGAGAAGATCGGCGCTGAGCTGGTCAAAGAGGTCGCCAAGAAG...CCG', SingleLetterAlphabet()), id='AF547835.1', name='AF547835.1', description='AF547835.1 Mycobacterium gadium strain CIP 105388 65 kDa heat shock protein (hsp65) gene, partial cds', dbxrefs=[])]),\n",
       "             (Seq('GAGGACCCGTACGAGAAGATCGGCGCCGAGCTGGTCAAGGAAGTCGCCAAGAAG...CCG', SingleLetterAlphabet()),\n",
       "              [SeqRecord(seq=Seq('GAGGACCCGTACGAGAAGATCGGCGCCGAGCTGGTCAAGGAAGTCGCCAAGAAG...CCG', SingleLetterAlphabet()), id='AF547828.1', name='AF547828.1', description='AF547828.1 Mycobacterium elephantis strain CIP 106831 65 kDa heat shock protein (hsp65) gene, partial cds', dbxrefs=[])]),\n",
       "             (Seq('GAGGATCCCTACGAGAAGATCGGCGCCGAGCTGGTCAAGGAAGTCGCCAAGAAG...CCG', SingleLetterAlphabet()),\n",
       "              [SeqRecord(seq=Seq('GAGGATCCCTACGAGAAGATCGGCGCCGAGCTGGTCAAGGAAGTCGCCAAGAAG...CCG', SingleLetterAlphabet()), id='AF547827.1', name='AF547827.1', description='AF547827.1 Mycobacterium duvalii strain CIP 104539 65 kDa heat shock protein (hsp65) gene, partial cds', dbxrefs=[])]),\n",
       "             (Seq('GAGGACCCGTACGAGAAGATCGGCGCTGAGCTGGTCAAGGAAGTTGCCAAGAAG...CCG', SingleLetterAlphabet()),\n",
       "              [SeqRecord(seq=Seq('GAGGACCCGTACGAGAAGATCGGCGCTGAGCTGGTCAAGGAAGTTGCCAAGAAG...CCG', SingleLetterAlphabet()), id='AF547825.1', name='AF547825.1', description='AF547825.1 Mycobacterium diernhoferi strain CIP 105384 65 kDa heat shock protein (hsp65) gene, partial cds', dbxrefs=[])]),\n",
       "             (Seq('GAGGACCCCTACGAGAAGATCGGCGCCGAGCTGGTCAAGGAAGTCGCCAAGAAG...CCG', SingleLetterAlphabet()),\n",
       "              [SeqRecord(seq=Seq('GAGGACCCCTACGAGAAGATCGGCGCCGAGCTGGTCAAGGAAGTCGCCAAGAAG...CCG', SingleLetterAlphabet()), id='AF547824.1', name='AF547824.1', description='AF547824.1 Mycobacterium cookii strain CIP 105396 65 kDa heat shock protein (hsp65) gene, partial cds', dbxrefs=[])]),\n",
       "             (Seq('GAGGACCCGTACGAGAAGATCGGCGCCGAGCTGGTCAAGGAGGTCGCCAAGAAG...CCG', SingleLetterAlphabet()),\n",
       "              [SeqRecord(seq=Seq('GAGGACCCGTACGAGAAGATCGGCGCCGAGCTGGTCAAGGAGGTCGCCAAGAAG...CCG', SingleLetterAlphabet()), id='AF547823.1', name='AF547823.1', description='AF547823.1 Mycobacterium conspicuum strain CIP 105165 65 kDa heat shock protein (hsp65) gene, partial cds', dbxrefs=[])]),\n",
       "             (Seq('GAGGACCCGTACGAGAAGATCGGCGCTGAGCTGGTCAAAGAGGTCGCCAAGAAG...CCG', SingleLetterAlphabet()),\n",
       "              [SeqRecord(seq=Seq('GAGGACCCGTACGAGAAGATCGGCGCTGAGCTGGTCAAAGAGGTCGCCAAGAAG...CCG', SingleLetterAlphabet()), id='AF547822.1', name='AF547822.1', description='AF547822.1 Mycobacterium confluentis strain CIP 105510 65 kDa heat shock protein (hsp65) gene, partial cds', dbxrefs=[]),\n",
       "               SeqRecord(seq=Seq('GAGGACCCGTACGAGAAGATCGGCGCTGAGCTGGTCAAAGAGGTCGCCAAGAAG...CCG', SingleLetterAlphabet()), id='AJ310228.1', name='AJ310228.1', description='AJ310228.1 Mycobacterium confluentis hsp65 gene for 65 KDa heat shock protein', dbxrefs=[])]),\n",
       "             (Seq('GAGGATCCGTACGAGAAGATCGGCGCCGAGCTGGTCAAGGAAGTCGCAAAGAAG...CCG', SingleLetterAlphabet()),\n",
       "              [SeqRecord(seq=Seq('GAGGATCCGTACGAGAAGATCGGCGCCGAGCTGGTCAAGGAAGTCGCAAAGAAG...CCG', SingleLetterAlphabet()), id='AF547821.1', name='AF547821.1', description='AF547821.1 Mycobacterium chubuense strain CIP 106810 65 kDa heat shock protein (hsp65) gene, partial cds', dbxrefs=[])]),\n",
       "             (Seq('GAGGATCCGTACGAGAAGATCGGCGCCGAGCTGGTCAAGGAAGTCGCCAAGAAG...CCG', SingleLetterAlphabet()),\n",
       "              [SeqRecord(seq=Seq('GAGGATCCGTACGAGAAGATCGGCGCCGAGCTGGTCAAGGAAGTCGCCAAGAAG...CCG', SingleLetterAlphabet()), id='AF547820.1', name='AF547820.1', description='AF547820.1 Mycobacterium chlorophenolicum strain CIP 104189 65 kDa heat shock protein (hsp65) gene, partial cds', dbxrefs=[])]),\n",
       "             (Seq('GAGGACCCGTACGAGAAGATCGGCGCTGAGCTGGTCAAGGAAGTCGCCAAGAAG...CCG', SingleLetterAlphabet()),\n",
       "              [SeqRecord(seq=Seq('GAGGACCCGTACGAGAAGATCGGCGCTGAGCTGGTCAAGGAAGTCGCCAAGAAG...CCG', SingleLetterAlphabet()), id='AF547816.1', name='AF547816.1', description='AF547816.1 Mycobacterium brumae strain CIP 103465 65 kDa heat shock protein (hsp65) gene, partial cds', dbxrefs=[]),\n",
       "               SeqRecord(seq=Seq('GAGGACCCGTACGAGAAGATCGGCGCTGAGCTGGTCAAGGAAGTCGCCAAGAAG...CCG', SingleLetterAlphabet()), id='AJ310224.1', name='AJ310224.1', description='AJ310224.1 Mycobacterium brumae hsp65 gene for 65 KDa heat shock protein', dbxrefs=[])]),\n",
       "             (Seq('GAGGACCCCTACGAGAAGATCGGCGCCGAGCTGGTCAAGGAAGTCGCCAAGAAG...CCG', SingleLetterAlphabet()),\n",
       "              [SeqRecord(seq=Seq('GAGGACCCCTACGAGAAGATCGGCGCCGAGCTGGTCAAGGAAGTCGCCAAGAAG...CCG', SingleLetterAlphabet()), id='AF547815.1', name='AF547815.1', description='AF547815.1 Mycobacterium branderi strain CIP 104592 65 kDa heat shock protein (hsp65) gene, partial cds', dbxrefs=[])]),\n",
       "             (Seq('GAGGACCCGTACGAGAAGATCGGCGCCGAGCTGGTCAAGGAAGTTGCCAAGAAG...CCG', SingleLetterAlphabet()),\n",
       "              [SeqRecord(seq=Seq('GAGGACCCGTACGAGAAGATCGGCGCCGAGCTGGTCAAGGAAGTTGCCAAGAAG...CCG', SingleLetterAlphabet()), id='AF547811.1', name='AF547811.1', description='AF547811.1 Mycobacterium bohemicum strain CIP 105811 65 kDa heat shock protein (hsp65) gene, partial cds', dbxrefs=[])]),\n",
       "             (Seq('GAGGACCCGTACGAGAAGATCGGCGCCGAGCTGGTCAAGGAAGTCGCCAAGAAG...CCG', SingleLetterAlphabet()),\n",
       "              [SeqRecord(seq=Seq('GAGGACCCGTACGAGAAGATCGGCGCCGAGCTGGTCAAGGAAGTCGCCAAGAAG...CCG', SingleLetterAlphabet()), id='AF547806.1', name='AF547806.1', description='AF547806.1 Mycobacterium asiaticum strain DSM 44297 65 kDa heat shock protein (hsp65) gene, partial cds', dbxrefs=[])]),\n",
       "             (Seq('GAGGACCCGTACGAGAAGATCGGCGCCGAGCTGGTCAAGGAAGTCGCCAAGAAG...CCG', SingleLetterAlphabet()),\n",
       "              [SeqRecord(seq=Seq('GAGGACCCGTACGAGAAGATCGGCGCCGAGCTGGTCAAGGAAGTCGCCAAGAAG...CCG', SingleLetterAlphabet()), id='KF910182.1', name='KF910182.1', description='KF910182.1 Mycobacterium anyangense strain QIA-38 heat shock protein 65 (hsp65) gene, partial cds', dbxrefs=[])]),\n",
       "             (Seq('GAGGACCCGTACGAGAAGATCGGCGCTGAGCTGGTCAAGGAAGTCGCCAAGAAG...CCG', SingleLetterAlphabet()),\n",
       "              [SeqRecord(seq=Seq('GAGGACCCGTACGAGAAGATCGGCGCTGAGCTGGTCAAGGAAGTCGCCAAGAAG...CCG', SingleLetterAlphabet()), id='GU362519.1', name='GU362519.1', description='GU362519.1 Mycobacterium flavescens strain ATCC 14474 GroEL (hsp65) gene, partial cds', dbxrefs=[])]),\n",
       "             (Seq('GAGGACCCGTACGAGAAGATCGGCGCCGAGCTGGTCAAGGAAGTCGCCAAGAAG...CCG', SingleLetterAlphabet()),\n",
       "              [SeqRecord(seq=Seq('GAGGACCCGTACGAGAAGATCGGCGCCGAGCTGGTCAAGGAAGTCGCCAAGAAG...CCG', SingleLetterAlphabet()), id='GU362517.1', name='GU362517.1', description='GU362517.1 Mycobacterium asiaticum strain ATCC 25276 GroEL (hsp65) gene, partial cds', dbxrefs=[])]),\n",
       "             (Seq('GAGGACCCGTACGAGAAGATCGGCGCCGAGCTGGTCAAGGAAGTCGCCAAGAAG...CCG', SingleLetterAlphabet()),\n",
       "              [SeqRecord(seq=Seq('GAGGACCCGTACGAGAAGATCGGCGCCGAGCTGGTCAAGGAAGTCGCCAAGAAG...CCG', SingleLetterAlphabet()), id='KJ586614.1', name='KJ586614.1', description='KJ586614.1 Mycobacterium celeriflavum strain FI-10161 65kD heath shock protein (hsp65) gene, partial cds', dbxrefs=[])]),\n",
       "             (Seq('GAGGACCCGTACGAGAAGATCGGCGCCGAGCTGGTCAAGGAAGTCGCCAAGAAG...CCG', SingleLetterAlphabet()),\n",
       "              [SeqRecord(seq=Seq('GAGGACCCGTACGAGAAGATCGGCGCCGAGCTGGTCAAGGAAGTCGCCAAGAAG...CCG', SingleLetterAlphabet()), id='KJ586613.1', name='KJ586613.1', description='KJ586613.1 Mycobacterium celeriflavum strain FI-09258 65kD heath shock protein (hsp65) gene, partial cds', dbxrefs=[])]),\n",
       "             (Seq('GAGGATCCGTACGAGAAGATCGGCGCTGAGCTGGTCAAGGAAGTTGCCAAGAAG...CCG', SingleLetterAlphabet()),\n",
       "              [SeqRecord(seq=Seq('GAGGATCCGTACGAGAAGATCGGCGCTGAGCTGGTCAAGGAAGTTGCCAAGAAG...CCG', SingleLetterAlphabet()), id='KM392060.1', name='KM392060.1', description='KM392060.1 Mycobacterium franklinii strain D16R27 heat shock protein 65 (hsp65) gene, partial cds', dbxrefs=[])]),\n",
       "             (Seq('GAGGATCCGTACGAGAAGATCGGCGCTGAGCTGGTCAAGGAAGTTGCCAAGAAG...CCG', SingleLetterAlphabet()),\n",
       "              [SeqRecord(seq=Seq('GAGGATCCGTACGAGAAGATCGGCGCTGAGCTGGTCAAGGAAGTTGCCAAGAAG...CCG', SingleLetterAlphabet()), id='KM392059.1', name='KM392059.1', description='KM392059.1 Mycobacterium franklinii strain DSM 45524 heat shock protein 65 (hsp65) gene, partial cds', dbxrefs=[])]),\n",
       "             (Seq('GAGGACCCGTACGAGAAGATCGGCGCCGAGCTGGTCAAGGAAGTTGCCAAGAAG...CCG', SingleLetterAlphabet()),\n",
       "              [SeqRecord(seq=Seq('GAGGACCCGTACGAGAAGATCGGCGCCGAGCTGGTCAAGGAAGTTGCCAAGAAG...CCG', SingleLetterAlphabet()), id='JQ898290.1', name='JQ898290.1', description='JQ898290.1 Mycobacterium iranicum strain CCUG 52297 65 kD heat shock protein (hsp65) gene, partial cds', dbxrefs=[])]),\n",
       "             (Seq('GAGGACCCGTACGAGAAGATCGGCGCTGAGCTGGTCAAGGAAGTTGCCAAGAAG...CCG', SingleLetterAlphabet()),\n",
       "              [SeqRecord(seq=Seq('GAGGACCCGTACGAGAAGATCGGCGCTGAGCTGGTCAAGGAAGTTGCCAAGAAG...CCG', SingleLetterAlphabet()), id='AB624285.1', name='AB624285.1', description='AB624285.1 Mycobacterium ulcerans hsp65 gene for heat shock protein 65, partial cds, strain: LRC0801', dbxrefs=[])]),\n",
       "             (Seq('GAGGACCCCTACGAGAAGATCGGCGCCGAGCTGGTCAAGGAAGTCGCCAAGAAG...CCG', SingleLetterAlphabet()),\n",
       "              [SeqRecord(seq=Seq('GAGGACCCCTACGAGAAGATCGGCGCCGAGCTGGTCAAGGAAGTCGCCAAGAAG...CCG', SingleLetterAlphabet()), id='AB547402.2', name='AB547402.2', description='AB547402.2 Mycobacterium shigaense hsp65 gene for heat shock protein, partial cds', dbxrefs=[])]),\n",
       "             (Seq('GAGGACCCATACGAGAAGATCGGCGCCGAGCTGGTCAAGGAAGTCGCCAAGAAA...CCG', SingleLetterAlphabet()),\n",
       "              [SeqRecord(seq=Seq('GAGGACCCATACGAGAAGATCGGCGCCGAGCTGGTCAAGGAAGTCGCCAAGAAA...CCG', SingleLetterAlphabet()), id='FJ384764.1', name='FJ384764.1', description='FJ384764.1 Mycobacterium angelicum strain JCM 18267 65 kDa heat shock protein (hsp65) gene, partial cds', dbxrefs=[]),\n",
       "               SeqRecord(seq=Seq('GAGGACCCATACGAGAAGATCGGCGCCGAGCTGGTCAAGGAAGTCGCCAAGAAA...CCG', SingleLetterAlphabet()), id='AM902962.2', name='AM902962.2', description='AM902962.2 Mycobacterium angelicum partial hsp65 gene for heat shock protein, type strain DSM 45057T', dbxrefs=[])]),\n",
       "             (Seq('GAGGACCCGTACGAGAAGATCGGCGCTGAGCTGGTCAAGGAAGTTGCGAAGAAG...CCG', SingleLetterAlphabet()),\n",
       "              [SeqRecord(seq=Seq('GAGGACCCGTACGAGAAGATCGGCGCTGAGCTGGTCAAGGAAGTTGCGAAGAAG...CCG', SingleLetterAlphabet()), id='EF535604.1', name='EF535604.1', description='EF535604.1 Mycobacterium salmoniphilum strain MT1900 heat shock protein 65 (hsp65) gene, partial cds', dbxrefs=[])]),\n",
       "             (Seq('GAGGACCCGTACGAGAAGATCGGCGCTGAGCTGGTCAAGGAAGTCGCCAAGAAG...CCG', SingleLetterAlphabet()),\n",
       "              [SeqRecord(seq=Seq('GAGGACCCGTACGAGAAGATCGGCGCTGAGCTGGTCAAGGAAGTCGCCAAGAAG...CCG', SingleLetterAlphabet()), id='DQ350161.1', name='DQ350161.1', description='DQ350161.1 Mycobacterium yunnanensis strain DSM 44838 65 kDa heat shock protein (hsp65) gene, partial cds', dbxrefs=[])]),\n",
       "             (Seq('GAGGACCCGTACGAGAAGATCGGCGCCGAGCTGGTCAAAGAGGTCGCCAAGAAG...CCG', SingleLetterAlphabet()),\n",
       "              [SeqRecord(seq=Seq('GAGGACCCGTACGAGAAGATCGGCGCCGAGCTGGTCAAAGAGGTCGCCAAGAAG...CCG', SingleLetterAlphabet()), id='DQ350160.1', name='DQ350160.1', description='DQ350160.1 Mycobacterium hackensackense strain DSM 44833 65 kDa heat shock protein (hsp65) gene, partial cds', dbxrefs=[])]),\n",
       "             (Seq('GAGGACCCCTACGAGAAGATCGGCGCTGAGCTGGTCAAAGAGGTCGCCAAGAAG...CCG', SingleLetterAlphabet()),\n",
       "              [SeqRecord(seq=Seq('GAGGACCCCTACGAGAAGATCGGCGCTGAGCTGGTCAAAGAGGTCGCCAAGAAG...CCG', SingleLetterAlphabet()), id='DQ350159.1', name='DQ350159.1', description='DQ350159.1 Mycobacterium neglectum strain DSM 44756 65 kDa heat shock protein (hsp65) gene, partial cds', dbxrefs=[])]),\n",
       "             (Seq('GAGGACCCGTACGAGAAGATCGGCGCTGAGCTGGTCAAAGAGGTCGCCAAGAAG...CCG', SingleLetterAlphabet()),\n",
       "              [SeqRecord(seq=Seq('GAGGACCCGTACGAGAAGATCGGCGCTGAGCTGGTCAAAGAGGTCGCCAAGAAG...CCG', SingleLetterAlphabet()), id='DQ350158.1', name='DQ350158.1', description='DQ350158.1 Mycobacterium manitobense strain DSM 44615 65 kDa heat shock protein (hsp65) gene, partial cds', dbxrefs=[])]),\n",
       "             (Seq('GAGGACCCCTACGAGAAGATCGGTGCTGAGCTCGTCAAAGAGGTCGCCAAGAAG...C--', SingleLetterAlphabet()),\n",
       "              [SeqRecord(seq=Seq('GAGGACCCCTACGAGAAGATCGGTGCTGAGCTCGTCAAAGAGGTCGCCAAGAAG...C--', SingleLetterAlphabet()), id='DQ350155.1', name='DQ350155.1', description='DQ350155.1 Mycobacterium piscinum strain DSM 43272 65 kDa heat shock protein (hsp65) gene, partial cds', dbxrefs=[])]),\n",
       "             (Seq('GAGGACCCGTACGAGAAGATCGGCGCCGAGCTGGTCAAGGAAGTCGCCAAGAAG...CCG', SingleLetterAlphabet()),\n",
       "              [SeqRecord(seq=Seq('GAGGACCCGTACGAGAAGATCGGCGCCGAGCTGGTCAAGGAAGTCGCCAAGAAG...CCG', SingleLetterAlphabet()), id='AY373458.1', name='AY373458.1', description='AY373458.1 Mycobacterium kubicae strain ATCC 700732 heat shock protein (hsp65) gene, partial cds', dbxrefs=[])]),\n",
       "             (Seq('GAGGACCCCTACGAGAAGATCGGCGCCGAGCTGGTCAAGGAAGTCGCCAAGAAG...CCG', SingleLetterAlphabet()),\n",
       "              [SeqRecord(seq=Seq('GAGGACCCCTACGAGAAGATCGGCGCCGAGCTGGTCAAGGAAGTCGCCAAGAAG...CCG', SingleLetterAlphabet()), id='AY373454.1', name='AY373454.1', description='AY373454.1 Mycobacterium xenopi strain ATCC 19250 heat shock protein (hsp65) gene, partial cds', dbxrefs=[]),\n",
       "               SeqRecord(seq=Seq('GAGGACCCCTACGAGAAGATCGGCGCCGAGCTGGTCAAGGAAGTCGCCAAGAAG...CCG', SingleLetterAlphabet()), id='AF434738.1', name='AF434738.1', description='AF434738.1 Mycobacterium xenopi strain ATCC 19250 65 kDa heat shock protein (hsp65) gene, partial cds', dbxrefs=[])]),\n",
       "             (Seq('GAGGACCCGTACGAGAAGATCGGCGCTGAGCTGGTCAAAGAGGTCGCCAAGAAG...CCG', SingleLetterAlphabet()),\n",
       "              [SeqRecord(seq=Seq('GAGGACCCGTACGAGAAGATCGGCGCTGAGCTGGTCAAAGAGGTCGCCAAGAAG...CCG', SingleLetterAlphabet()), id='AY299163.1', name='AY299163.1', description='AY299163.1 Mycobacterium vaccae strain ATCC 15483 heat shock protein 65 (hsp65) gene, partial cds', dbxrefs=[])]),\n",
       "             (Seq('GAGGACCCCTACGAGAAGATCGGCGCTGAGCTGGTCAAGGAAGTCGCCAAGAAG...CCG', SingleLetterAlphabet()),\n",
       "              [SeqRecord(seq=Seq('GAGGACCCCTACGAGAAGATCGGCGCTGAGCTGGTCAAGGAAGTCGCCAAGAAG...CCG', SingleLetterAlphabet()), id='AY299162.1', name='AY299162.1', description='AY299162.1 Mycobacterium thermoresistibile strain ATCC 19527 heat shock protein 65 (hsp65) gene, partial cds', dbxrefs=[])]),\n",
       "             (Seq('GAGGACCCGTACGAGAAGATCGGCGCTGAGCTGGTCAAGGAAGTCGCCAAGAAG...CCG', SingleLetterAlphabet()),\n",
       "              [SeqRecord(seq=Seq('GAGGACCCGTACGAGAAGATCGGCGCTGAGCTGGTCAAGGAAGTCGCCAAGAAG...CCG', SingleLetterAlphabet()), id='AY299160.1', name='AY299160.1', description='AY299160.1 Mycobacterium senegalense strain ATCC 35796 heat shock protein 65 (hsp65) gene, partial cds', dbxrefs=[])]),\n",
       "             (Seq('GAGGACCCGTACGAGAAGATCGGCGCTGAGCTGGTCAAAGAGGTCGCCAAGAAG...CCG', SingleLetterAlphabet()),\n",
       "              [SeqRecord(seq=Seq('GAGGACCCGTACGAGAAGATCGGCGCTGAGCTGGTCAAAGAGGTCGCCAAGAAG...CCG', SingleLetterAlphabet()), id='AY299159.1', name='AY299159.1', description='AY299159.1 Mycobacterium peregrinum strain ATCC 14467 heat shock protein 65 (hsp65) gene, partial cds', dbxrefs=[]),\n",
       "               SeqRecord(seq=Seq('GAGGACCCGTACGAGAAGATCGGCGCTGAGCTGGTCAAAGAGGTCGCCAAGAAG...CCG', SingleLetterAlphabet()), id='AM398443.1', name='AM398443.1', description='AM398443.1 Mycobacterium peregrinum partial hsp65 gene for 65 kDa heat shock protein, strain IoA5', dbxrefs=[])]),\n",
       "             (Seq('GAGGACCCGTACGAGAAGATCGGCGCAGAGCTGGTCAAGGAAGTCGCCAAGAAG...CCG', SingleLetterAlphabet()),\n",
       "              [SeqRecord(seq=Seq('GAGGACCCGTACGAGAAGATCGGCGCAGAGCTGGTCAAGGAAGTCGCCAAGAAG...CCG', SingleLetterAlphabet()), id='AY299154.1', name='AY299154.1', description='AY299154.1 Mycobacterium aurum strain ATCC 23366 heat shock protein 65 (hsp65) gene, partial cds', dbxrefs=[])]),\n",
       "             (Seq('GAGGACCCGTACGAGAAGATCGGCGCTGAGCTGGTCAAGGAAGTCGCCAAGAAG...CCG', SingleLetterAlphabet()),\n",
       "              [SeqRecord(seq=Seq('GAGGACCCGTACGAGAAGATCGGCGCTGAGCTGGTCAAGGAAGTCGCCAAGAAG...CCG', SingleLetterAlphabet()), id='AY299151.1', name='AY299151.1', description='AY299151.1 Mycobacterium flavescens strain ATCC 14474 heat shock protein 65 (hsp65) gene, partial cds', dbxrefs=[])]),\n",
       "             (Seq('GAGGACCCGTACGAGAAGATCGGCGCTGAGCTCGTCAAAGAGGTCGCCAAGAAG...CCG', SingleLetterAlphabet()),\n",
       "              [SeqRecord(seq=Seq('GAGGACCCGTACGAGAAGATCGGCGCTGAGCTCGTCAAAGAGGTCGCCAAGAAG...CCG', SingleLetterAlphabet()), id='AY299150.1', name='AY299150.1', description='AY299150.1 Mycobacterium farcinogenes strain ATCC 35753 heat shock protein 65 (hsp65) gene, partial cds', dbxrefs=[]),\n",
       "               SeqRecord(seq=Seq('GAGGACCCGTACGAGAAGATCGGCGCTGAGCTCGTCAAAGAGGTCGCCAAGAAG...CCG', SingleLetterAlphabet()), id='AF547830.1', name='AF547830.1', description='AF547830.1 Mycobacterium farcinogenes strain DSM 43637 65 kDa heat shock protein (hsp65) gene, partial cds', dbxrefs=[])]),\n",
       "             (Seq('GAGGACCCGTACGAGAAGATCGGCGCCGAGCTGGTCAAGGAAGTCGCCAAGAAG...CCG', SingleLetterAlphabet()),\n",
       "              [SeqRecord(seq=Seq('GAGGACCCGTACGAGAAGATCGGCGCCGAGCTGGTCAAGGAAGTCGCCAAGAAG...CCG', SingleLetterAlphabet()), id='AY299149.1', name='AY299149.1', description='AY299149.1 Mycobacterium chitae strain ATCC 19627 heat shock protein 65 (hsp65) gene, partial cds', dbxrefs=[]),\n",
       "               SeqRecord(seq=Seq('GAGGACCCGTACGAGAAGATCGGCGCCGAGCTGGTCAAGGAAGTCGCCAAGAAG...CCG', SingleLetterAlphabet()), id='AJ310227.1', name='AJ310227.1', description='AJ310227.1 Mycobacterium chitae hsp65 gene for 65 KDa heat shock protein', dbxrefs=[])]),\n",
       "             (Seq('GAGGACCCGTACGAGAAGATCGGCGCTGAGCTGGTCAAGGAAGTCGCCAAGAAG...CCG', SingleLetterAlphabet()),\n",
       "              [SeqRecord(seq=Seq('GAGGACCCGTACGAGAAGATCGGCGCTGAGCTGGTCAAGGAAGTCGCCAAGAAG...CCG', SingleLetterAlphabet()), id='AY299147.1', name='AY299147.1', description='AY299147.1 Mycobacterium aichiense strain ATCC 27280 heat shock protein 65 (hsp65) gene, partial cds', dbxrefs=[]),\n",
       "               SeqRecord(seq=Seq('GAGGACCCGTACGAGAAGATCGGCGCTGAGCTGGTCAAGGAAGTCGCCAAGAAG...CCG', SingleLetterAlphabet()), id='AF547804.1', name='AF547804.1', description='AF547804.1 Mycobacterium aichiense strain DSM 44147 65 kDa heat shock protein (hsp65) gene, partial cds', dbxrefs=[])]),\n",
       "             (Seq('GAGGACCCGTACGAGAAGATTGGCGCTGAGCTGGTCAAGGAAGTTGCCAAGAAG...CCG', SingleLetterAlphabet()),\n",
       "              [SeqRecord(seq=Seq('GAGGACCCGTACGAGAAGATTGGCGCTGAGCTGGTCAAGGAAGTTGCCAAGAAG...CCG', SingleLetterAlphabet()), id='AY299145.1', name='AY299145.1', description='AY299145.1 Mycobacterium ulcerans strain ATCC 19423 heat shock protein 65 (hsp65) gene, partial cds', dbxrefs=[])]),\n",
       "             (Seq('GAGGACCCCTACGAGAAGATCGGCGCCGAGCTGGTCAAAGAGGTCGCCAAGAAG...CCG', SingleLetterAlphabet()),\n",
       "              [SeqRecord(seq=Seq('GAGGACCCCTACGAGAAGATCGGCGCCGAGCTGGTCAAAGAGGTCGCCAAGAAG...CCG', SingleLetterAlphabet()), id='AY299142.1', name='AY299142.1', description='AY299142.1 Mycobacterium terrae strain ATCC 15755 heat shock protein 65 (hsp65) gene, partial cds', dbxrefs=[]),\n",
       "               SeqRecord(seq=Seq('GAGGACCCCTACGAGAAGATCGGCGCCGAGCTGGTCAAAGAGGTCGCCAAGAAG...CCG', SingleLetterAlphabet()), id='AF434736.1', name='AF434736.1', description='AF434736.1 Mycobacterium terrae strain ATCC 15755 65 kDa heat shock protein (hsp65) gene, partial cds', dbxrefs=[])]),\n",
       "             (Seq('GAGGACCCGTACGAGAAGATCGGCGCCGAGCTGGTCAAGGAAGTTGCCAAGAAG...CCG', SingleLetterAlphabet()),\n",
       "              [SeqRecord(seq=Seq('GAGGACCCGTACGAGAAGATCGGCGCCGAGCTGGTCAAGGAAGTTGCCAAGAAG...CCG', SingleLetterAlphabet()), id='AY299141.1', name='AY299141.1', description='AY299141.1 Mycobacterium szulgai strain ATCC 35799 heat shock protein 65 (hsp65) gene, partial cds', dbxrefs=[])]),\n",
       "             (Seq('GAGGACCCGTACGAGAAGATCGGCGCTGAGCTGGTCAAGGAAGTTGCCAAGAAG...CCG', SingleLetterAlphabet()),\n",
       "              [SeqRecord(seq=Seq('GAGGACCCGTACGAGAAGATCGGCGCTGAGCTGGTCAAGGAAGTTGCCAAGAAG...CCG', SingleLetterAlphabet()), id='AY299134.1', name='AY299134.1', description='AY299134.1 Mycobacterium marinum strain ATCC 927 heat shock protein 65 (hsp65) gene, partial cds', dbxrefs=[]),\n",
       "               SeqRecord(seq=Seq('GAGGACCCGTACGAGAAGATCGGCGCTGAGCTGGTCAAGGAAGTTGCCAAGAAG...CCG', SingleLetterAlphabet()), id='AF456470.1', name='AF456470.1', description='AF456470.1 Mycobacterium marinum strain ATCC 927 heat shock protein 65 (hsp65) gene, partial cds', dbxrefs=[])]),\n",
       "             (Seq('GAGGACCCGTACGAGAAGATCGGCGCCGAGCTGGTCAAGGAAGTCGCCAAGAAG...CCG', SingleLetterAlphabet()),\n",
       "              [SeqRecord(seq=Seq('GAGGACCCGTACGAGAAGATCGGCGCCGAGCTGGTCAAGGAAGTCGCCAAGAAG...CCG', SingleLetterAlphabet()), id='HM602039.1', name='HM602039.1', description='HM602039.1 Mycobacterium bouchedurhonense strain CIP 109827 65 kDa heat shock protein (hsp65) gene, partial cds', dbxrefs=[])]),\n",
       "             (Seq('GAGGACCCGTACGAGAAGATCGGCGCCGAGCTGGTCAAGGAAGTCGCCAAGAAG...CCG', SingleLetterAlphabet()),\n",
       "              [SeqRecord(seq=Seq('GAGGACCCGTACGAGAAGATCGGCGCCGAGCTGGTCAAGGAAGTCGCCAAGAAG...CCG', SingleLetterAlphabet()), id='HM602038.1', name='HM602038.1', description='HM602038.1 Mycobacterium timonense strain CIP 109830 65 kDa heat shock protein (hsp65) gene, partial cds', dbxrefs=[]),\n",
       "               SeqRecord(seq=Seq('GAGGACCCGTACGAGAAGATCGGCGCCGAGCTGGTCAAGGAAGTCGCCAAGAAG...CCG', SingleLetterAlphabet()), id='KJ364654.1', name='KJ364654.1', description='KJ364654.1 Mycobacterium timonense strain NTMZ&Z1 65 kDa heat shock protein (hsp65) gene, partial cds', dbxrefs=[])]),\n",
       "             (Seq('GAGGACCCGTACGAGAAGATCGGCGCCGAGCTGGTCAAGGAAGTCGCCAAGAAG...CCG', SingleLetterAlphabet()),\n",
       "              [SeqRecord(seq=Seq('GAGGACCCGTACGAGAAGATCGGCGCCGAGCTGGTCAAGGAAGTCGCCAAGAAG...CCG', SingleLetterAlphabet()), id='HM602035.1', name='HM602035.1', description='HM602035.1 Mycobacterium psychrotolerans strain DSM 44697 65 kDa heat shock protein (hsp65) gene, partial cds', dbxrefs=[])]),\n",
       "             (Seq('GAGGACCCGTACGAGAAGATCGGCGCTGAGCTGGTCAAGGAAGTTGCCAAGAAG...CCG', SingleLetterAlphabet()),\n",
       "              [SeqRecord(seq=Seq('GAGGACCCGTACGAGAAGATCGGCGCTGAGCTGGTCAAGGAAGTTGCCAAGAAG...CCG', SingleLetterAlphabet()), id='EF551429.1', name='EF551429.1', description='EF551429.1 Mycobacterium phocaicum isolate MUCO_06-703 65 kDa heat shock protein (hsp65) gene, partial cds', dbxrefs=[])]),\n",
       "             (Seq('GAGGACCCGTACGAGAAGATCGGCGCTGAGCTGGTCAAGGAAGTTGCCAAGAAG...CCG', SingleLetterAlphabet()),\n",
       "              [SeqRecord(seq=Seq('GAGGACCCGTACGAGAAGATCGGCGCTGAGCTGGTCAAGGAAGTTGCCAAGAAG...CCG', SingleLetterAlphabet()), id='DQ987726.1', name='DQ987726.1', description='DQ987726.1 Mycobacterium phocaicum strain CCUG 50185 65 kDa heat shock protein (hsp65) gene, partial cds', dbxrefs=[]),\n",
       "               SeqRecord(seq=Seq('GAGGACCCGTACGAGAAGATCGGCGCTGAGCTGGTCAAGGAAGTTGCCAAGAAG...CCG', SingleLetterAlphabet()), id='AY458078.1', name='AY458078.1', description='AY458078.1 Mycobacterium mucogenicum strain ATCC 49649 65 kDa heat shock protein (hsp65) gene, partial cds', dbxrefs=[])]),\n",
       "             (Seq('GAGGACCCCTACGAGAAGATCGGCGCCGAGCTGGTCAAGGAAGTCGCCAAGAAA...CCG', SingleLetterAlphabet()),\n",
       "              [SeqRecord(seq=Seq('GAGGACCCCTACGAGAAGATCGGCGCCGAGCTGGTCAAGGAAGTCGCCAAGAAA...CCG', SingleLetterAlphabet()), id='HM588695.1', name='HM588695.1', description='HM588695.1 Mycobacterium tilburgii strain 092405-1 65 kDa heat shock protein (hsp65) gene, partial cds', dbxrefs=[])]),\n",
       "             (Seq('GAGGACCCCTACGAGAAGATCGGCGCTGAGCTGGTCAAGGAAGTCGCCAAGAAG...CCG', SingleLetterAlphabet()),\n",
       "              [SeqRecord(seq=Seq('GAGGACCCCTACGAGAAGATCGGCGCTGAGCTGGTCAAGGAAGTCGCCAAGAAG...CCG', SingleLetterAlphabet()), id='FJ236482.1', name='FJ236482.1', description='FJ236482.1 Mycobacterium thermoresistibile strain GN-6223 65 kDa heat shock protein (hsp65) gene, partial cds', dbxrefs=[])]),\n",
       "             (Seq('GAGGACCCGTACGAGGAGATCGGCGCTGAGCTGGTCAAAGAGGTCGCCAAGAAG...CCG', SingleLetterAlphabet()),\n",
       "              [SeqRecord(seq=Seq('GAGGACCCGTACGAGGAGATCGGCGCTGAGCTGGTCAAAGAGGTCGCCAAGAAG...CCG', SingleLetterAlphabet()), id='EU371508.1', name='EU371508.1', description='EU371508.1 Mycobacterium setense strain 74023791 Hsp65 gene, partial cds', dbxrefs=[])]),\n",
       "             (Seq('GAGGACCCGTACGAGAAGATCGGCGCTGAGCTGGTCAAGGAAGTCGCCAAGAAG...CCG', SingleLetterAlphabet()),\n",
       "              [SeqRecord(seq=Seq('GAGGACCCGTACGAGAAGATCGGCGCTGAGCTGGTCAAGGAAGTCGCCAAGAAG...CCG', SingleLetterAlphabet()), id='EU165539.1', name='EU165539.1', description='EU165539.1 Mycobacterium brasiliensis strain Rio559.03 heat shock protein 65 (hsp65) gene, partial cds', dbxrefs=[])]),\n",
       "             (Seq('GAGGACCCGTACGAGAAGATCGGCGCCGAGCTGGTCAAAGAGGTCGCCAAGAAG...CCG', SingleLetterAlphabet()),\n",
       "              [SeqRecord(seq=Seq('GAGGACCCGTACGAGAAGATCGGCGCCGAGCTGGTCAAAGAGGTCGCCAAGAAG...CCG', SingleLetterAlphabet()), id='EU140946.1', name='EU140946.1', description='EU140946.1 Mycobacterium engbaekii Hsp65 gene, partial cds', dbxrefs=[])]),\n",
       "             (Seq('GAGGACCCGTACGAAAAGATCGGCGCCGAGCTGGTTAAGGAAGTCGCCAAGAAA...CCG', SingleLetterAlphabet()),\n",
       "              [SeqRecord(seq=Seq('GAGGACCCGTACGAAAAGATCGGCGCCGAGCTGGTTAAGGAAGTCGCCAAGAAA...CCG', SingleLetterAlphabet()), id='AY550232.1', name='AY550232.1', description='AY550232.1 Mycobacterium lepraemurium strain variant TS130 65 kDa heat shock protein (hsp65) gene, partial cds', dbxrefs=[])]),\n",
       "             (Seq('GAGGATCCGTACGAGAAGATCGGTGCTGAGCTGGTTAAGGAAGTCGCCAAGAAG...CTG', SingleLetterAlphabet()),\n",
       "              [SeqRecord(seq=Seq('GAGGATCCGTACGAGAAGATCGGTGCTGAGCTGGTTAAGGAAGTCGCCAAGAAG...CTG', SingleLetterAlphabet()), id='AY550208.1', name='AY550208.1', description='AY550208.1 Mycobacterium visibile strain 94-2864 65 kDa heat shock protein (hsp65) gene, partial cds', dbxrefs=[])]),\n",
       "             (Seq('GAGGACCCGTACGAGAAGATCGGCGCTGAGCTGGTCAAGGAAGTTGCCAAGAAG...CCG', SingleLetterAlphabet()),\n",
       "              [SeqRecord(seq=Seq('GAGGACCCGTACGAGAAGATCGGCGCTGAGCTGGTCAAGGAAGTTGCCAAGAAG...CCG', SingleLetterAlphabet()), id='AY458080.1', name='AY458080.1', description='AY458080.1 Mycobacterium mucogenicum strain ATCC 49651 65 kDa heat shock protein (hsp65) gene, partial cds', dbxrefs=[])]),\n",
       "             (Seq('GAGGACCCGTACGAGAAGATTGGCGCTGAGTTGGTCAAGGAAGTCGCCAAGAAG...CCG', SingleLetterAlphabet()),\n",
       "              [SeqRecord(seq=Seq('GAGGACCCGTACGAGAAGATTGGCGCTGAGTTGGTCAAGGAAGTCGCCAAGAAG...CCG', SingleLetterAlphabet()), id='AY299192.1', name='AY299192.1', description='AY299192.1 Mycobacterium leprae heat shock protein 65 (hsp65) gene, partial cds', dbxrefs=[])]),\n",
       "             (Seq('GAGGACCCGTACGAGAAGATCGGCGCCGAGCTGGTCAAGGAAGTTGCCAAGAAG...CCG', SingleLetterAlphabet()),\n",
       "              [SeqRecord(seq=Seq('GAGGACCCGTACGAGAAGATCGGCGCCGAGCTGGTCAAGGAAGTTGCCAAGAAG...CCG', SingleLetterAlphabet()), id='AY299187.1', name='AY299187.1', description='AY299187.1 Mycobacterium intermedium strain ATCC 51848 heat shock protein 65 (hsp65) gene, partial cds', dbxrefs=[]),\n",
       "               SeqRecord(seq=Seq('GAGGACCCGTACGAGAAGATCGGCGCCGAGCTGGTCAAGGAAGTTGCCAAGAAG...CCG', SingleLetterAlphabet()), id='KF910190.1', name='KF910190.1', description='KF910190.1 Mycobacterium intermedium strain QIA-54 heat shock protein 65 (hsp65) gene, partial cds', dbxrefs=[])]),\n",
       "             (Seq('GAGGACCCGTACGAGAAGATCGGCGCCGAGCTGGTCAAGGAAGTCGCCAAGAAG...CCG', SingleLetterAlphabet()),\n",
       "              [SeqRecord(seq=Seq('GAGGACCCGTACGAGAAGATCGGCGCCGAGCTGGTCAAGGAAGTCGCCAAGAAG...CCG', SingleLetterAlphabet()), id='AY299186.1', name='AY299186.1', description='AY299186.1 Mycobacterium interjectum strain ATCC 51457 heat shock protein 65 (hsp65) gene, partial cds', dbxrefs=[])]),\n",
       "             (Seq('GAGGACCCGTACGAGAAGATCGGCGCTGAGCTGGTCAAGGAAGTCGCCAAGAAG...CCG', SingleLetterAlphabet()),\n",
       "              [SeqRecord(seq=Seq('GAGGACCCGTACGAGAAGATCGGCGCTGAGCTGGTCAAGGAAGTCGCCAAGAAG...CCG', SingleLetterAlphabet()), id='AY299184.1', name='AY299184.1', description='AY299184.1 Mycobacterium gordonae strain ATCC 14470 heat shock protein 65 (hsp65) gene, partial cds', dbxrefs=[])]),\n",
       "             (Seq('GAGGACCCCTACGAGAAGATCGGCGCCGAGCTGGTCAAGGAAGTCGCCAAGAAG...CCG', SingleLetterAlphabet()),\n",
       "              [SeqRecord(seq=Seq('GAGGACCCCTACGAGAAGATCGGCGCCGAGCTGGTCAAGGAAGTCGCCAAGAAG...CCG', SingleLetterAlphabet()), id='HQ634149.1', name='HQ634149.1', description='HQ634149.1 Mycobacterium parmense strain InDRE Hy1 65 kDa heat shock protein (hsp65) gene, partial cds', dbxrefs=[]),\n",
       "               SeqRecord(seq=Seq('GAGGACCCCTACGAGAAGATCGGCGCCGAGCTGGTCAAGGAAGTCGCCAAGAAG...CCG', SingleLetterAlphabet()), id='JX154107.1', name='JX154107.1', description='JX154107.1 Mycobacterium parmense strain InDRE 1121 65 kDa heat shock protein (hsp65) gene, partial cds', dbxrefs=[])]),\n",
       "             (Seq('---------------------GGCGCTGAGCTGGTCAAGGAAGTCGCCAAGAAG...CCG', SingleLetterAlphabet()),\n",
       "              [SeqRecord(seq=Seq('---------------------GGCGCTGAGCTGGTCAAGGAAGTCGCCAAGAAG...CCG', SingleLetterAlphabet()), id='HM229789.1', name='HM229789.1', description='HM229789.1 Mycobacterium elephantis strain M202 65 kDa heat shock protein (hsp65) gene, partial cds', dbxrefs=[])]),\n",
       "             (Seq('GAGGAGCCGTACGAGAAGATCGGCGCTGAGCTGGTCAAAGAGGTCGCCAAGAAG...CCG', SingleLetterAlphabet()),\n",
       "              [SeqRecord(seq=Seq('GAGGAGCCGTACGAGAAGATCGGCGCTGAGCTGGTCAAAGAGGTCGCCAAGAAG...CCG', SingleLetterAlphabet()), id='AF547877.1', name='AF547877.1', description='AF547877.1 Mycobacterium sphagni strain DSM 44076 65 kDa heat shock protein (hsp65) gene, partial cds', dbxrefs=[])]),\n",
       "             (Seq('GAGGACCCGTACGAGAAGATCGGCGCTGAGCTGGTCAAAGAGGTCGCCAAGAAG...CCG', SingleLetterAlphabet()),\n",
       "              [SeqRecord(seq=Seq('GAGGACCCGTACGAGAAGATCGGCGCTGAGCTGGTCAAAGAGGTCGCCAAGAAG...CCG', SingleLetterAlphabet()), id='AF547867.1', name='AF547867.1', description='AF547867.1 Mycobacterium porcinum strain DSM 44242 65 kDa heat shock protein (hsp65) gene, partial cds', dbxrefs=[])]),\n",
       "             (Seq('GAGGACCCGTACGAGAAGATCGGCGCCGAGCTGGTCAAGGAAGTCGCCAAGAAG...CCG', SingleLetterAlphabet()),\n",
       "              [SeqRecord(seq=Seq('GAGGACCCGTACGAGAAGATCGGCGCCGAGCTGGTCAAGGAAGTCGCCAAGAAG...CCG', SingleLetterAlphabet()), id='AF547846.1', name='AF547846.1', description='AF547846.1 Mycobacterium interjectum strain DSM 44064 65 kDa heat shock protein (hsp65) gene, partial cds', dbxrefs=[])]),\n",
       "             (Seq('GAGGACCCGTACGAGAAGATCGGCGCTGAGCTGGTCAAAGAGGTCGCCAAGAAG...CCG', SingleLetterAlphabet()),\n",
       "              [SeqRecord(seq=Seq('GAGGACCCGTACGAGAAGATCGGCGCTGAGCTGGTCAAAGAGGTCGCCAAGAAG...CCG', SingleLetterAlphabet()), id='AF547838.1', name='AF547838.1', description='AF547838.1 Mycobacterium gilvum strain DSM 44503 65 kDa heat shock protein (hsp65) gene, partial cds', dbxrefs=[])]),\n",
       "             (Seq('GAGGACCCGTACGAGAAGATCGGCGCCGAGCTGGTCAAGGAAGTAGCCAAGAAG...CCG', SingleLetterAlphabet()),\n",
       "              [SeqRecord(seq=Seq('GAGGACCCGTACGAGAAGATCGGCGCCGAGCTGGTCAAGGAAGTAGCCAAGAAG...CCG', SingleLetterAlphabet()), id='AF547837.1', name='AF547837.1', description='AF547837.1 Mycobacterium genavense strain DSM 44424 65 kDa heat shock protein (hsp65) gene, partial cds', dbxrefs=[])]),\n",
       "             (Seq('GAGGACCCGTACGAGAAGATCGGCGCCGAGCTGGTCAAAGAGGTCGCCAAGAAG...CCG', SingleLetterAlphabet()),\n",
       "              [SeqRecord(seq=Seq('GAGGACCCGTACGAGAAGATCGGCGCCGAGCTGGTCAAAGAGGTCGCCAAGAAG...CCG', SingleLetterAlphabet()), id='AF547834.1', name='AF547834.1', description='AF547834.1 Mycobacterium frederiksbergense strain DSM 44346 65 kDa heat shock protein (hsp65) gene, partial cds', dbxrefs=[])]),\n",
       "             (Seq('GAGGACCCGTACGAGAAGATCGGCGCCGAGCTGGTCAAAGAGGTCGCCAAGAAG...CCG', SingleLetterAlphabet()),\n",
       "              [SeqRecord(seq=Seq('GAGGACCCGTACGAGAAGATCGGCGCCGAGCTGGTCAAAGAGGTCGCCAAGAAG...CCG', SingleLetterAlphabet()), id='AF547826.1', name='AF547826.1', description='AF547826.1 Mycobacterium doricum strain DSM 44339 65 kDa heat shock protein (hsp65) gene, partial cds', dbxrefs=[])]),\n",
       "             (Seq('GAGGACCCCTACGAGAAAATCGGCGCTGAGCTGGTCAAGGAAGTCGCCAAGAAG...CCG', SingleLetterAlphabet()),\n",
       "              [SeqRecord(seq=Seq('GAGGACCCCTACGAGAAAATCGGCGCTGAGCTGGTCAAGGAAGTCGCCAAGAAG...CCG', SingleLetterAlphabet()), id='AF547812.1', name='AF547812.1', description='AF547812.1 Mycobacterium botniense strain DSM 44537 65 kDa heat shock protein (hsp65) gene, partial cds', dbxrefs=[])]),\n",
       "             (Seq('GAGGACCCGTACGAGAAGATCGGCGCTGAGCTGGTCAAAGAGGTCGCCAAGAAG...CCG', SingleLetterAlphabet()),\n",
       "              [SeqRecord(seq=Seq('GAGGACCCGTACGAGAAGATCGGCGCTGAGCTGGTCAAAGAGGTCGCCAAGAAG...CCG', SingleLetterAlphabet()), id='KF667481.1', name='KF667481.1', description='KF667481.1 Mycobacterium gadium strain Q12 heat shock protein 65 kDa (hsp65) gene, partial cds', dbxrefs=[])]),\n",
       "             (Seq('---------------------GGCGCCGAGCTGGTCAAGGAAGTCGCCAAGAAG...CCG', SingleLetterAlphabet()),\n",
       "              [SeqRecord(seq=Seq('---------------------GGCGCCGAGCTGGTCAAGGAAGTCGCCAAGAAG...CCG', SingleLetterAlphabet()), id='FR682915.1', name='FR682915.1', description='FR682915.1 Mycobacterium europaeum partial hsp65 gene for heat shock protein 65 kD, strain AFP-0002', dbxrefs=[])]),\n",
       "             (Seq('GAGGACCCGTACGAGAAGATCGGCGCTGAGCTGGTCAAAGAGGTCGCCAAGAAG...CCG', SingleLetterAlphabet()),\n",
       "              [SeqRecord(seq=Seq('GAGGACCCGTACGAGAAGATCGGCGCTGAGCTGGTCAAAGAGGTCGCCAAGAAG...CCG', SingleLetterAlphabet()), id='AY496138.1', name='AY496138.1', description='AY496138.1 Mycobacterium porcinum ATCC BAA-328 65 kDa heat shock protein (hsp65) gene, partial cds', dbxrefs=[])]),\n",
       "             (Seq('GAGGACCCATACGAGAAGATCGGCGCCGAGCTGGTCAAGGAAGTCGCCAAGAAG...CCG', SingleLetterAlphabet()),\n",
       "              [SeqRecord(seq=Seq('GAGGACCCATACGAGAAGATCGGCGCCGAGCTGGTCAAGGAAGTCGCCAAGAAG...CCG', SingleLetterAlphabet()), id='AM902967.1', name='AM902967.1', description='AM902967.1 Mycobacterium stomatepiae partial hsp65 gene for heat shock protein, strain T4', dbxrefs=[]),\n",
       "               SeqRecord(seq=Seq('GAGGACCCATACGAGAAGATCGGCGCCGAGCTGGTCAAGGAAGTCGCCAAGAAG...CCG', SingleLetterAlphabet()), id='AM902966.1', name='AM902966.1', description='AM902966.1 Mycobacterium stomatepiae partial hsp65 gene for heat shock protein, strain T3', dbxrefs=[])]),\n",
       "             (Seq('GAGGACCCGTACGAGAAGATCGGCGCCGAGCTGGTCAAGGAAGTTGCCAAGAAG...CCG', SingleLetterAlphabet()),\n",
       "              [SeqRecord(seq=Seq('GAGGACCCGTACGAGAAGATCGGCGCCGAGCTGGTCAAGGAAGTTGCCAAGAAG...CCG', SingleLetterAlphabet()), id='AB362385.1', name='AB362385.1', description='AB362385.1 Mycobacterium lentiflavum hsp65 gene for heat shock protein, partial cds, strain: UN-107', dbxrefs=[])]),\n",
       "             (Seq('GAGGACCCGTACGAGAAGATCGGCGCCGAGCTGGTCAAGGAAGTCGCCAAGAAG...CCG', SingleLetterAlphabet()),\n",
       "              [SeqRecord(seq=Seq('GAGGACCCGTACGAGAAGATCGGCGCCGAGCTGGTCAAGGAAGTCGCCAAGAAG...CCG', SingleLetterAlphabet()), id='KX824025.1', name='KX824025.1', description='KX824025.1 Mycobacterium kubicae strain 420/13 HGM 65 kDa heat shock protein (hsp65) gene, partial cds', dbxrefs=[])]),\n",
       "             (Seq('GAGGACCCGTACGAGAAGATCGGCGCCGAGCTGGTCAAAGAGGTCGCCAAGAAG...CCG', SingleLetterAlphabet()),\n",
       "              [SeqRecord(seq=Seq('GAGGACCCGTACGAGAAGATCGGCGCCGAGCTGGTCAAAGAGGTCGCCAAGAAG...CCG', SingleLetterAlphabet()), id='DQ184963.1', name='DQ184963.1', description='DQ184963.1 Mycobacterium frederiksbergense strain OA128Y 65 kDa heat shock protein (hsp65) gene, partial cds', dbxrefs=[])]),\n",
       "             (Seq('GAGGACCCGTACGAGAAGATCGGCGCCGAGCTGGTCAAGGAAGTTGCCAAGAAG...CCG', SingleLetterAlphabet()),\n",
       "              [SeqRecord(seq=Seq('GAGGACCCGTACGAGAAGATCGGCGCCGAGCTGGTCAAGGAAGTTGCCAAGAAG...CCG', SingleLetterAlphabet()), id='AY943204.1', name='AY943204.1', description='AY943204.1 Mycobacterium montefiorense strain DSM 44602 65 kDa heat shock protein (hsp65) gene, partial cds', dbxrefs=[])]),\n",
       "             (Seq('GAGGACCCGTACGAGAAGATCGGCGCCGAGCTGGTCAAGGAAGTCGCCAAGAAG...CCG', SingleLetterAlphabet()),\n",
       "              [SeqRecord(seq=Seq('GAGGACCCGTACGAGAAGATCGGCGCCGAGCTGGTCAAGGAAGTCGCCAAGAAG...CCG', SingleLetterAlphabet()), id='AY943200.1', name='AY943200.1', description='AY943200.1 Mycobacterium palustre strain DSM 44572 65 kDa heat shock protein (hsp65) gene, partial cds', dbxrefs=[])]),\n",
       "             (Seq('GAGGACCCGTACGAGAAGATCGGCGCCGAGCTGGTCAAGGAAGTTGCCAAGAAG...CCG', SingleLetterAlphabet()),\n",
       "              [SeqRecord(seq=Seq('GAGGACCCGTACGAGAAGATCGGCGCCGAGCTGGTCAAGGAAGTTGCCAAGAAG...CCG', SingleLetterAlphabet()), id='AF434731.1', name='AF434731.1', description='AF434731.1 Mycobacterium szulgai strain ATCC 35799 65 kDa heat shock protein (hsp65) gene, partial cds', dbxrefs=[])]),\n",
       "             (Seq('GGAGATCCCTACGAGAAGATCGGCGCTGAGCTGGTCAAGGAAGTTGCCAAGAAG...CCG', SingleLetterAlphabet()),\n",
       "              [SeqRecord(seq=Seq('GGAGATCCCTACGAGAAGATCGGCGCTGAGCTGGTCAAGGAAGTTGCCAAGAAG...CCG', SingleLetterAlphabet()), id='FJ770997.1', name='FJ770997.1', description='FJ770997.1 Mycobacterium austroafricanum strain MC11 heat shock protein 65 (hsp65) gene, partial cds', dbxrefs=[])]),\n",
       "             (Seq('GAGGCCCCGTACGAGAAGATCGGCGCCGAGCTGGTCAAGGAGGTCGCCAAGAAG...CCG', SingleLetterAlphabet()),\n",
       "              [SeqRecord(seq=Seq('GAGGCCCCGTACGAGAAGATCGGCGCCGAGCTGGTCAAGGAGGTCGCCAAGAAG...CCG', SingleLetterAlphabet()), id='FJ770992.1', name='FJ770992.1', description='FJ770992.1 Mycobacterium psychrotolerans strain MC6 heat shock protein 65 gene, partial cds; and hsp65 gene, partial sequence', dbxrefs=[])]),\n",
       "             (Seq('GAGGACCCGTACGAGAAGATCGGCGCCGAGCTGGTCAAGGAAGTCGCCAAGAAG...CCG', SingleLetterAlphabet()),\n",
       "              [SeqRecord(seq=Seq('GAGGACCCGTACGAGAAGATCGGCGCCGAGCTGGTCAAGGAAGTCGCCAAGAAG...CCG', SingleLetterAlphabet()), id='KT992223.1', name='KT992223.1', description='KT992223.1 Mycobacterium paragordonae strain 29AIII 65 kDa heat shock protein (hsp65) gene, partial cds', dbxrefs=[]),\n",
       "               SeqRecord(seq=Seq('GAGGACCCGTACGAGAAGATCGGCGCCGAGCTGGTCAAGGAAGTCGCCAAGAAG...CCG', SingleLetterAlphabet()), id='KT992220.1', name='KT992220.1', description='KT992220.1 Mycobacterium paragordonae strain 10AIII 65 kDa heat shock protein (hsp65) gene, partial cds', dbxrefs=[])]),\n",
       "             (Seq('GAGGACCCCTACGAGAAGATCGGCGCAGAGCTGGTCAAGGAAGTCGCCAAGAAG...CCG', SingleLetterAlphabet()),\n",
       "              [SeqRecord(seq=Seq('GAGGACCCCTACGAGAAGATCGGCGCAGAGCTGGTCAAGGAAGTCGCCAAGAAG...CCG', SingleLetterAlphabet()), id='KT992221.1', name='KT992221.1', description='KT992221.1 Mycobacterium obuense strain 22DIII 65 kDa heat shock protein (hsp65) gene, partial cds', dbxrefs=[])]),\n",
       "             (Seq('GAGGACCCGTACGAGAAGATCGGCGCTGAGCTGGTCAAGGAAGTTGCCAAGAAG...CCG', SingleLetterAlphabet()),\n",
       "              [SeqRecord(seq=Seq('GAGGACCCGTACGAGAAGATCGGCGCTGAGCTGGTCAAGGAAGTTGCCAAGAAG...CCG', SingleLetterAlphabet()), id='KF910192.1', name='KF910192.1', description='KF910192.1 Mycobacterium chelonae strain QIA-56 heat shock protein 65 (hsp65) gene, partial cds', dbxrefs=[])]),\n",
       "             (Seq('GAGGACCCGTACGAGAAGATCGGCGCCGAGCTGGTCAAGGAAGTCGCCAAGAAG...CCG', SingleLetterAlphabet()),\n",
       "              [SeqRecord(seq=Seq('GAGGACCCGTACGAGAAGATCGGCGCCGAGCTGGTCAAGGAAGTCGCCAAGAAG...CCG', SingleLetterAlphabet()), id='KF910189.1', name='KF910189.1', description='KF910189.1 Mycobacterium gordonae strain QIA-53 heat shock protein 65 (hsp65) gene, partial cds', dbxrefs=[])]),\n",
       "             (Seq('GAGGATCCCTACGAGAAGATCGGCGCTGAGCTGGTCAAAGAGGTCGCCAAGAAG...CCG', SingleLetterAlphabet()),\n",
       "              [SeqRecord(seq=Seq('GAGGATCCCTACGAGAAGATCGGCGCTGAGCTGGTCAAAGAGGTCGCCAAGAAG...CCG', SingleLetterAlphabet()), id='KF910179.1', name='KF910179.1', description='KF910179.1 Mycobacterium nonchromogenicum strain QIA-35 heat shock protein 65 (hsp65) gene, partial cds', dbxrefs=[])]),\n",
       "             (Seq('GAGGACCCGTACGAGAAGATCGGCGCCGAGCTGGTCAAGGAAGTCGCCAAGAAG...CCG', SingleLetterAlphabet()),\n",
       "              [SeqRecord(seq=Seq('GAGGACCCGTACGAGAAGATCGGCGCCGAGCTGGTCAAGGAAGTCGCCAAGAAG...CCG', SingleLetterAlphabet()), id='KF910175.1', name='KF910175.1', description='KF910175.1 Mycobacterium parascrofulaceum strain QIA-30 heat shock protein 65 (hsp65) gene, partial cds', dbxrefs=[])]),\n",
       "             (Seq('GAGGACCCGTACGAGAAGATCGGCGCCGAGCTGGTCAAAGAGGTCGCCAAGAAG...CCG', SingleLetterAlphabet()),\n",
       "              [SeqRecord(seq=Seq('GAGGACCCGTACGAGAAGATCGGCGCCGAGCTGGTCAAAGAGGTCGCCAAGAAG...CCG', SingleLetterAlphabet()), id='KT695876.1', name='KT695876.1', description='KT695876.1 Mycobacterium murale strain F21 65 kDa heat shock protein (hsp65) gene, partial cds', dbxrefs=[])]),\n",
       "             (Seq('GAGGACCCGTACGAGAAGATCGGCGCCGAGCTGGTCAAGGAAGTCGCCAAGAAG...CCG', SingleLetterAlphabet()),\n",
       "              [SeqRecord(seq=Seq('GAGGACCCGTACGAGAAGATCGGCGCCGAGCTGGTCAAGGAAGTCGCCAAGAAG...CCG', SingleLetterAlphabet()), id='KP401760.1', name='KP401760.1', description='KP401760.1 Mycobacterium yongonense strain 34-126047 heat shock protein 65 (hsp65) gene, partial cds', dbxrefs=[]),\n",
       "               SeqRecord(seq=Seq('GAGGACCCGTACGAGAAGATCGGCGCCGAGCTGGTCAAGGAAGTCGCCAAGAAG...CCG', SingleLetterAlphabet()), id='KP401759.1', name='KP401759.1', description='KP401759.1 Mycobacterium yongonense strain 34-125920 heat shock protein 65 (hsp65) gene, partial cds', dbxrefs=[])]),\n",
       "             (Seq('GAGGACCCGTACGAGAAGATCGGCGCTGAGCTGGTCAAAGAGGTCGCCAAGAAG...CCG', SingleLetterAlphabet()),\n",
       "              [SeqRecord(seq=Seq('GAGGACCCGTACGAGAAGATCGGCGCTGAGCTGGTCAAAGAGGTCGCCAAGAAG...CCG', SingleLetterAlphabet()), id='KP768386.1', name='KP768386.1', description='KP768386.1 Mycobacterium brisbanense strain MYC100 65 kDa heat shock protein (hsp65) gene, partial cds', dbxrefs=[])]),\n",
       "             (Seq('GAGGACCCGTACGAGAAGATCGGCGCTGAGCTGGTCAAAGAGGTCGCCAAGAAG...CCG', SingleLetterAlphabet()),\n",
       "              [SeqRecord(seq=Seq('GAGGACCCGTACGAGAAGATCGGCGCTGAGCTGGTCAAAGAGGTCGCCAAGAAG...CCG', SingleLetterAlphabet()), id='HM775983.1', name='HM775983.1', description='HM775983.1 Mycobacterium setense strain FI-09227 heat shock protein (hsp65) gene, partial cds', dbxrefs=[])]),\n",
       "             (Seq('GAGGACCCGTACGAGAAGATCGGCGCCGAGCTGGTCAAGGAAGTCGCCAAGAAG...CCG', SingleLetterAlphabet()),\n",
       "              [SeqRecord(seq=Seq('GAGGACCCGTACGAGAAGATCGGCGCCGAGCTGGTCAAGGAAGTCGCCAAGAAG...CCG', SingleLetterAlphabet()), id='KF910308.1', name='KF910308.1', description='KF910308.1 Mycobacterium avium strain QIA-24 heat shock protein 65 (hsp65) gene, partial cds', dbxrefs=[]),\n",
       "               SeqRecord(seq=Seq('GAGGACCCGTACGAGAAGATCGGCGCCGAGCTGGTCAAGGAAGTCGCCAAGAAG...CCG', SingleLetterAlphabet()), id='KF910306.1', name='KF910306.1', description='KF910306.1 Mycobacterium avium strain QIA-22 heat shock protein 65 (hsp65) gene, partial cds', dbxrefs=[])]),\n",
       "             (Seq('GAGGACCCGTACGAGAATATCGGCGCCGATCTGGTCAAGGAAGTCGCCAAGAAG...CC-', SingleLetterAlphabet()),\n",
       "              [SeqRecord(seq=Seq('GAGGACCCGTACGAGAATATCGGCGCCGATCTGGTCAAGGAAGTCGCCAAGAAG...CC-', SingleLetterAlphabet()), id='JX294379.1', name='JX294379.1', description='JX294379.1 Mycobacterium branderi strain AFP-000NM48 heat shock protein 65 kDa (hsp65) gene, partial cds', dbxrefs=[])]),\n",
       "             (Seq('GAGGACCCGTACGAGAAGATCGGCGCTGAGCTCGTCAAAGAGGTCGCCAAGAAG...CCG', SingleLetterAlphabet()),\n",
       "              [SeqRecord(seq=Seq('GAGGACCCGTACGAGAAGATCGGCGCTGAGCTCGTCAAAGAGGTCGCCAAGAAG...CCG', SingleLetterAlphabet()), id='JX154127.1', name='JX154127.1', description='JX154127.1 Mycobacterium alvei strain InDRE 1605 65 kDa heat shock protein (hsp65) gene, partial cds', dbxrefs=[])]),\n",
       "             (Seq('GAGGACCCCTACGAGAAGATCGGCGCCGAGCTGGTCAAAGAGGTCGCCAAGAAG...CCG', SingleLetterAlphabet()),\n",
       "              [SeqRecord(seq=Seq('GAGGACCCCTACGAGAAGATCGGCGCCGAGCTGGTCAAAGAGGTCGCCAAGAAG...CCG', SingleLetterAlphabet()), id='JX154125.1', name='JX154125.1', description='JX154125.1 Mycobacterium senuense strain InDRE Chihuahua328 65 kDa heat shock protein (hsp65) gene, partial cds', dbxrefs=[])]),\n",
       "             (Seq('GAGGACCCGTACGAGAAGATCGGCGCTGAGCTGGTCAAGGAAGTCGCCAAGAAG...CCG', SingleLetterAlphabet()),\n",
       "              [SeqRecord(seq=Seq('GAGGACCCGTACGAGAAGATCGGCGCTGAGCTGGTCAAGGAAGTCGCCAAGAAG...CCG', SingleLetterAlphabet()), id='JX154123.1', name='JX154123.1', description='JX154123.1 Mycobacterium novocastrense strain InDRE Sonora705 65 kDa heat shock protein (hsp65) gene, partial cds', dbxrefs=[])]),\n",
       "             (Seq('GAGGACCCGTACGAGAAGATCGGCGCCGAGCTGGTCAAAGAGGTCGCCAAGAAG...CCG', SingleLetterAlphabet()),\n",
       "              [SeqRecord(seq=Seq('GAGGACCCGTACGAGAAGATCGGCGCCGAGCTGGTCAAAGAGGTCGCCAAGAAG...CCG', SingleLetterAlphabet()), id='JX154109.1', name='JX154109.1', description='JX154109.1 Mycobacterium engbaekii strain InDRE Chiapas1942 65 kDa heat shock protein (hsp65) gene, partial cds', dbxrefs=[])]),\n",
       "             (Seq('GAGGACCCGTACGAGAAGATCGGCGCCGAGCTGGTCAAAGAGGTCGCCAAGAAG...CCG', SingleLetterAlphabet()),\n",
       "              [SeqRecord(seq=Seq('GAGGACCCGTACGAGAAGATCGGCGCCGAGCTGGTCAAAGAGGTCGCCAAGAAG...CCG', SingleLetterAlphabet()), id='KC684921.1', name='KC684921.1', description='KC684921.1 Mycobacterium arupense strain ASCw-1.7 heat shock protein 65 (hsp65) gene, partial cds', dbxrefs=[])]),\n",
       "             (Seq('GAGGACCCTTACGAGAAGATCGGCGCTGAGCTGGTCAAAGAGGTCGCCAAGAAG...CC-', SingleLetterAlphabet()),\n",
       "              [SeqRecord(seq=Seq('GAGGACCCTTACGAGAAGATCGGCGCTGAGCTGGTCAAAGAGGTCGCCAAGAAG...CC-', SingleLetterAlphabet()), id='GQ924939.1', name='GQ924939.1', description='GQ924939.1 Mycobacterium monacense strain GR-3982 65 kDa heat shock protein (hsp65) gene, partial cds', dbxrefs=[])]),\n",
       "             (Seq('GAGGACCCGTACGAGAAGATCGGCGCTGAGCTGGTCAAAGAGGTCGCCAAGAAG...CCG', SingleLetterAlphabet()),\n",
       "              [SeqRecord(seq=Seq('GAGGACCCGTACGAGAAGATCGGCGCTGAGCTGGTCAAAGAGGTCGCCAAGAAG...CCG', SingleLetterAlphabet()), id='EU732653.1', name='EU732653.1', description='EU732653.1 Mycobacterium alvei strain 05K223 65 kDa heat shock protein (hsp65) gene, partial cds', dbxrefs=[])]),\n",
       "             (Seq('GAGGACCCGTACGAGAAGATCGGCGCCGAGCTGGTCAAGGAAGTTGCCAAGAAG...CCG', SingleLetterAlphabet()),\n",
       "              [SeqRecord(seq=Seq('GAGGACCCGTACGAGAAGATCGGCGCCGAGCTGGTCAAGGAAGTTGCCAAGAAG...CCG', SingleLetterAlphabet()), id='AM902964.1', name='AM902964.1', description='AM902964.1 Mycobacterium aemonae partial hsp65 gene for heat shock protein, type strain DSM 45058T', dbxrefs=[])]),\n",
       "             (Seq('GAGGACCCGTACGAGAAGATCGGCGCTGAGCTGGTCAAGGAAGTCGCCAAGAAG...CCG', SingleLetterAlphabet()),\n",
       "              [SeqRecord(seq=Seq('GAGGACCCGTACGAGAAGATCGGCGCTGAGCTGGTCAAGGAAGTCGCCAAGAAG...CCG', SingleLetterAlphabet()), id='AM398478.1', name='AM398478.1', description='AM398478.1 Mycobacterium conceptionense partial hsp65 gene for 65 kDa heat shock protein, strain S18', dbxrefs=[]),\n",
       "               SeqRecord(seq=Seq('GAGGACCCGTACGAGAAGATCGGCGCTGAGCTGGTCAAGGAAGTCGCCAAGAAG...CCG', SingleLetterAlphabet()), id='AM398477.1', name='AM398477.1', description='AM398477.1 Mycobacterium conceptionense partial hsp65 gene for 65 kDa heat shock protein, strain 55/02', dbxrefs=[])]),\n",
       "             (Seq('GAGGATCCGTACGAGAAGATCGGCGCTGAGCTGGTCAAGGAAGTCGCCAAGAAG...CCG', SingleLetterAlphabet()),\n",
       "              [SeqRecord(seq=Seq('GAGGATCCGTACGAGAAGATCGGCGCTGAGCTGGTCAAGGAAGTCGCCAAGAAG...CCG', SingleLetterAlphabet()), id='AJ307645.1', name='AJ307645.1', description='AJ307645.1 Mycobacterium poriferae partial hsp65 gene for 65 kDa heat shock protein', dbxrefs=[])]),\n",
       "             (Seq('GAGGACCCGTACGAAAAGATCGGCGCCGAGCTGGTCAAGGAAGTCGCCAAGAAG...CCG', SingleLetterAlphabet()),\n",
       "              [SeqRecord(seq=Seq('GAGGACCCGTACGAAAAGATCGGCGCCGAGCTGGTCAAGGAAGTCGCCAAGAAG...CCG', SingleLetterAlphabet()), id='AJ307641.1', name='AJ307641.1', description='AJ307641.1 Mycobacterium paratuberculosis partial hsp65 gene for 65 kDa heat shock protein', dbxrefs=[])]),\n",
       "             (Seq('GAGGATCCCTACGAGAAGATCGGCGCCGAGCTGGTCAAGGAAGTCGCCAAGAAG...CCG', SingleLetterAlphabet()),\n",
       "              [SeqRecord(seq=Seq('GAGGATCCCTACGAGAAGATCGGCGCCGAGCTGGTCAAGGAAGTCGCCAAGAAG...CCG', SingleLetterAlphabet()), id='AJ310229.1', name='AJ310229.1', description='AJ310229.1 Mycobacterium duvalii hsp65 gene for 65 KDa heat shock protein', dbxrefs=[])]),\n",
       "             (Seq('GAGGACCCGTACGAGAAGATCGGCGCTGAGCTGGTCAAGGAAGTTGCCAAAAAG...CCG', SingleLetterAlphabet()),\n",
       "              [SeqRecord(seq=Seq('GAGGACCCGTACGAGAAGATCGGCGCTGAGCTGGTCAAGGAAGTTGCCAAAAAG...CCG', SingleLetterAlphabet()), id='AJ307651.1', name='AJ307651.1', description='AJ307651.1 Mycobacterium siernhoferi partial hsp65 gene for 65 kDa heat shock protein', dbxrefs=[])]),\n",
       "             (Seq('GGAGGACCCTACGAGAAGATCGGCGCCGAGCTGGTCAAGGAAGTCGCCAAGAAG...CCG', SingleLetterAlphabet()),\n",
       "              [SeqRecord(seq=Seq('GGAGGACCCTACGAGAAGATCGGCGCCGAGCTGGTCAAGGAAGTCGCCAAGAAG...CCG', SingleLetterAlphabet()), id='AJ307646.1', name='AJ307646.1', description='AJ307646.1 Mycobacterium pulveris partial hsp65 gene for 65 kDa heat shock protein', dbxrefs=[])]),\n",
       "             (Seq('AGGATCCAGTACGAGAAGATCGGCGCCGAGCTGGTCAAAGAGGTCGCCAAGAAG...CCC', SingleLetterAlphabet()),\n",
       "              [SeqRecord(seq=Seq('AGGATCCAGTACGAGAAGATCGGCGCCGAGCTGGTCAAAGAGGTCGCCAAGAAG...CCC', SingleLetterAlphabet()), id='AJ307655.1', name='AJ307655.1', description='AJ307655.1 Mycobacterium sphagni partial hsp65 gene for 65 kDa heat shock protein', dbxrefs=[])]),\n",
       "             (Seq('GGAGG-ACCGTACGANAAGACGGCGCTGAGCTGGTCAAAGAGGTCGCCAAGAAG...GGC', SingleLetterAlphabet()),\n",
       "              [SeqRecord(seq=Seq('GGAGG-ACCGTACGANAAGACGGCGCTGAGCTGGTCAAAGAGGTCGCCAAGAAG...GGC', SingleLetterAlphabet()), id='AJ307660.1', name='AJ307660.1', description='AJ307660.1 Mycobacterium tusciae partial hsp65 gene for 65 kDa heat shock protein', dbxrefs=[])])])"
      ]
     },
     "execution_count": 55,
     "metadata": {},
     "output_type": "execute_result"
    }
   ],
   "source": []
  },
  {
   "cell_type": "markdown",
   "metadata": {},
   "source": [
    "The following chunk createsa new dictionary that contains sequences that have more than one record, then creates a list of true false values to check if the mulitple sequences share the same species"
   ]
  },
  {
   "cell_type": "code",
   "execution_count": 28,
   "metadata": {
    "collapsed": true
   },
   "outputs": [],
   "source": [
    "q = {k: v for k, v in d.iteritems() if len(v)> 1}\n",
    "\n",
    "keep = []\n",
    "\n",
    "for seq, record_set in q.iteritems():\n",
    "    \n",
    "    my_list = []\n",
    "    for record in record_set:\n",
    "        \n",
    "        my_list.append(record.description.split(' ')[2])\n",
    "    my_list = list(set(my_list))\n",
    "    if len(my_list) > 1:\n",
    "        keep.append(True)\n",
    "    else:\n",
    "        keep.append(False)"
   ]
  },
  {
   "cell_type": "markdown",
   "metadata": {},
   "source": [
    "The following chunk creates a dictionary of sequences with the same sequences, but different annotations"
   ]
  },
  {
   "cell_type": "code",
   "execution_count": 29,
   "metadata": {},
   "outputs": [
    {
     "data": {
      "text/plain": [
       "11"
      ]
     },
     "execution_count": 29,
     "metadata": {},
     "output_type": "execute_result"
    }
   ],
   "source": [
    "weird = dict()\n",
    "for i in range(len(keep)):\n",
    "    if keep[i]==True:\n",
    "        weird[q.keys()[i]] = q.values()[i]\n",
    "len(weird)"
   ]
  },
  {
   "cell_type": "code",
   "execution_count": 47,
   "metadata": {},
   "outputs": [
    {
     "name": "stdout",
     "output_type": "stream",
     "text": [
      "GAGGACCCGTACGAGAAGATCGGCGCTGAGCTGGTCAAGGAAGTTGCCAAGAAGACGGACGACGTCGCTGGCGACGGCACCACCACCGCCACCGTTCTGGCTCAGGCCCTGGTTCGCGAAGGCCTGCGCAACGTCGCCGCCGGCGCCAACCCGCTCGGCCTGAAGCGCGGCATCGAGAAGGCCGTCGAGGCTGTCACCAAGGGCCTGCTGGCTTCCGCCAAGGAGGTCGAGACCAAGGAGCAGATCGCTGCCACCGCCGGTATCTCGGCCGGTGACCAGTCCATCGGTGACCTGATCGCCGAGGCCATGGACAAGGTCGGCAACGAGGGTGTCATCACCGTCGAGGAGAGCAACACCTTCGGCCTGCAGCTGGAGCTCACCG: (2)\n",
      "    DQ987726.1 Mycobacterium phocaicum strain CCUG 50185 65 kDa heat shock protein (hsp65) gene, partial cds\n",
      "    AY458078.1 Mycobacterium mucogenicum strain ATCC 49649 65 kDa heat shock protein (hsp65) gene, partial cds\n",
      "GAGGATCCGTACGAGAAGATCGGCGCCGAGCTGGTCAAGGAAGTCGCCAAGAAGACCGACGACGTCGCGGGTGACGGCACCACCACCGCCACCGTGCTGGCCCAGGCACTGGTCCGCGAGGGCCTGCGCAACGTGGCTGCCGGCGCCAACCCGCTCGGCCTCAAGCGCGGCATCGAGAAGGCCGTCGAGAAGGTCACCGAGACGCTGCTGAAGTCGGCCAAGGAGGTCGAGACCAAGGAGCAGATCGCTGCCACCGCCGCGATCTCGGCCGGCGACACCCAGATCGGCGAGCTCATCGCCGAGGCCATGGACAAGGTCGGCAACGAGGGTGTCATCACCGTCGAGGAGTCGAACACCTTCGGCCTGCAGCTCGAGCTCACCG: (2)\n",
      "    FJ172327.1 Mycobacterium chlorophenolicum strain ATCC 25793 heat shock protein 65 (hsp65) gene, partial cds\n",
      "    DQ184957.1 Mycobacterium chubuense strain K237Y 65 kDa heat shock protein (hsp65) gene, partial cds\n",
      "GAGGACCCGTACGAGAAGATCGGCGCTGAGCTCGTCAAAGAGGTCGCCAAGAAGACTGACGACGTCGCGGGCGACGGCACCACCACCGCCACCGTTCTGGCCCAGGCCCTGGTTCGCGAAGGTCTGCGCAACGTCGCTGCCGGCGCCAACCCGCTCGGCCTGAAGCGCGGCATCGAGAAGGCCGTGGAAAAGGTCACCGAGACCCTCCTGAAGTCCGCCAAGGAGGTGGAGACCAAGGAGCAGATCGCTGCCACCGCCGGTATCTCCGCCGGTGACCAGTCCATCGGTGACCTGATCGCCGAGGCCATGGACAAGGTCGGCAACGAGGGTGTCATCACCGTCGAGGAGAGCAACACCTTCGGCCTGCAGCTGGAGCTCACCG: (4)\n",
      "    AY458076.1 Mycobacterium neworleansense strain ATCC 49404 65 kDa heat shock protein (hsp65) gene, partial cds\n",
      "    AY373455.1 Mycobacterium fortuitum strain ATCC 49404 heat shock protein (hsp65) gene, partial cds\n",
      "    AY373453.1 Mycobacterium lentiflavum strain ATCC 51985 heat shock protein (hsp65) gene, partial cds\n",
      "    AY496143.1 Mycobacterium neworleansense ATCC 49404 65 kDa heat shock protein (hsp65) gene, partial cds\n",
      "GAGGATCCCTACGAGAAGATCGGCGCTGAGCTGGTCAAGGAAGTTGCCAAGAAGACTGACGACGTCGCCGGCGACGGCACCACCACCGCCACCGTGCTCGCACAGGCGCTGGTCCGTGAGGGCCTTCGCAACGTGGCCGCCGGCGCCAACCCGCTCGGCCTCAAGCGCGGCATCGAGAAGGCCGTCGAGAAGGTCACCGAGACGCTGCTGAAGTCGGCCAAGGAGGTCGAGACCAAGGAGCAGATCGCTGCCACCGCCGCGATCTCGGCCGGCGACACCCAGATCGGCGAGCTCATCGCCGAGGCCATGGACAAGGTCGGCAACGAGGGTGTCATCACCGTCGAGGAGAGCAACACCTTCGGCCTGCAGCTCGAGCTCACCG: (2)\n",
      "    AY438091.1 Mycobacterium vanbaalenii 65 kDa heat shock protein (hsp65) gene, partial cds\n",
      "    AM403501.1 Mycobacterium austroafricanum partial hsp65 gene for heat-shock protein 65, strain BHF004\n",
      "GAGGACCCGTACGAGAAGATCGGCGCTGAGCTGGTCAAGGAAGTTGCCAAGAAGACCGACGACGTGGCCGGTGACGGCACGACGACGGCCACCGTGCTGGCCCAGGCGCTGGTCAAGGAAGGCCTGCGCAACGTTGCGGCCGGTGCCAACCCGCTCGGTCTGAAGCGCGGCATCGAGAAGGCAGTCGAGAAGGTCACCGAGATCCTGCTCAAGTCGGCCAAAGAGGTCGAGACCAAGGAGCAGATCGCGGCGACCGCAGCCATCTCCGCCGGCGACCAGTCGATCGGCGACCTGATCGCCGAGGCGATGGACAAGGTGGGCAACGAGGGCGTCATCACCGTCGAGGAGTCCAACACCTTCGGCCTGCAGCTCGAGCTCACCG: (3)\n",
      "    AY571788.1 Mycobacterium pseudoshottsii Hsp65 (hsp65) gene, partial cds\n",
      "    AY500839.1 Mycobacterium liflandii 65 kDa heat shock protein (hsp65) gene, partial cds\n",
      "    AB548704.1 Mycobacterium pseudoshottsii hsp65 gene for heat shock protein 65, partial cds, strain: MF01\n",
      "GAGGACCCGTACGAGAAGATCGGCGCCGAGCTGGTCAAAGAGGTCGCCAAGAAGACCGATGACGTCGCGGGCGACGGCACCACCACCGCCACCGTGCTGGCCCAGGCCCTGGTTCGCGAAGGTCTGCGCAACGTCGCGGCCGGCGCCAACCCCCTCGGCCTGAAGCGCGGCATCGAGAAGGCCGTCGCGGCCGTCACCGAGCGCCTGCTCTCGACCGCCAAAGAGGTCGAGACCAAGGAGCAGATCGCTGCCACCGCGGGCATCTCCGCCGGTGACCAGTCGATCGGTGACCTGATCGCCGAGGCGCTGGACAAGGTCGGCAACGAGGGTGTCATCACCGTCGAGGAGTCCAACACCTTCGGCCTGCAGCTGGAGCTCACCG: (2)\n",
      "    FJ172320.1 Mycobacterium neoaurum strain ATCC 25795 heat shock protein 65 (hsp65) gene, partial cds\n",
      "    AY299157.1 Mycobacterium parafortuitum strain ATCC 19686 heat shock protein 65 (hsp65) gene, partial cds\n",
      "GAGGACCCCTACGAGAAGATCGGCGCCGAGCTGGTCAAGGAAGTCGCCAAGAAGACCGACGACGTCGCGGGTGACGGTACGACGACGGCCACCGTGCTGGCCCAGGCGCTGGTCAAGGAAGGCCTGCGCAACGTCGCCGCCGGTGCCAACCCGCTCGGCCTGAAGCGCGGTATCGAGAAGGCCGTCGAGAAGGTCACCGAGACGCTGCTCAAGGGCGCCAAGGAGGTCGAGACCAAGGAGCAGATCGCTGCCACCGCGGCCATCTCCGCCGGTGACCAGTCGATCGGCGACCTGATCGCCGAGGCGATGGACAAGGTCGGCAACGAGGGCGTCATCACCGTCGAGGAGTCCAACACCTTCGGCCTGCAGCTCGAGCTCACCG: (3)\n",
      "    AB370171.1 Mycobacterium kyorinense hsp65 gene for heat shock protein 65, partial cds, strain: KUM 060204\n",
      "    AY299181.1 Mycobacterium celatum strain ATCC 51130 heat shock protein 65 (hsp65) gene, partial cds\n",
      "    HM602040.1 Mycobacterium kyorinense strain DSM 45166 65 kDa heat shock protein (hsp65) gene, partial cds\n",
      "GAGGACCCTTACGAGAAGATCGGCGCCGAGCTGGTCAAGGAAGTCGCCAAGAAGACCGACGACGTTGCCGGTGACGGCACGACGACGGCCACGGTTCTGGCCCAGGCGTTGGTCCGCGAGGGCCTGCGTAACGTCGCCGCCGGCGCCAACCCGCTGGGTCTCAAGCGCGGCATCGAGAAGGCCGTCGAGAAGGTCACCGAGACCCTGCTCAAGTCGGCCAAGGAGGTCGAGACCAAGGACCAGATCGCTGCCACCGCGGCGATTTCGGCGGGCGACCAGTCGATCGGTGACCTCATCGCCGAGGCGATGGACAAGGTCGGCAACGAGGGCGTCATCACCGTCGAGGAGTCCAACACCTTCGGCCTGCAGCTCGAGCTCACCG: (6)\n",
      "    KP670342.1 Mycobacterium paraintracellulare strain MOTT64 heat shock protein 65 (hsp65) gene, partial cds\n",
      "    KP670340.1 Mycobacterium paraintracellulare strain Asan 29591 heat shock protein 65 (hsp65) gene, partial cds\n",
      "    GQ153296.1 Mycobacterium chimaera strain CIP107892 Hsp65 (hsp65) gene, partial cds\n",
      "    JF795578.1 Mycobacterium chimaera strain DSM 44623 heat shock protein 65 (hsp65) gene, partial cds\n",
      "    KF910259.1 Mycobacterium intracellulare strain QIA-20 heat shock protein 65 (hsp65) gene, partial cds\n",
      "    KF910251.1 Mycobacterium intracellulare strain QIA-12 heat shock protein 65 (hsp65) gene, partial cds\n",
      "GAGGACCCGTACGAGAAGATCGGCGCTGAGCTGGTCAAGGAAGTTGCCAAGAAGACTGACGACGTCGCGGGTGACGGCACTACTACCGCCACCGTGCTTGCCCAGGCTCTGGTCAAGGAAGGTCTGCGTAACGTCGCTGCCGGCGCCAACCCGCTCGGCCTGAAGCGCGGCATCGAGAAGGCCGTGGAGGCCGTCACCAGCTCTCTGCTGGACTCCGCCAAGGAGATCGACACCAAGGAGCAGATCGCGGCCACCGCGGGCATCTCCGCGGGTGACCAGTCCATCGGTGATCTGATCGCCGAGGCCATGGACAAGGTCGGCAACGAGGGTGTCATCACCGTCGAGGAGTCCAACACCTTCGGCCTGCAGCTGGAGCTCACCG: (2)\n",
      "    AY550238.1 Mycobacterium fuerthensis strain DSM 44567 65 kDa heat shock protein (hsp65) gene, partial cds\n",
      "    AY299148.1 Mycobacterium chelonae strain ATCC 35749 heat shock protein 65 (hsp65) gene, partial cds\n",
      "GAGGATCCGTACGAGAAGATCGGCGCCGAGCTGGTCAAAGAGGTAGCCAAGAAGACCGATGACGTCGCCGGTGACGGCACCACGACGGCCACCGTGCTGGCCCAGGCGTTGGTTCGCGAGGGCCTGCGCAACGTCGCGGCCGGCGCCAACCCGCTCGGTCTCAAACGCGGCATCGAAAAGGCCGTGGAGAAGGTCACCGAGACCCTGCTCAAGGGCGCCAAGGAGGTCGAGACCAAGGAGCAGATTGCGGCCACCGCAGCGATTTCGGCGGGTGACCAGTCCATCGGTGACCTGATCGCCGAGGCGATGGACAAGGTGGGCAACGAGGGCGTCATCACCGTCGAGGAGTCCAACACCTTTGGGCTGCAGCTCGAGCTCACCG: (7)\n",
      "    AF547884.1 Mycobacterium caprae strain CIP 105776 65 kDa heat shock protein (hsp65) gene, partial cds\n",
      "    JF491332.1 Mycobacterium bovis strain ATCC 19210 GroEL (hsp65) gene, partial cds\n",
      "    JF491311.1 Mycobacterium tuberculosis strain ATCC 27294 GroEL (hsp65) gene, partial cds\n",
      "    AF547856.1 Mycobacterium microti strain CIP 104256 65 kDa heat shock protein (hsp65) gene, partial cds\n",
      "    AY299178.1 Mycobacterium bovis strain ATCC 19210 heat shock protein 65 (hsp65) gene, partial cds\n",
      "    AY299144.1 Mycobacterium tuberculosis strain ATCC 27294 heat shock protein 65 (hsp65) gene, partial cds\n",
      "    AY299135.1 Mycobacterium microti strain ATCC 19422 heat shock protein 65 (hsp65) gene, partial cds\n",
      "GAGGACCCCTACGAGAAGATCGGCGCTGAGCTGGTCAAGGAAGTCGCCAAGAAGACCGACGACGTCGCCGGTGACGGCACCACGACGGCCACCGTGCTCGCTCAGGCGCTCGTCAAGGAGGGCCTGCGCAACGTGGCGGCCGGCGCCAACCCGCTGGGCCTCAAGCGCGGCATCGAGAAGGCCGTCGAAAAGGTCACCGAGACGCTGCTGAAGTCGGCCAAGGATGTCGAGACCAAGGACCAGATCGCTGCCACCGCCGCGATTTCCGCGGGCGACCAGTCGATCGGCGACCTGATCGCCGAGGCGATGGACAAGGTCGGCAACGAGGGCGTCATCACCGTCGAGGAGTCCAACACCTTCGGGCTGCAGCTCGAGCTCACCG: (3)\n",
      "    GQ153292.1 Mycobacterium simiae strain ATCC 25275 Hsp65 (hsp65) gene, partial cds\n",
      "    JF491306.1 Mycobacterium simiae strain ATCC 25275 GroEL (hsp65) gene, partial cds\n",
      "    AY299183.1 Mycobacterium genavense strain ATCC 51233 heat shock protein 65 (hsp65) gene, partial cds\n"
     ]
    }
   ],
   "source": [
    "for seq, record_set in weird.iteritems():\n",
    "    print seq + ': (' + str(len(record_set)) + ')'\n",
    "    for record in record_set:\n",
    "        print '    ' + record.description"
   ]
  },
  {
   "cell_type": "code",
   "execution_count": 31,
   "metadata": {},
   "outputs": [
    {
     "data": {
      "text/plain": [
       "36"
      ]
     },
     "execution_count": 31,
     "metadata": {},
     "output_type": "execute_result"
    }
   ],
   "source": [
    "count = 0\n",
    "for seq, record_set in weird.iteritems():\n",
    "    for record in record_set:\n",
    "        count += 1\n",
    "count"
   ]
  },
  {
   "cell_type": "markdown",
   "metadata": {},
   "source": [
    "### Group Sequences "
   ]
  },
  {
   "cell_type": "code",
   "execution_count": 48,
   "metadata": {},
   "outputs": [],
   "source": [
    "ids_to_remove = []\n",
    "for seq, record_set in weird.iteritems():\n",
    "    for record in record_set:\n",
    "        ids_to_remove.append(record.id)"
   ]
  },
  {
   "cell_type": "code",
   "execution_count": 82,
   "metadata": {},
   "outputs": [],
   "source": [
    "replace_seq = []\n",
    "for i in weird.iterkeys():\n",
    "    replace_seq.append(i)\n",
    "\n",
    "replace_groups = ['MH: phocaicum | mucogenicum', 'MH: chlorophenolicum | chubuense', \n",
    "                  'MH: neworleansense | fortuitum | lentiflavum', 'MH: vanballenii | austroafricanum',\n",
    "                 'MH: pseudoshottsii | liflandii', 'MH: neoaurum | pararfortuitum',\n",
    "                 'MH: kyorinense | celatum', 'MH: intracellulare | chimaera | paraintracellulare',\n",
    "                 'MH: chelonae | fuerthensis', 'MH: tuberculosis | bovis | microti | capre',\n",
    "                 'MH: simiae | genavense']"
   ]
  },
  {
   "cell_type": "code",
   "execution_count": 99,
   "metadata": {},
   "outputs": [],
   "source": [
    "from Bio import SeqIO\n",
    "\n",
    "fasta_sequences = SeqIO.parse(open('../Databases/hsp65/hsp65_region.fasta'),'fasta')\n",
    "new_items = []\n",
    "for fasta in fasta_sequences:\n",
    "    name = fasta.id\n",
    "    if name in ids_to_remove:\n",
    "        continue\n",
    "    else:\n",
    "        new_items.append(fasta)\n",
    "        \n",
    "for item in range(len(replace_groups)):\n",
    "    val = SeqIO.SeqRecord(id=replace_groups[item], seq=replace_seq[item])\n",
    "    new_items.append(val)\n",
    "SeqIO.write(new_items, \"../Databases/hsp65/hsp65_clustered_region.fasta\", \"fasta\")"
   ]
  }
 ],
 "metadata": {
  "kernelspec": {
   "display_name": "Python 2",
   "language": "python",
   "name": "python2"
  },
  "language_info": {
   "codemirror_mode": {
    "name": "ipython",
    "version": 2
   },
   "file_extension": ".py",
   "mimetype": "text/x-python",
   "name": "python",
   "nbconvert_exporter": "python",
   "pygments_lexer": "ipython2",
   "version": "2.7.14"
  },
  "latex_envs": {
   "LaTeX_envs_menu_present": true,
   "autoclose": false,
   "autocomplete": true,
   "bibliofile": "biblio.bib",
   "cite_by": "apalike",
   "current_citInitial": 1,
   "eqLabelWithNumbers": true,
   "eqNumInitial": 1,
   "hotkeys": {
    "equation": "Ctrl-E",
    "itemize": "Ctrl-I"
   },
   "labels_anchors": false,
   "latex_user_defs": false,
   "report_style_numbering": false,
   "user_envs_cfg": false
  },
  "toc": {
   "base_numbering": 1,
   "nav_menu": {},
   "number_sections": true,
   "sideBar": true,
   "skip_h1_title": false,
   "title_cell": "Table of Contents",
   "title_sidebar": "Contents",
   "toc_cell": false,
   "toc_position": {},
   "toc_section_display": true,
   "toc_window_display": false
  },
  "varInspector": {
   "cols": {
    "lenName": 16,
    "lenType": 16,
    "lenVar": 40
   },
   "kernels_config": {
    "python": {
     "delete_cmd_postfix": "",
     "delete_cmd_prefix": "del ",
     "library": "var_list.py",
     "varRefreshCmd": "print(var_dic_list())"
    },
    "r": {
     "delete_cmd_postfix": ") ",
     "delete_cmd_prefix": "rm(",
     "library": "var_list.r",
     "varRefreshCmd": "cat(var_dic_list()) "
    }
   },
   "types_to_exclude": [
    "module",
    "function",
    "builtin_function_or_method",
    "instance",
    "_Feature"
   ],
   "window_display": false
  }
 },
 "nbformat": 4,
 "nbformat_minor": 2
}
