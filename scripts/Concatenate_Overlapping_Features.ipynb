{
 "cells": [
  {
   "cell_type": "code",
   "execution_count": 299,
   "metadata": {
    "collapsed": true
   },
   "outputs": [],
   "source": [
    "import pandas as pd\n",
    "from Bio import SeqIO\n",
    "\n",
    "### Store Fasta into Dictionary\n",
    "hsp_dict = {rec.description : str(rec.seq) for rec in SeqIO.parse('../Databases/hsp65/hsp65_region.fasta', \"fasta\")}\n",
    "rpo_dict = {rec.description : str(rec.seq) for rec in SeqIO.parse('../Databases/rpoB/rpoB_region.fasta', \"fasta\")}\n",
    "r16s_dict = {rec.id : str(rec.seq) for rec in SeqIO.parse('../Databases/16S_rrna/16S_Edited.fasta', \"fasta\")}"
   ]
  },
  {
   "cell_type": "code",
   "execution_count": null,
   "metadata": {},
   "outputs": [],
   "source": []
  },
  {
   "cell_type": "code",
   "execution_count": 300,
   "metadata": {},
   "outputs": [],
   "source": [
    "## HSP\n",
    "## Convert Fasta Dictionary to Dataframe\n",
    "df = pd.DataFrame.from_dict(hsp_dict, orient='index')\n",
    "df.columns = [\"Sequence_hsp\"]\n",
    "\n",
    "## Parse IDs and Seqeunce Name\n",
    "df['IDs'] = [x.split(' ')[0] for x in df.index]\n",
    "df['Species'] = ['_'.join(x.split(' ')[1:3]) for x in df.index]\n",
    "\n",
    "## Filter Multicolumns\n",
    "df2 = df[df['Species'].str.contains(\"\\|\")]\n",
    "df = df[~(df['Species'].str.contains(\"\\|\"))]\n",
    "df2['Species'] = [x.split('|') for x in df2['Species']]\n",
    "df2.head()\n",
    "\n",
    "## Create Function to Create Duplicate Rows\n",
    "shared_sequences = list(df2['Sequence_hsp'])\n",
    "shared_ids = list(df2['IDs'])\n",
    "length_of_dataframe = len(df2)\n",
    "def new_row_species(list_of_list):\n",
    "    count = -1\n",
    "    rows_to_keep = []\n",
    "    for item in list_of_list['Species']:\n",
    "        count += 1\n",
    "        for this in item:\n",
    "            new_name = 'Mycobacterium_'+this\n",
    "            seq = shared_sequences[count]\n",
    "            ID = shared_ids[count]\n",
    "            new_list = [seq, ID, new_name]\n",
    "            list_of_list.loc[new_name] = new_list\n",
    "            rows_to_keep.append(new_name)\n",
    "    return(list_of_list.loc[rows_to_keep])\n",
    "\n",
    "df3 = new_row_species(df2)\n",
    "## Check if Species has more than one record\n",
    "hsp = df.append(df3, ignore_index=True)\n",
    "hsp = hsp.drop_duplicates(['Species'], keep='first')\n",
    "hsp.index = hsp['Species']\n",
    "hsp['Sequence_hsp'] = [x.strip('-') for x in hsp['Sequence_hsp']]\n",
    "del hsp['IDs']\n",
    "del hsp['Species']"
   ]
  },
  {
   "cell_type": "code",
   "execution_count": null,
   "metadata": {},
   "outputs": [],
   "source": []
  },
  {
   "cell_type": "code",
   "execution_count": 301,
   "metadata": {},
   "outputs": [],
   "source": [
    "## rpoB\n",
    "## Convert Fasta Dictionary to Dataframe\n",
    "df = pd.DataFrame.from_dict(rpo_dict, orient='index')\n",
    "df.columns = [\"Sequence_rpob\"]\n",
    "\n",
    "## Parse IDs and Seqeunce Name\n",
    "df['IDs'] = [x.split(' ')[0] for x in df.index]\n",
    "df['Species'] = ['_'.join(x.split(' ')[1:3]) for x in df.index]\n",
    "\n",
    "## Filter Multicolumns\n",
    "df2 = df[df['Species'].str.contains(\"\\|\")]\n",
    "df = df[~(df['Species'].str.contains(\"\\|\"))]\n",
    "df2['Species'] = [x.split('|') for x in df2['Species']]\n",
    "df2.head()\n",
    "\n",
    "## Create Function to Create Duplicate Rows\n",
    "shared_sequences = list(df2['Sequence_rpob'])\n",
    "shared_ids = list(df2['IDs'])\n",
    "length_of_dataframe = len(df2)\n",
    "def new_row_species(list_of_list):\n",
    "    count = -1\n",
    "    rows_to_keep = []\n",
    "    for item in list_of_list['Species']:\n",
    "        count += 1\n",
    "        for this in item:\n",
    "            new_name = 'Mycobacterium_'+this\n",
    "            seq = shared_sequences[count]\n",
    "            ID = shared_ids[count]\n",
    "            new_list = [seq, ID, new_name]\n",
    "            list_of_list.loc[new_name] = new_list\n",
    "            rows_to_keep.append(new_name)\n",
    "    return(list_of_list.loc[rows_to_keep])\n",
    "\n",
    "df3 = new_row_species(df2)\n",
    "## Check if Species has more than one record\n",
    "rpo = df.append(df3, ignore_index=True)\n",
    "rpo = rpo.drop_duplicates(['Species'], keep='first')\n",
    "rpo.index = rpo['Species']\n",
    "rpo['Sequence_rpob'] = [x.strip('-') for x in rpo['Sequence_rpob']]\n",
    "del rpo['IDs']\n",
    "del rpo['Species']"
   ]
  },
  {
   "cell_type": "code",
   "execution_count": null,
   "metadata": {},
   "outputs": [],
   "source": []
  },
  {
   "cell_type": "code",
   "execution_count": 302,
   "metadata": {},
   "outputs": [],
   "source": [
    "## 16s\n",
    "## Convert Fasta Dictionary to Dataframe\n",
    "df = pd.DataFrame.from_dict(r16s_dict, orient='index')\n",
    "df.columns = [\"Sequence_16s\"]\n",
    "\n",
    "## Parse IDs and Seqeunce Name\n",
    "df['Species'] = df.index\n",
    "\n",
    "## Filter Multicolumns\n",
    "df2 = df[df['Species'].str.contains(\"\\|\")]\n",
    "df = df[~(df['Species'].str.contains(\"\\|\"))]\n",
    "df2['Species'] = [x.split('|') for x in df2['Species']]\n",
    "df2.head()\n",
    "\n",
    "## Create Function to Create Duplicate Rows\n",
    "shared_sequences = list(df2['Sequence_16s'])\n",
    "length_of_dataframe = len(df2)\n",
    "def new_row_species(list_of_list):\n",
    "    count = -1\n",
    "    rows_to_keep = []\n",
    "    for item in list_of_list['Species']:\n",
    "        count += 1\n",
    "        for this in item:\n",
    "            new_name = 'Mycobacterium_'+this\n",
    "            seq = shared_sequences[count]\n",
    "            new_list = [seq, new_name]\n",
    "            list_of_list.loc[new_name] = new_list\n",
    "            rows_to_keep.append(new_name)\n",
    "    return(list_of_list.loc[rows_to_keep])\n",
    "\n",
    "df3 = new_row_species(df2)\n",
    "## Check if Species has more than one record\n",
    "r16s = df.append(df3, ignore_index=True)\n",
    "r16s = r16s.drop_duplicates(['Species'], keep='first')\n",
    "r16s.index = r16s['Species']\n",
    "r16s['Sequence_16s'] = [x.strip('-') for x in r16s['Sequence_16s']]\n",
    "del r16s['Species']"
   ]
  },
  {
   "cell_type": "code",
   "execution_count": null,
   "metadata": {
    "collapsed": true
   },
   "outputs": [],
   "source": []
  },
  {
   "cell_type": "code",
   "execution_count": 303,
   "metadata": {},
   "outputs": [],
   "source": [
    "overlapping_species = pd.concat([rpo, hsp], axis=1, join='inner')\n",
    "#overlapping_species = pd.concat([intermediate, r16s], axis=1, join='inner')"
   ]
  },
  {
   "cell_type": "code",
   "execution_count": 304,
   "metadata": {},
   "outputs": [
    {
     "data": {
      "text/html": [
       "<div>\n",
       "<style>\n",
       "    .dataframe thead tr:only-child th {\n",
       "        text-align: right;\n",
       "    }\n",
       "\n",
       "    .dataframe thead th {\n",
       "        text-align: left;\n",
       "    }\n",
       "\n",
       "    .dataframe tbody tr th {\n",
       "        vertical-align: top;\n",
       "    }\n",
       "</style>\n",
       "<table border=\"1\" class=\"dataframe\">\n",
       "  <thead>\n",
       "    <tr style=\"text-align: right;\">\n",
       "      <th></th>\n",
       "      <th>Sequence_rpob</th>\n",
       "      <th>Sequence_hsp</th>\n",
       "    </tr>\n",
       "    <tr>\n",
       "      <th>Species</th>\n",
       "      <th></th>\n",
       "      <th></th>\n",
       "    </tr>\n",
       "  </thead>\n",
       "  <tbody>\n",
       "    <tr>\n",
       "      <th>Mycobacterium_florentinum</th>\n",
       "      <td>GCCCGTGAGGTCCGCGACACCTCGCTGAAGGTGCCGCACGGTGAGT...</td>\n",
       "      <td>GAGGACCCGTACGAGAAGATCGGCGCCGAGCTGGTCAAGGAAGTTG...</td>\n",
       "    </tr>\n",
       "    <tr>\n",
       "      <th>Mycobacterium_fortuitum</th>\n",
       "      <td>ATCTTCGGTGAGAAGGCCCGCGAGGTTCGTGACACCTCGCTGAAGG...</td>\n",
       "      <td>GAGGACCCGTACGAGAAGATCGGCGCTGAGCTCGTCAAAGAGGTCG...</td>\n",
       "    </tr>\n",
       "    <tr>\n",
       "      <th>Mycobacterium_stomatepiae</th>\n",
       "      <td>ATCTTCGGTGAGAAGGCCCGCGAGGTCCGCGACACCTCGCTGAAGG...</td>\n",
       "      <td>GAGGACCCATACGAGAAGATCGGCGCCGAGCTGGTCAAGGAAGTCG...</td>\n",
       "    </tr>\n",
       "    <tr>\n",
       "      <th>Mycobacterium_lentiflavum</th>\n",
       "      <td>ATCTTCGGTGAGAAGGCCCGCGAGGTGCGCGACACCTCGCTGAAGG...</td>\n",
       "      <td>GAGGACCCGTACGAGAAGATCGGCGCCGAGCTGGTCAAGGAAGTTG...</td>\n",
       "    </tr>\n",
       "    <tr>\n",
       "      <th>Mycobacterium_kubicae</th>\n",
       "      <td>ATCTTCGGTGAGAAGGCCCGCGAGGTCCGCGACACGTCGCTCAAGG...</td>\n",
       "      <td>GAGGACCCGTACGAGAAGATCGGCGCCGAGCTGGTCAAGGAAGTCG...</td>\n",
       "    </tr>\n",
       "  </tbody>\n",
       "</table>\n",
       "</div>"
      ],
      "text/plain": [
       "                                                               Sequence_rpob  \\\n",
       "Species                                                                        \n",
       "Mycobacterium_florentinum  GCCCGTGAGGTCCGCGACACCTCGCTGAAGGTGCCGCACGGTGAGT...   \n",
       "Mycobacterium_fortuitum    ATCTTCGGTGAGAAGGCCCGCGAGGTTCGTGACACCTCGCTGAAGG...   \n",
       "Mycobacterium_stomatepiae  ATCTTCGGTGAGAAGGCCCGCGAGGTCCGCGACACCTCGCTGAAGG...   \n",
       "Mycobacterium_lentiflavum  ATCTTCGGTGAGAAGGCCCGCGAGGTGCGCGACACCTCGCTGAAGG...   \n",
       "Mycobacterium_kubicae      ATCTTCGGTGAGAAGGCCCGCGAGGTCCGCGACACGTCGCTCAAGG...   \n",
       "\n",
       "                                                                Sequence_hsp  \n",
       "Species                                                                       \n",
       "Mycobacterium_florentinum  GAGGACCCGTACGAGAAGATCGGCGCCGAGCTGGTCAAGGAAGTTG...  \n",
       "Mycobacterium_fortuitum    GAGGACCCGTACGAGAAGATCGGCGCTGAGCTCGTCAAAGAGGTCG...  \n",
       "Mycobacterium_stomatepiae  GAGGACCCATACGAGAAGATCGGCGCCGAGCTGGTCAAGGAAGTCG...  \n",
       "Mycobacterium_lentiflavum  GAGGACCCGTACGAGAAGATCGGCGCCGAGCTGGTCAAGGAAGTTG...  \n",
       "Mycobacterium_kubicae      GAGGACCCGTACGAGAAGATCGGCGCCGAGCTGGTCAAGGAAGTCG...  "
      ]
     },
     "execution_count": 304,
     "metadata": {},
     "output_type": "execute_result"
    }
   ],
   "source": [
    "overlapping_species.head()"
   ]
  },
  {
   "cell_type": "code",
   "execution_count": 305,
   "metadata": {},
   "outputs": [
    {
     "data": {
      "text/html": [
       "<div>\n",
       "<style>\n",
       "    .dataframe thead tr:only-child th {\n",
       "        text-align: right;\n",
       "    }\n",
       "\n",
       "    .dataframe thead th {\n",
       "        text-align: left;\n",
       "    }\n",
       "\n",
       "    .dataframe tbody tr th {\n",
       "        vertical-align: top;\n",
       "    }\n",
       "</style>\n",
       "<table border=\"1\" class=\"dataframe\">\n",
       "  <thead>\n",
       "    <tr style=\"text-align: right;\">\n",
       "      <th></th>\n",
       "      <th>Concatenated_sequences</th>\n",
       "    </tr>\n",
       "    <tr>\n",
       "      <th>Species</th>\n",
       "      <th></th>\n",
       "    </tr>\n",
       "  </thead>\n",
       "  <tbody>\n",
       "    <tr>\n",
       "      <th>Mycobacterium_florentinum</th>\n",
       "      <td>GCCCGTGAGGTCCGCGACACCTCGCTGAAGGTGCCGCACGGTGAGT...</td>\n",
       "    </tr>\n",
       "    <tr>\n",
       "      <th>Mycobacterium_fortuitum</th>\n",
       "      <td>ATCTTCGGTGAGAAGGCCCGCGAGGTTCGTGACACCTCGCTGAAGG...</td>\n",
       "    </tr>\n",
       "    <tr>\n",
       "      <th>Mycobacterium_stomatepiae</th>\n",
       "      <td>ATCTTCGGTGAGAAGGCCCGCGAGGTCCGCGACACCTCGCTGAAGG...</td>\n",
       "    </tr>\n",
       "    <tr>\n",
       "      <th>Mycobacterium_lentiflavum</th>\n",
       "      <td>ATCTTCGGTGAGAAGGCCCGCGAGGTGCGCGACACCTCGCTGAAGG...</td>\n",
       "    </tr>\n",
       "    <tr>\n",
       "      <th>Mycobacterium_kubicae</th>\n",
       "      <td>ATCTTCGGTGAGAAGGCCCGCGAGGTCCGCGACACGTCGCTCAAGG...</td>\n",
       "    </tr>\n",
       "  </tbody>\n",
       "</table>\n",
       "</div>"
      ],
      "text/plain": [
       "                                                      Concatenated_sequences\n",
       "Species                                                                     \n",
       "Mycobacterium_florentinum  GCCCGTGAGGTCCGCGACACCTCGCTGAAGGTGCCGCACGGTGAGT...\n",
       "Mycobacterium_fortuitum    ATCTTCGGTGAGAAGGCCCGCGAGGTTCGTGACACCTCGCTGAAGG...\n",
       "Mycobacterium_stomatepiae  ATCTTCGGTGAGAAGGCCCGCGAGGTCCGCGACACCTCGCTGAAGG...\n",
       "Mycobacterium_lentiflavum  ATCTTCGGTGAGAAGGCCCGCGAGGTGCGCGACACCTCGCTGAAGG...\n",
       "Mycobacterium_kubicae      ATCTTCGGTGAGAAGGCCCGCGAGGTCCGCGACACGTCGCTCAAGG..."
      ]
     },
     "execution_count": 305,
     "metadata": {},
     "output_type": "execute_result"
    }
   ],
   "source": [
    "#overlapping_species['Concatenated_sequences'] = overlapping_species['Sequence_rpob']+overlapping_species['Sequence_hsp']+overlapping_species['Sequence_16s']\n",
    "overlapping_species['Concatenated_sequences'] = overlapping_species['Sequence_rpob']+overlapping_species['Sequence_hsp']\n",
    "\n",
    "del overlapping_species['Sequence_rpob']\n",
    "del overlapping_species['Sequence_hsp']\n",
    "#del overlapping_species['Sequence_16s']\n",
    "\n",
    "\n",
    "overlapping_species['Concatenated_sequences'] = [x.strip('-') for x in overlapping_species['Concatenated_sequences']]\n",
    "overlapping_species.head()"
   ]
  },
  {
   "cell_type": "code",
   "execution_count": null,
   "metadata": {
    "collapsed": true
   },
   "outputs": [],
   "source": []
  },
  {
   "cell_type": "code",
   "execution_count": 306,
   "metadata": {},
   "outputs": [],
   "source": [
    "with open(\"Concatenated_Database_Sequences.fasta\", \"w\") as out_handle:\n",
    "    for i, row in enumerate(overlapping_species.values):\n",
    "        name = df.index[i]\n",
    "        sequence = row[0]\n",
    "        sequence = sequence.strip('[').strip(']').strip(\"'\").strip(\"\\n\").strip(\"-\")\n",
    "        out_handle.write(\">%s\\n%s\\n\" % (name, sequence))"
   ]
  },
  {
   "cell_type": "code",
   "execution_count": 307,
   "metadata": {
    "collapsed": true
   },
   "outputs": [],
   "source": [
    "!sed 's/-//g' Concatenated_Database_Sequences.fasta > Concatenated_Database_Sequences_no_dash_only_two.fasta"
   ]
  },
  {
   "cell_type": "code",
   "execution_count": null,
   "metadata": {
    "collapsed": true
   },
   "outputs": [],
   "source": []
  }
 ],
 "metadata": {
  "kernelspec": {
   "display_name": "Python 2",
   "language": "python",
   "name": "python2"
  },
  "language_info": {
   "codemirror_mode": {
    "name": "ipython",
    "version": 2
   },
   "file_extension": ".py",
   "mimetype": "text/x-python",
   "name": "python",
   "nbconvert_exporter": "python",
   "pygments_lexer": "ipython2",
   "version": "2.7.10"
  },
  "toc": {
   "base_numbering": 1,
   "nav_menu": {},
   "number_sections": true,
   "sideBar": true,
   "skip_h1_title": false,
   "title_cell": "Table of Contents",
   "title_sidebar": "Contents",
   "toc_cell": false,
   "toc_position": {},
   "toc_section_display": true,
   "toc_window_display": false
  }
 },
 "nbformat": 4,
 "nbformat_minor": 2
}
