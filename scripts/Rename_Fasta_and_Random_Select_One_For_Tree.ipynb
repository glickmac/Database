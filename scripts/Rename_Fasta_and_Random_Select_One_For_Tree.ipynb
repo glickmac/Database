{
 "cells": [
  {
   "cell_type": "markdown",
   "metadata": {},
   "source": [
    "## Fasta Manipulator\n",
    "This script takes the database file and returns a new fasta with only one record per species. Also, the header of the fasta file is changed to the species. "
   ]
  },
  {
   "cell_type": "code",
   "execution_count": 6,
   "metadata": {
    "collapsed": true
   },
   "outputs": [],
   "source": [
    "from Bio import SeqIO\n",
    "\n",
    "fasta_sequences = SeqIO.parse(open('Kilauea232-3_S90_L001_R1_001.fastq'),'fastq')\n",
    "names = []\n",
    "sequences = []\n",
    "for fasta in fasta_sequences:\n",
    "    name, sequence = fasta.description, str(fasta.seq)\n",
    "    name2 = name.split(' ')[0]\n",
    "    names.append(name2)\n",
    "    sequences.append(sequence)\n",
    "\n",
    "#species = [x.split(' ')[1:3] for x in names]\n",
    "#species2 = ['_'.join(x) for x in species]"
   ]
  },
  {
   "cell_type": "code",
   "execution_count": 7,
   "metadata": {},
   "outputs": [
    {
     "data": {
      "text/plain": [
       "'M01416:69:000000000-BB6WW:1:2119:11529:25279'"
      ]
     },
     "execution_count": 7,
     "metadata": {},
     "output_type": "execute_result"
    }
   ],
   "source": [
    "name2"
   ]
  },
  {
   "cell_type": "code",
   "execution_count": 87,
   "metadata": {
    "collapsed": true
   },
   "outputs": [],
   "source": [
    "import pandas as pd\n",
    "df = pd.DataFrame(names)\n",
    "df.columns = ['Names']\n",
    "df['Sequences'] = sequences\n",
    "df['Species'] = species2"
   ]
  },
  {
   "cell_type": "code",
   "execution_count": null,
   "metadata": {
    "collapsed": true
   },
   "outputs": [],
   "source": []
  },
  {
   "cell_type": "code",
   "execution_count": 88,
   "metadata": {},
   "outputs": [
    {
     "data": {
      "text/html": [
       "<div>\n",
       "<style>\n",
       "    .dataframe thead tr:only-child th {\n",
       "        text-align: right;\n",
       "    }\n",
       "\n",
       "    .dataframe thead th {\n",
       "        text-align: left;\n",
       "    }\n",
       "\n",
       "    .dataframe tbody tr th {\n",
       "        vertical-align: top;\n",
       "    }\n",
       "</style>\n",
       "<table border=\"1\" class=\"dataframe\">\n",
       "  <thead>\n",
       "    <tr style=\"text-align: right;\">\n",
       "      <th></th>\n",
       "      <th>Abundance</th>\n",
       "    </tr>\n",
       "    <tr>\n",
       "      <th>Species</th>\n",
       "      <th></th>\n",
       "    </tr>\n",
       "  </thead>\n",
       "  <tbody>\n",
       "    <tr>\n",
       "      <th>Mycobacterium_abscessus</th>\n",
       "      <td>2</td>\n",
       "    </tr>\n",
       "    <tr>\n",
       "      <th>Mycobacterium_africanum</th>\n",
       "      <td>2</td>\n",
       "    </tr>\n",
       "    <tr>\n",
       "      <th>Mycobacterium_algericum</th>\n",
       "      <td>1</td>\n",
       "    </tr>\n",
       "    <tr>\n",
       "      <th>Mycobacterium_alsense</th>\n",
       "      <td>2</td>\n",
       "    </tr>\n",
       "    <tr>\n",
       "      <th>Mycobacterium_alvei</th>\n",
       "      <td>2</td>\n",
       "    </tr>\n",
       "  </tbody>\n",
       "</table>\n",
       "</div>"
      ],
      "text/plain": [
       "                         Abundance\n",
       "Species                           \n",
       "Mycobacterium_abscessus          2\n",
       "Mycobacterium_africanum          2\n",
       "Mycobacterium_algericum          1\n",
       "Mycobacterium_alsense            2\n",
       "Mycobacterium_alvei              2"
      ]
     },
     "execution_count": 88,
     "metadata": {},
     "output_type": "execute_result"
    }
   ],
   "source": [
    "## Count Abundance of Culture Codes\n",
    "df4 = df[['Species', 'Names']].groupby('Species').count()\n",
    "df4.columns = ['Abundance']\n",
    "df4.head()"
   ]
  },
  {
   "cell_type": "code",
   "execution_count": 89,
   "metadata": {
    "collapsed": true
   },
   "outputs": [],
   "source": [
    "### Multiples with Greater than 1 record\n",
    "greater = df4[df4['Abundance'] > 1]\n",
    "greater = list(greater.index)\n",
    "## Greater than one\n",
    "import random\n",
    "my_acc = []\n",
    "greatera = df[df['Species'].isin(greater)]\n",
    "for name, group in greatera.groupby('Species'):\n",
    "    my_list = list(group['Names'])\n",
    "    one = random.sample(my_list,1)\n",
    "    my_acc.append(one)\n",
    "\n",
    "### Multiples with 1 record\n",
    "ones = df4[df4['Abundance'] == 1]\n",
    "ones = list(ones.index)\n",
    "ehod = df[df['Species'].isin(ones)]\n",
    "acc = list(ehod['Names'])"
   ]
  },
  {
   "cell_type": "code",
   "execution_count": 90,
   "metadata": {
    "collapsed": true
   },
   "outputs": [],
   "source": [
    "my_acc = [item for sublist in my_acc for item in sublist]\n",
    "acc_to_keep = acc+my_acc\n",
    "\n",
    "final_df = df[df['Names'].isin(acc_to_keep)]"
   ]
  },
  {
   "cell_type": "code",
   "execution_count": 91,
   "metadata": {
    "collapsed": true
   },
   "outputs": [],
   "source": [
    "Headers = list(final_df['Species'])\n",
    "Sequenced = list(final_df['Sequences'])"
   ]
  },
  {
   "cell_type": "code",
   "execution_count": null,
   "metadata": {
    "collapsed": true
   },
   "outputs": [],
   "source": []
  },
  {
   "cell_type": "code",
   "execution_count": 92,
   "metadata": {
    "collapsed": true
   },
   "outputs": [],
   "source": [
    "ofile = open(\"rpoB_one_record_per_species_for_tree.fasta\", \"w\")\n",
    "for i in range(len(Headers)):\n",
    "    ofile.write(\">\" + Headers[i] + \"\\n\" +Sequenced[i] + \"\\n\")\n",
    "\n",
    "ofile.close()"
   ]
  },
  {
   "cell_type": "markdown",
   "metadata": {
    "collapsed": true
   },
   "source": []
  }
 ],
 "metadata": {
  "kernelspec": {
   "display_name": "Python 2",
   "language": "python",
   "name": "python2"
  },
  "language_info": {
   "codemirror_mode": {
    "name": "ipython",
    "version": 2
   },
   "file_extension": ".py",
   "mimetype": "text/x-python",
   "name": "python",
   "nbconvert_exporter": "python",
   "pygments_lexer": "ipython2",
   "version": "2.7.14"
  },
  "toc": {
   "base_numbering": 1,
   "nav_menu": {},
   "number_sections": true,
   "sideBar": true,
   "skip_h1_title": false,
   "title_cell": "Table of Contents",
   "title_sidebar": "Contents",
   "toc_cell": false,
   "toc_position": {},
   "toc_section_display": true,
   "toc_window_display": false
  }
 },
 "nbformat": 4,
 "nbformat_minor": 2
}
