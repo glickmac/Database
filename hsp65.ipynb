{
 "cells": [
  {
   "cell_type": "code",
   "execution_count": 2,
   "metadata": {
    "collapsed": true
   },
   "outputs": [],
   "source": [
    "sizes = [len(rec) for rec in SeqIO.parse(\"hsp65/hsp65.fasta\", \"fasta\")]\n",
    "names = [x.description for x in SeqIO.parse(\"hsp65/hsp65.fasta\", \"fasta\")]\n",
    "names = [x.split('|')[0] for x in names]\n"
   ]
  },
  {
   "cell_type": "code",
   "execution_count": 34,
   "metadata": {
    "collapsed": true
   },
   "outputs": [],
   "source": [
    "with open('hsp65/updated_hsp65.fasta', 'w') as out_file:\n",
    "    for fasta in SeqIO.parse('hsp65/hsp65.fasta','fasta'):\n",
    "        SeqIO.write(fasta, out_file, 'fasta')"
   ]
  },
  {
   "cell_type": "markdown",
   "metadata": {},
   "source": [
    "### Create HSP65 Database"
   ]
  },
  {
   "cell_type": "code",
   "execution_count": 64,
   "metadata": {
    "collapsed": true
   },
   "outputs": [],
   "source": [
    "import pandas as pd \n",
    "import numpy as np \n",
    "from Bio import SeqIO"
   ]
  },
  {
   "cell_type": "code",
   "execution_count": 63,
   "metadata": {},
   "outputs": [
    {
     "data": {
      "text/html": [
       "<div>\n",
       "<style>\n",
       "    .dataframe thead tr:only-child th {\n",
       "        text-align: right;\n",
       "    }\n",
       "\n",
       "    .dataframe thead th {\n",
       "        text-align: left;\n",
       "    }\n",
       "\n",
       "    .dataframe tbody tr th {\n",
       "        vertical-align: top;\n",
       "    }\n",
       "</style>\n",
       "<table border=\"1\" class=\"dataframe\">\n",
       "  <thead>\n",
       "    <tr style=\"text-align: right;\">\n",
       "      <th></th>\n",
       "      <th>Name</th>\n",
       "      <th>Length</th>\n",
       "      <th>Accession</th>\n",
       "      <th>GI</th>\n",
       "    </tr>\n",
       "  </thead>\n",
       "  <tbody>\n",
       "    <tr>\n",
       "      <th>0</th>\n",
       "      <td>Mycobacterium timonense strain 5351974 heat</td>\n",
       "      <td>994</td>\n",
       "      <td>EU239792.1</td>\n",
       "      <td>171466780</td>\n",
       "    </tr>\n",
       "    <tr>\n",
       "      <th>1</th>\n",
       "      <td>Mycobacterium bouchedurhonense strain 4355387 ...</td>\n",
       "      <td>994</td>\n",
       "      <td>EU239790.1</td>\n",
       "      <td>171466776</td>\n",
       "    </tr>\n",
       "    <tr>\n",
       "      <th>2</th>\n",
       "      <td>Mycobacterium marseillense strain 5356591 heat</td>\n",
       "      <td>1462</td>\n",
       "      <td>EU239787.1</td>\n",
       "      <td>171466772</td>\n",
       "    </tr>\n",
       "    <tr>\n",
       "      <th>3</th>\n",
       "      <td>Mycobacterium abscessus subsp. bolletii hsp65</td>\n",
       "      <td>401</td>\n",
       "      <td>AB548601.1</td>\n",
       "      <td>315433461</td>\n",
       "    </tr>\n",
       "    <tr>\n",
       "      <th>4</th>\n",
       "      <td>Mycobacterium timonense strain 3256799 heat</td>\n",
       "      <td>994</td>\n",
       "      <td>EU239791.1</td>\n",
       "      <td>171466778</td>\n",
       "    </tr>\n",
       "  </tbody>\n",
       "</table>\n",
       "</div>"
      ],
      "text/plain": [
       "                                                Name  Length   Accession  \\\n",
       "0        Mycobacterium timonense strain 5351974 heat     994  EU239792.1   \n",
       "1  Mycobacterium bouchedurhonense strain 4355387 ...     994  EU239790.1   \n",
       "2     Mycobacterium marseillense strain 5356591 heat    1462  EU239787.1   \n",
       "3      Mycobacterium abscessus subsp. bolletii hsp65     401  AB548601.1   \n",
       "4        Mycobacterium timonense strain 3256799 heat     994  EU239791.1   \n",
       "\n",
       "          GI  \n",
       "0  171466780  \n",
       "1  171466776  \n",
       "2  171466772  \n",
       "3  315433461  \n",
       "4  171466778  "
      ]
     },
     "execution_count": 63,
     "metadata": {},
     "output_type": "execute_result"
    }
   ],
   "source": [
    "df = pd.read_table('hsp65/nuccore_result_table.txt')\n",
    "df.head()"
   ]
  },
  {
   "cell_type": "code",
   "execution_count": 65,
   "metadata": {},
   "outputs": [
    {
     "data": {
      "text/plain": [
       "1428"
      ]
     },
     "execution_count": 65,
     "metadata": {},
     "output_type": "execute_result"
    }
   ],
   "source": [
    "### Remove Unverified and unclassified Bacteria\n",
    "list_names = df['Name']\n",
    "g = [x.split(' ',2)[0] for x in list_names]\n",
    "matching = [s == \"Mycobacterium\" for s in g]\n",
    "df_filtered = df[matching]\n",
    "len(df_filtered)"
   ]
  },
  {
   "cell_type": "code",
   "execution_count": 66,
   "metadata": {},
   "outputs": [
    {
     "data": {
      "text/plain": [
       "1198"
      ]
     },
     "execution_count": 66,
     "metadata": {},
     "output_type": "execute_result"
    }
   ],
   "source": [
    "list_names = df_filtered['Name']\n",
    "g = [x.split(' ',2)[1] for x in list_names]\n",
    "matching = [s != \"sp.\" for s in g]\n",
    "df_filtered = df_filtered[matching]\n",
    "len(df_filtered)"
   ]
  },
  {
   "cell_type": "code",
   "execution_count": 67,
   "metadata": {},
   "outputs": [
    {
     "data": {
      "text/plain": [
       "1099"
      ]
     },
     "execution_count": 67,
     "metadata": {},
     "output_type": "execute_result"
    }
   ],
   "source": [
    "list_names = df_filtered['Name']\n",
    "g = [x.split(' ',2)[1] for x in list_names]\n",
    "matching = [s != \"massiliense\" for s in g]\n",
    "df_filtered = df_filtered[matching]\n",
    "len(df_filtered)"
   ]
  },
  {
   "cell_type": "code",
   "execution_count": 68,
   "metadata": {
    "collapsed": true
   },
   "outputs": [],
   "source": [
    "### Split String Name\n",
    "list_names = df_filtered['Name']\n",
    "g = [x.split(' ',2)[0] for x in list_names]\n",
    "\n",
    "s = [x.split(' ',2)[1] for x in list_names]\n",
    "\n",
    "y = list(zip(g,s))\n",
    "y = [list(x) for x in y]\n",
    "z = [' '.join(x) for x in y]"
   ]
  },
  {
   "cell_type": "code",
   "execution_count": 69,
   "metadata": {},
   "outputs": [
    {
     "data": {
      "text/html": [
       "<div>\n",
       "<style>\n",
       "    .dataframe thead tr:only-child th {\n",
       "        text-align: right;\n",
       "    }\n",
       "\n",
       "    .dataframe thead th {\n",
       "        text-align: left;\n",
       "    }\n",
       "\n",
       "    .dataframe tbody tr th {\n",
       "        vertical-align: top;\n",
       "    }\n",
       "</style>\n",
       "<table border=\"1\" class=\"dataframe\">\n",
       "  <thead>\n",
       "    <tr style=\"text-align: right;\">\n",
       "      <th></th>\n",
       "      <th>Name</th>\n",
       "      <th>Length</th>\n",
       "      <th>Accession</th>\n",
       "      <th>GI</th>\n",
       "      <th>Species</th>\n",
       "    </tr>\n",
       "  </thead>\n",
       "  <tbody>\n",
       "    <tr>\n",
       "      <th>0</th>\n",
       "      <td>Mycobacterium timonense strain 5351974 heat</td>\n",
       "      <td>994</td>\n",
       "      <td>EU239792.1</td>\n",
       "      <td>171466780</td>\n",
       "      <td>Mycobacterium timonense</td>\n",
       "    </tr>\n",
       "    <tr>\n",
       "      <th>1</th>\n",
       "      <td>Mycobacterium bouchedurhonense strain 4355387 ...</td>\n",
       "      <td>994</td>\n",
       "      <td>EU239790.1</td>\n",
       "      <td>171466776</td>\n",
       "      <td>Mycobacterium bouchedurhonense</td>\n",
       "    </tr>\n",
       "    <tr>\n",
       "      <th>2</th>\n",
       "      <td>Mycobacterium marseillense strain 5356591 heat</td>\n",
       "      <td>1462</td>\n",
       "      <td>EU239787.1</td>\n",
       "      <td>171466772</td>\n",
       "      <td>Mycobacterium marseillense</td>\n",
       "    </tr>\n",
       "    <tr>\n",
       "      <th>3</th>\n",
       "      <td>Mycobacterium abscessus subsp. bolletii hsp65</td>\n",
       "      <td>401</td>\n",
       "      <td>AB548601.1</td>\n",
       "      <td>315433461</td>\n",
       "      <td>Mycobacterium abscessus</td>\n",
       "    </tr>\n",
       "    <tr>\n",
       "      <th>4</th>\n",
       "      <td>Mycobacterium timonense strain 3256799 heat</td>\n",
       "      <td>994</td>\n",
       "      <td>EU239791.1</td>\n",
       "      <td>171466778</td>\n",
       "      <td>Mycobacterium timonense</td>\n",
       "    </tr>\n",
       "  </tbody>\n",
       "</table>\n",
       "</div>"
      ],
      "text/plain": [
       "                                                Name  Length   Accession  \\\n",
       "0        Mycobacterium timonense strain 5351974 heat     994  EU239792.1   \n",
       "1  Mycobacterium bouchedurhonense strain 4355387 ...     994  EU239790.1   \n",
       "2     Mycobacterium marseillense strain 5356591 heat    1462  EU239787.1   \n",
       "3      Mycobacterium abscessus subsp. bolletii hsp65     401  AB548601.1   \n",
       "4        Mycobacterium timonense strain 3256799 heat     994  EU239791.1   \n",
       "\n",
       "          GI                         Species  \n",
       "0  171466780         Mycobacterium timonense  \n",
       "1  171466776  Mycobacterium bouchedurhonense  \n",
       "2  171466772      Mycobacterium marseillense  \n",
       "3  315433461         Mycobacterium abscessus  \n",
       "4  171466778         Mycobacterium timonense  "
      ]
     },
     "execution_count": 69,
     "metadata": {},
     "output_type": "execute_result"
    }
   ],
   "source": [
    "df_filtered['Species'] = z\n",
    "df_filtered.head()"
   ]
  },
  {
   "cell_type": "code",
   "execution_count": 97,
   "metadata": {},
   "outputs": [
    {
     "data": {
      "text/html": [
       "<div>\n",
       "<style>\n",
       "    .dataframe thead tr:only-child th {\n",
       "        text-align: right;\n",
       "    }\n",
       "\n",
       "    .dataframe thead th {\n",
       "        text-align: left;\n",
       "    }\n",
       "\n",
       "    .dataframe tbody tr th {\n",
       "        vertical-align: top;\n",
       "    }\n",
       "</style>\n",
       "<table border=\"1\" class=\"dataframe\">\n",
       "  <thead>\n",
       "    <tr style=\"text-align: right;\">\n",
       "      <th></th>\n",
       "      <th>Abundance</th>\n",
       "    </tr>\n",
       "    <tr>\n",
       "      <th>Species</th>\n",
       "      <th></th>\n",
       "    </tr>\n",
       "  </thead>\n",
       "  <tbody>\n",
       "    <tr>\n",
       "      <th>Mycobacterium abscessus</th>\n",
       "      <td>63</td>\n",
       "    </tr>\n",
       "    <tr>\n",
       "      <th>Mycobacterium aemonae</th>\n",
       "      <td>1</td>\n",
       "    </tr>\n",
       "    <tr>\n",
       "      <th>Mycobacterium africanum</th>\n",
       "      <td>4</td>\n",
       "    </tr>\n",
       "    <tr>\n",
       "      <th>Mycobacterium agri</th>\n",
       "      <td>1</td>\n",
       "    </tr>\n",
       "    <tr>\n",
       "      <th>Mycobacterium aichiense</th>\n",
       "      <td>3</td>\n",
       "    </tr>\n",
       "  </tbody>\n",
       "</table>\n",
       "</div>"
      ],
      "text/plain": [
       "                         Abundance\n",
       "Species                           \n",
       "Mycobacterium abscessus         63\n",
       "Mycobacterium aemonae            1\n",
       "Mycobacterium africanum          4\n",
       "Mycobacterium agri               1\n",
       "Mycobacterium aichiense          3"
      ]
     },
     "execution_count": 97,
     "metadata": {},
     "output_type": "execute_result"
    }
   ],
   "source": [
    "df2 = df_filtered[['Name','Species']].groupby('Species').agg(['count'])\n",
    "df2.columns = ['Abundance']\n",
    "df2.head()"
   ]
  },
  {
   "cell_type": "code",
   "execution_count": 116,
   "metadata": {},
   "outputs": [
    {
     "data": {
      "text/plain": [
       "252"
      ]
     },
     "execution_count": 116,
     "metadata": {},
     "output_type": "execute_result"
    }
   ],
   "source": [
    "bool1 = df_filtered['Name'].str.contains('ATCC')\n",
    "bool2 = df_filtered['Name'].str.contains('DSM')\n",
    "bool3 = df_filtered['Name'].str.contains('CCUG')\n",
    "bool4 = df_filtered['Name'].str.contains('ASIN')\n",
    "bool5 = df_filtered['Name'].str.contains('QIA')\n",
    "bool6 = df_filtered['Name'].str.contains('GTC')\n",
    "\n",
    "df_filtered['Cultures'] = bool1|bool2|bool3|bool4|bool5|bool6\n",
    "df_filtered['Cultures'] = df_filtered['Cultures'].astype(int)\n",
    "\n",
    "\n",
    "culture_codes = df_filtered[bool1|bool2|bool3|bool4|bool5|bool6]\n",
    "len(culture_codes)"
   ]
  },
  {
   "cell_type": "code",
   "execution_count": 92,
   "metadata": {},
   "outputs": [],
   "source": [
    "df2_s = df2[df2['Abundance'] > 2]\n",
    "df2_s.head()\n",
    "test = list(df2_s.index)\n",
    "\n",
    "## Keep everything in this df\n",
    "df_auto_pick = df_filtered[~df_filtered['Species'].isin(test)]\n",
    "\n",
    "\n",
    "## Randomly select two species (Keep Cultures)\n",
    "df_mult = df_filtered[df_filtered['Species'].isin(test)]"
   ]
  },
  {
   "cell_type": "code",
   "execution_count": 132,
   "metadata": {},
   "outputs": [
    {
     "data": {
      "text/plain": [
       "['Mycobacterium arosiense',\n",
       " 'Mycobacterium asiaticum',\n",
       " 'Mycobacterium avium',\n",
       " 'Mycobacterium celatum',\n",
       " 'Mycobacterium chelonae',\n",
       " 'Mycobacterium fortuitum',\n",
       " 'Mycobacterium gordonae',\n",
       " 'Mycobacterium interjectum',\n",
       " 'Mycobacterium intermedium',\n",
       " 'Mycobacterium intracellulare',\n",
       " 'Mycobacterium kansasii',\n",
       " 'Mycobacterium malmoense',\n",
       " 'Mycobacterium mucogenicum',\n",
       " 'Mycobacterium neoaurum',\n",
       " 'Mycobacterium nonchromogenicum',\n",
       " 'Mycobacterium parascrofulaceum',\n",
       " 'Mycobacterium porcinum',\n",
       " 'Mycobacterium scrofulaceum',\n",
       " 'Mycobacterium senegalense',\n",
       " 'Mycobacterium septicum',\n",
       " 'Mycobacterium shimoidei',\n",
       " 'Mycobacterium simiae',\n",
       " 'Mycobacterium smegmatis',\n",
       " 'Mycobacterium szulgai',\n",
       " 'Mycobacterium triviale',\n",
       " 'Mycobacterium xenopi']"
      ]
     },
     "execution_count": 132,
     "metadata": {},
     "output_type": "execute_result"
    }
   ],
   "source": [
    "df2 = df_mult[['Species', 'Cultures']].groupby('Species').sum()\n",
    "df2.columns = ['Abundance']\n",
    "df2\n",
    "\n",
    "\n",
    "### Multiples with 0\n",
    "zeros = df2[df2['Abundance'] < 1]\n",
    "zeros = list(zeros.index)\n",
    "\n",
    "\n",
    "### Multiples with 1\n",
    "ones = df2[df2['Abundance'] == 1]\n",
    "ones = list(ones.index)\n",
    "\n",
    "\n",
    "### Multiples with 2\n",
    "twos = df2[df2['Abundance'] == 2]\n",
    "twos = list(twos.index)\n",
    "\n",
    "### Multiples with Greater than 2\n",
    "greater = df2[df2['Abundance'] > 2]\n",
    "greater = list(greater.index)\n"
   ]
  },
  {
   "cell_type": "code",
   "execution_count": 130,
   "metadata": {},
   "outputs": [],
   "source": [
    "## Select Accession of Organism with two cultures \n",
    "twos_A = df_mult[df_mult['Species'].isin(twos)]\n",
    "twos_A = twos_A[twos_A['Cultures'] == 1]\n",
    "twos_A = list(twos_A['Accession'])"
   ]
  },
  {
   "cell_type": "code",
   "execution_count": null,
   "metadata": {
    "collapsed": true
   },
   "outputs": [],
   "source": []
  },
  {
   "cell_type": "code",
   "execution_count": null,
   "metadata": {},
   "outputs": [],
   "source": [
    "species_grouping = df_filtered.set_index('Species')\n",
    "species_grouping.head()\n"
   ]
  },
  {
   "cell_type": "code",
   "execution_count": 80,
   "metadata": {},
   "outputs": [
    {
     "data": {
      "text/plain": [
       "188"
      ]
     },
     "execution_count": 80,
     "metadata": {},
     "output_type": "execute_result"
    }
   ],
   "source": []
  },
  {
   "cell_type": "code",
   "execution_count": null,
   "metadata": {
    "collapsed": true
   },
   "outputs": [],
   "source": []
  },
  {
   "cell_type": "code",
   "execution_count": null,
   "metadata": {
    "collapsed": true
   },
   "outputs": [],
   "source": [
    "import random\n",
    "\n",
    "foo = ['a', 'b', 'c', 'd', 'e']\n",
    "print(random.choice(foo))"
   ]
  },
  {
   "cell_type": "code",
   "execution_count": null,
   "metadata": {
    "collapsed": true
   },
   "outputs": [],
   "source": []
  },
  {
   "cell_type": "code",
   "execution_count": 179,
   "metadata": {
    "collapsed": true
   },
   "outputs": [],
   "source": [
    "writer = pd.ExcelWriter('Counts_of_Species.xlsx')\n",
    "df2.to_excel(writer, \"Sheet2\")\n",
    "writer.save()"
   ]
  },
  {
   "cell_type": "code",
   "execution_count": 57,
   "metadata": {
    "collapsed": true
   },
   "outputs": [],
   "source": [
    "accession = list(df_filtered['Accession'])\n",
    "from Bio import SeqIO\n",
    "\n",
    "with open('Filtered_hsp65.fasta', 'w') as out_file:\n",
    "    for fasta in SeqIO.parse('hsp65/sequence.fasta','fasta'):\n",
    "        name, sequence = fasta.id, fasta.seq\n",
    "        if name in accession:\n",
    "            SeqIO.write(fasta, out_file, 'fasta')"
   ]
  },
  {
   "cell_type": "markdown",
   "metadata": {},
   "source": [
    " ### Filter Additional Accession Numbers Here\n",
    " Filter Accession Numbers Found to Overlap Species Identification"
   ]
  },
  {
   "cell_type": "code",
   "execution_count": 58,
   "metadata": {
    "collapsed": true
   },
   "outputs": [],
   "source": [
    "from Bio import SeqIO\n",
    "from collections import defaultdict\n",
    "records=list(SeqIO.parse(\"Filtered_hsp65.fasta\", \"fasta\"))"
   ]
  },
  {
   "cell_type": "markdown",
   "metadata": {},
   "source": [
    "#### Find Records that Share the Same Sequence"
   ]
  },
  {
   "cell_type": "code",
   "execution_count": 59,
   "metadata": {},
   "outputs": [
    {
     "data": {
      "text/plain": [
       "743"
      ]
     },
     "execution_count": 59,
     "metadata": {},
     "output_type": "execute_result"
    }
   ],
   "source": [
    "from collections import OrderedDict\n",
    "\n",
    "d = OrderedDict()\n",
    "for record in records:\n",
    "    if record.seq in d:\n",
    "        d[record.seq].append(record)\n",
    "    else:\n",
    "        d[record.seq] = [record]\n",
    "        \n",
    "len(d)"
   ]
  },
  {
   "cell_type": "markdown",
   "metadata": {},
   "source": [
    "The following chunk createsa new dictionary that contains sequences that have more than one record, then creates a list of true false values to check if the mulitple sequences share the same species"
   ]
  },
  {
   "cell_type": "code",
   "execution_count": 60,
   "metadata": {
    "collapsed": true
   },
   "outputs": [],
   "source": [
    "q = {k: v for k, v in d.iteritems() if len(v)> 1}\n",
    "\n",
    "keep = []\n",
    "\n",
    "for seq, record_set in q.iteritems():\n",
    "    \n",
    "    my_list = []\n",
    "    for record in record_set:\n",
    "        \n",
    "        my_list.append(record.description.split(' ')[2])\n",
    "    my_list = list(set(my_list))\n",
    "    if len(my_list) > 1:\n",
    "        keep.append(True)\n",
    "    else:\n",
    "        keep.append(False)"
   ]
  },
  {
   "cell_type": "markdown",
   "metadata": {},
   "source": [
    "The following chunk creates a dictionary of sequences with the same sequences, but different annotations"
   ]
  },
  {
   "cell_type": "code",
   "execution_count": 61,
   "metadata": {},
   "outputs": [
    {
     "data": {
      "text/plain": [
       "19"
      ]
     },
     "execution_count": 61,
     "metadata": {},
     "output_type": "execute_result"
    }
   ],
   "source": [
    "weird = dict()\n",
    "for i in range(len(keep)):\n",
    "    if keep[i]==True:\n",
    "        weird[q.keys()[i]] = q.values()[i]\n",
    "len(weird)"
   ]
  },
  {
   "cell_type": "code",
   "execution_count": 62,
   "metadata": {},
   "outputs": [
    {
     "name": "stdout",
     "output_type": "stream",
     "text": [
      "CGCCAAGGAGATCGAGCTGGAGGACCCGTACGAGAAGATCGGCGCTGAGCTGGTCAAGGAAGTTGCCAAGAAGACCGACGACGTCGCGGGTGACGGCACCACCACCGCCACCGTTCTTGCCCAGGCCCTGGTCAAGGAAGGTCTGCGTAACGTCGCCGCCGGCGCCAACCCGCTCGGCCTGAAGCGCGGCATCGAGAAGGCCGTCGAGAAGGTCACCGAGACGCTGCTGAAGAGCGCCAAGGAGGTCGAGACCAAGGAGCAGATCGCGGCCACGGCCGGTATCTCCGCGGGCGACCAGTCCATCGGCGACCTGATCGCCGAGGCCATGGACAAGGTTGGCAACGAGGGTGTCATCACCGTCGAGGAGTCCAACACCTTCGGCCTGCAGCTGGAGCTCACCG: (5)\n",
      "    JF491290.1 Mycobacterium abscessus ATCC 19977 GroEL (hsp65) gene, partial cds\n",
      "    AB548598.1 Mycobacterium abscessus hsp65 gene for heat shock protein 65, partial cds, strain: JCM 13569\n",
      "    GU362527.1 Mycobacterium abscessus strain USFLJA0007 GroEL (hsp65) gene, partial cds\n",
      "    GU362521.1 Mycobacterium abscessus strain USFLJA0001 GroEL (hsp65) gene, partial cds\n",
      "    AJ310215.1 Mycobacterium chelonae subsp. abscessus hsp65 gene for type I 65 KDa heat shock protein\n",
      "GAGGACCCGTACGAGAAGATCGGCGCTGAGCTCGTCAAAGAGGTCGCCAAGAAGACTGACGACGTCGCGGGCGACGGCACCACCACCGCCACCGTTCTGGCCCAGGCCCTGGTTCGCGAAGGTCTGCGCAACGTCGCTGCCGGCGCCAACCCGCTCGGCCTGAAGCGCGGCATCGAGAAGGCCGTGGAAAAGGTCACCGAGACCCTCCTGAAGTCCGCCAAGGAGGTGGAGACCAAGGAGCAGATCGCTGCCACCGCCGGTATCTCCGCCGGTGACCAGTCCATCGGTGACCTGATCGCCGAGGCCATGGACAAGGTCGGCAACGAGGGTGTCATCACCGTCGAGGAGAGCAACACCTTCGGCCTGCAGCTGGAGCTCACCGAGGGTATGCGCTTCGACAAGGGCTACATCTCGGGTTACTTCGTGACCGACGCCGAGCGTCAGGAAGCCGTCCTGGAGGATCCCTACATCCTGCTGGTCAGCTCCAAGGTCTCGACCGTCAAGGACCTGCTGCCGCTGCTGGAGAAGGTCATCCAGTCCGGCAAGCCGCTGCTGATCATCGCCGAGGACGTCGAGGGCGAGGCCCTGTCGACCCTGGTGGTC: (2)\n",
      "    AY373455.1 Mycobacterium fortuitum strain ATCC 49404 heat shock protein (hsp65) gene, partial cds\n",
      "    AY373453.1 Mycobacterium lentiflavum strain ATCC 51985 heat shock protein (hsp65) gene, partial cds\n",
      "ACCAACGATGGTGTGTCCATCGCCAAGGAGATCGAGCTGGAGGACCCGTACGAGAAGATCGGCGCCGAGCTGGTCAAGGAAGTCGCCAAGAAGACCGACGACGTCGCCGGTGACGGCACCACGACGGCCACCGTGCTGGCGCAGGCGCTGGTCAAGGAAGGCCTGCGCAACGTCGCAGCCGGTGCCAACCCGCTGGGCCTGAAGCGCGGCATCGAGAAGGCCGTGGAGAAGGTCACGCAGACCCTGCTCTCCTCGGCCAAGGACGTCGAGACCAAGGAGCAGATCGCGGCCACCGCGGGCATCTCCGCAGGCGACCAGTCGATCGGTGACCTGATCGCCGAGGCGATGGACAAGGTCGGCAACGAGGGCGTCATCACCGTCGAGGAGTCCAACACCTTCGGCCTGCAGCTCGAGCTCACCGAGGGTATGCGGTTCGACAAG: (2)\n",
      "    KF667480.1 Mycobacterium phocaicum strain Q11 heat shock protein 65 kDa (hsp65) gene, partial cds\n",
      "    KF667478.1 Mycobacterium gordonae strain Q3 heat shock protein 65 kDa (hsp65) gene, partial cds\n",
      "GAGGACCCTTACGAGAAGATCGGCGCCGAGCTGGTCAAGGAAGTCGCCAAGAAGACCGACGACGTTGCCGGTGACGGCACGACGACGGCCACGGTTCTGGCCCAGGCGTTGGTCCGCGAGGGCCTGCGTAACGTCGCCGCCGGCGCCAACCCGCTGGGTCTCAAGCGCGGCATCGAGAAGGCCGTCGAGAAGGTCACCGAGACCCTGCTCAAGTCGGCCAAGGAGGTCGAGACCAAGGACCAGATCGCTGCCACCGCGGCGATTTCGGCGGGCGACCAGTCGATCGGTGACCTCATCGCCGAGGCGATGGACAAGGTCGGCAACGAGGGCGTCATCACCGTCGAGGAGTCCAACACCTTCGGCCTGCAGCTCGAGCTCACCGAGGGCATGCGGTTCGACAAGGGCTACATCTCGGGCTACTTCGTCACCGACGCCGAGCGTCAGGAAGCGGTCCTCGAGGACCCCTTCATCCTGCTGGTCAGCTCCAAGGTGTCGACGGTCAAGGACCTGCTGCCGCTGCTGGAGAAGGTCATCCAGGCCGGCAAGCCGCTGCTGATCATCGCCGAGGACGTCGAGGGTGAGGCTCTGAGCACCCTGGTCGTC: (21)\n",
      "    KP670342.1 Mycobacterium paraintracellulare strain MOTT64 heat shock protein 65 (hsp65) gene, partial cds\n",
      "    KP670341.1 Mycobacterium paraintracellulare strain Asan 37128 heat shock protein 65 (hsp65) gene, partial cds\n",
      "    KP670340.1 Mycobacterium paraintracellulare strain Asan 29591 heat shock protein 65 (hsp65) gene, partial cds\n",
      "    KF910267.1 Mycobacterium intracellulare strain QIA-48 heat shock protein 65 (hsp65) gene, partial cds\n",
      "    KF910265.1 Mycobacterium intracellulare strain QIA-46 heat shock protein 65 (hsp65) gene, partial cds\n",
      "    KF910264.1 Mycobacterium intracellulare strain QIA-45 heat shock protein 65 (hsp65) gene, partial cds\n",
      "    KF910263.1 Mycobacterium intracellulare strain QIA-44 heat shock protein 65 (hsp65) gene, partial cds\n",
      "    KF910261.1 Mycobacterium intracellulare strain QIA-33 heat shock protein 65 (hsp65) gene, partial cds\n",
      "    KF910260.1 Mycobacterium intracellulare strain QIA-21 heat shock protein 65 (hsp65) gene, partial cds\n",
      "    KF910259.1 Mycobacterium intracellulare strain QIA-20 heat shock protein 65 (hsp65) gene, partial cds\n",
      "    KF910257.1 Mycobacterium intracellulare strain QIA-18 heat shock protein 65 (hsp65) gene, partial cds\n",
      "    KF910256.1 Mycobacterium intracellulare strain QIA-17 heat shock protein 65 (hsp65) gene, partial cds\n",
      "    KF910255.1 Mycobacterium intracellulare strain QIA-16 heat shock protein 65 (hsp65) gene, partial cds\n",
      "    KF910253.1 Mycobacterium intracellulare strain QIA-14 heat shock protein 65 (hsp65) gene, partial cds\n",
      "    KF910252.1 Mycobacterium intracellulare strain QIA-13 heat shock protein 65 (hsp65) gene, partial cds\n",
      "    KF910251.1 Mycobacterium intracellulare strain QIA-12 heat shock protein 65 (hsp65) gene, partial cds\n",
      "    KF910250.1 Mycobacterium intracellulare strain QIA-11 heat shock protein 65 (hsp65) gene, partial cds\n",
      "    KF910248.1 Mycobacterium intracellulare strain QIA-9 heat shock protein 65 (hsp65) gene, partial cds\n",
      "    KF910242.1 Mycobacterium intracellulare strain QIA-3 heat shock protein 65 (hsp65) gene, partial cds\n",
      "    KF910241.1 Mycobacterium intracellulare strain QIA-2 heat shock protein 65 (hsp65) gene, partial cds\n",
      "    KF910240.1 Mycobacterium intracellulare strain QIA-1 heat shock protein 65 (hsp65) gene, partial cds\n",
      "CGCCAAGGAGATCGAGCTGGAGGACCCGTACGAGAAGATCGGCGCTGAGCTGGTCAAGGAAGTTGCCAAGAAGACTGACGACGTCGCGGGTGACGGCACTACTACCGCCACCGTGCTTGCCCAGGCTCTGGTCAAGGAAGGTCTGCGTAACGTCGCTGCCGGCGCCAACCCGCTCGGCCTGAAGCGCGGCATCGAGAAGGCCGTGGAGGCCGTCACCAGCTCTCTGCTGGACTCCGCCAAGGAGATTGACACCAAGGAGCAGATCGCGGCCACCGCGGGCATCTCCGCGGGTGACCAGTCCATCGGTGATCTGATCGCCGAGGCCATGGACAAGGTCGGCAACGAGGGTGTCATCACCGTCGAGGAGTCCAACACCTTCGGCCTGCAGCTGGAGCTCACCG: (3)\n",
      "    GU362518.1 Mycobacterium [chelonae] ATCC 14472 GroEL (hsp65) gene, partial cds\n",
      "    AB548609.1 Mycobacterium chelonae hsp65 gene for heat shock protein 65, partial cds, strain: JCM 6388\n",
      "    JF491293.1 Mycobacterium chelonae strain ATCC 35752 GroEL (hsp65) gene, partial cds\n",
      "ACCAACGATGGTGTGTCCATCGCCAAGGAGATCGAGCTGGAGGACCCGTACGAGAAGATCGGCGCTGAGCTGGTCAAGGAAGTTGCCAAGAAGACCGACGACGTCGCGGGTGACGGCACCACCACCGCCACCGTGCTCGCCCAGGCTCTGGTCAAGGAAGGTCTGCGTAACGTCGCCGCCGGCGCCAACCCGCTCGGCCTGAAGCGTGGTATCGAGAAGGCCGTCGAGAAGGTCACCGAGACGCTGCTCAAGAGCGCCAAGGAGGTCGAGACCAAGGAGCAGATCGCGGCCACGGCCGGTATCTCCGCGGGCGACCAGTCCATCGGCGACCTGATCGCCGAGGCCATGGACAAGGTTGGCAACGAGGGTGTCATCACCGTCGAGGAGTCCAACACCTTCGGCCTGCAGCTGGAGCTCACCGAGGGTATGCGCTTCGACAAG: (2)\n",
      "    FJ607870.1 Mycobacterium [chelonae] ATCC 14472 65 kDa heat shock protein (hsp65) gene, partial cds\n",
      "    EU266576.1 Mycobacterium bolletii strain CIP 108541 65 kDa heat shock protein (hsp65) gene, partial cds\n",
      "CGCCGTGGCCTCGAGCGGGGCCTGAACAGCCTCGCCGACGCCGTGAAGGTGACGCTGGGCCCCAAGGGTCGCAACGTCGTCCTGGAGAAGAAGTGGGGCGCCCCCACGATCACCAACGATGGTGTGTCCATCGCCAAGGAGATCGAGCTGGAGGACCCGTACGAGAAGATCGGCGCTGAGCTGGTCAAGGAAGTTGCCAAGAAGACGGACGACGTCGCTGGCGACGGCACCACCACCGCCACCGTGCTGGCTCAGGCCCTGGTTCGCGAAGGCCTGCGCAACGTCGCTGCCGGCGCCAACCCGCTCGGCCTGAAGCGCGGCATCGAGAAGGCCGTCGAGGCTGTCACCAAGGGCCTGCTGGCTTCCGCCAAGGAGGTCGAGACCAAGGAGCAGATCGCTGCCACCGCCGGGATCTCGGCCGGTGACCAGTCCATCGGTGACCTGATCGCCGAGGCCATGGACAAGGTCGGCAACGAGGGTGTCATCACCGTCGAGGAGAGCAACACCTTCGGCCTGCAGCTGGAGCTCACCGAGGGTATGCGCTTCGACAAGGGCTACATCTCGGGTTACTTCGTGACCGACGCCGAGCGTCAGGAAGCGGTACTCGAGGACCCGTTCATCCTGCTGGTCAGCTCGAAGATCTCGACCGTCAAGGACCTGCTGCCGCTGCTGGAGAAGGTCATCCAGTCGGGCAAGCCGCTGCTGATCATCGCCGAGGACGTCGAGGGCGAAGCCCTGTCGACCCTGGTCGTCAACAAGATCCGTGGCACCTTCAAGTCCATCGCCGTCAAGGCCCCGGGCTTCGGTGACCGTCGCAAGGCGATGCTGCAGGACATGGCGATCCTCACCGGTGGCCAGGTCATCAGCGAAGAGGTCGGCCTGTCCCTCGAGACCGCCGACATCACCCTGCTGGGCAAGGCCCGCAAGGTCGTCGTGACCAAGGATGAGACCACCATCGTCGAGGGTGCCGGCGACGCCGACGCCATCGCCGGCCGCGTGGCCCAGATCCGCAGCGAGATCGAGAACAGCGACTCCGACTACGACCGCGAGAAGCTGCAGGAGCGCCTGGCCAAGCTGGCCGGTGGCGTTGCCGTCATCAAGGCCGGCGCTGCCACCGAGGTGGAGCTCAAGGAGCGCAAGCACCGCATCGAGGACGCCGTTCGCAACGCGAAGGCCGCCGTCGAAGAGGGCATCGTCGCCGGTGGTGGCGTGGCCCTGCTGCAGTCGGCTCCGGCTCTCGACGAGCTGAAGCTCGAGGGTGACGAGGCCACCGGTGCCAACATCGTGCGTGTCGCCCTGTCGGCTCCGCTGAAGCAGATCGCCTTCAACGGTGGTCTGGAGCCGGGCGTCGTCGCCGAGAAGGTGTCGAACCTGCCCTCGGGTCACGGCCTGAACGCCGCGACCAACGTGTACGAGGACCTGCTGGCCGCCGGCGTTGCCGACCCGGTCAAGGTCACCCGCTCGGCGCTGCAGAACGCGGCGTCCATCGCGGCGCTGTTCCTCACCACCGAGGCCGTCGTCGCCGACAAGCCGGAGAAGGCCGCGGCTCCCGCCGGCGACCCGACCGGTG: (9)\n",
      "    EF551414.1 Mycobacterium mucogenicum isolate MUCO_06-700 65 kDa heat shock protein (hsp65) gene, partial cds\n",
      "    EF551419.1 Mycobacterium mucogenicum isolate MUCO_06-698 65 kDa heat shock protein (hsp65) gene, partial cds\n",
      "    EF551418.1 Mycobacterium mucogenicum isolate MUCO_07-442 65 kDa heat shock protein (hsp65) gene, partial cds\n",
      "    EF551417.1 Mycobacterium mucogenicum isolate MUCO_06-697 65 kDa heat shock protein (hsp65) gene, partial cds\n",
      "    EF551416.1 Mycobacterium mucogenicum isolate MUCO_06-691 65 kDa heat shock protein (hsp65) gene, partial cds\n",
      "    EF551415.1 Mycobacterium phocaicum isolate MUCO_06-705 65 kDa heat shock protein (hsp65) gene, partial cds\n",
      "    EF551413.1 Mycobacterium phocaicum isolate MUCO_07-443 65 kDa heat shock protein (hsp65) gene, partial cds\n",
      "    EF551412.1 Mycobacterium mucogenicum isolate MUCO_06-692 65 kDa heat shock protein (hsp65) gene, partial cds\n",
      "    EF551411.1 Mycobacterium mucogenicum isolate MUCO_06-690 65 kDa heat shock protein (hsp65) gene, partial cds\n",
      "GAGGACCCGTACGAGAAGATCGGCGCCGAGCTGGTCAAAGAGGTCGCCAAGAAGACCGATGACGTCGCGGGCGACGGCACCACCACCGCCACCGTGCTGGCCCAGGCCCTGGTTCGCGAAGGTCTGCGCAACGTCGCGGCCGGCGCCAACCCCCTCGGCCTGAAGCGCGGCATCGAGAAGGCCGTCGCGGCCGTCACCGAGCGCCTGCTCTCGACCGCCAAAGAGGTCGAGACCAAGGAGCAGATCGCTGCCACCGCGGGCATCTCCGCCGGTGACCAGTCGATCGGTGACCTGATCGCCGAGGCGCTGGACAAGGTCGGCAACGAGGGTGTCATCACCGTCGAGGAGTCCAACACCTTCGGCCTGCAGCTGGAGCTCACCGAGGGTATGCGCTTCGACAAGGGCTACATCTCGGGTTACTTCGTGACCGACGCCGAGCGTCAGGAAGCCGTCCTGGAGGATCCCTACATCCTGCTGGTCAGCTCCAAGGTCTCGACCGTCAAGGACCTGCTGCCGCTGCNNNNNNNNNNNNNNNNNNNNGGCAAGCCGTTGCTGATCATCGCCGAGGACGTCGAGGGCGAAGCCCTGTCGACCCTGGTGGTC: (2)\n",
      "    AY299156.1 Mycobacterium neoaurum strain ATCC 25795 heat shock protein 65 (hsp65) gene, partial cds\n",
      "    AY299157.1 Mycobacterium parafortuitum strain ATCC 19686 heat shock protein 65 (hsp65) gene, partial cds\n",
      "CGCCAAGGAGATCGAGCTGGAGGACCCGTACGAGAAGATCGGCGCCGAGCTGGTCAAGGAAGTTGCCAAGAAGACCGACGATGTCGCCGGTGACGGCACGACGACGGCCACCGTGCTGGCTCAGGCACTCGTCAAAGAGGGCCTGCGCAACGTAGCGGCCGGCGCCAACCCGCTGGGTCTCAAGCGCGGCATCGAGAAGGCCGTCGAGAAGATCACCGAGACCCTGCTGAAGTCGGCCAAGGACGTCGAGACCAAGGAGCAGATCGCTGCGACCGCTGGTATCTCGGCGGGCGATCAGTCGATCGGCGACCTGATCGCCGAGGCGATGGACAAGGTCGGCAACGAGGGCGTCATCACCGTCGAGGAGTCCAACACCTTCGGCCTGCAGCTCGAGCTCACCG: (2)\n",
      "    JF491317.1 Mycobacterium florentinum strain DSM 44852 GroEL (hsp65) gene, partial cds\n",
      "    AY550210.1 Mycobacterium triplex strain variant MS418 65 kDa heat shock protein (hsp65) gene, partial cds\n",
      "CGCCAAGGAGATCGAGCTGGAGGACCCGTACGAGAAGATCGGCGCCGAGCTGGTCAAGGAAGTCGCCAAGAAGACCGACGACGTCGCCGGTGACGGCACGACGACGGCCACGGTGCTGGCCCAGGCGCTGGTGAAAGAGGGTCTGCGGAACGTCGCGGCCGGCGCCAACCCGCTGAGCCTCAAGCGCGGCATCGAGAAGGCCGTCGAGAAGGTCACCGAGACGCTGCTCAAGCAGGCCAAGGAGGTCGAGACCAAGGAGCAGATCGCTGCCACCGCGGCCATCTCGGCCGGTGACCAGTCGATCGGTGACCTGATCGCCGAGGCGATGGACAAGGTCGGCAACGAGGGCGTCATCACCGTCGAGGAGTCCAACACCTTCGGCCTGCAGCTCGAGCTCACCG: (2)\n",
      "    GQ153295.1 Mycobacterium parascrofulaceum strain ATCC BAA-614 Hsp65 (hsp65) gene, partial cds\n",
      "    AF434735.1 Mycobacterium gordonae strain SN 601 65 kDa heat shock protein (hsp65) gene, partial cds\n",
      "GAGGATCCGTACGAGAAGATCGGCGCCGAGCTGGTCAAAGAGGTAGCCAAGAAGACCGATGACGTCGCCGGTGACGGCACCACGACGGCCACCGTGCTGGCCCAGGCGTTGGTTCGCGAGGGCCTGCGCAACGTCGCGGCCGGCGCCAACCCGCTCGGTCTCAAACGCGGCATCGAAAAGGCCGTGGAGAAGGTCACCGAGACCCTGCTCAAGGGCGCCAAGGAGGTCGAGACCAAGGAGCAGATTGCGGCCACCGCAGCGATTTCGGCGGGTGACCAGTCCATCGGTGACCTGATCGCCGAGGCGATGGACAAGGTGGGCAACGAGGGCGTCATCACCGTCGAGGAGTCCAACACCTTTGGGCTGCAGCTCGAGCTCACCGAGGGTATGCGGTTCGACAAGGGCTACATCTCGGGGTACTTCGTGACCGACCCGGAGCGTCAGGAGGCGGTCCTGGAGGACCCCTACATCCTGCTGGTCAGCTCCAAGGTGTCCACTGTCAAGGATCTGCTGCCGCTGCNNNNNNNNNNNNNNNNNNNNGGTAAGCCGCTGCTGATCATCGCCGAGGACGTCGAGGGCGAGGCGCTGTCCACCCTGGTCGTC: (7)\n",
      "    AY299179.1 Mycobacterium bovis BCG strain French heat shock protein 65 (hsp65) gene, partial cds\n",
      "    AY299178.1 Mycobacterium bovis strain ATCC 19210 heat shock protein 65 (hsp65) gene, partial cds\n",
      "    AY299176.1 Mycobacterium africanum strain KIT 77710 heat shock protein 65 (hsp65) gene, partial cds\n",
      "    AY299175.1 Mycobacterium tuberculosis strain KIT 77710 heat shock protein 65 (hsp65) gene, partial cds\n",
      "    AY299174.1 Mycobacterium tuberculosis strain KIT 77009 heat shock protein 65 (hsp65) gene, partial cds\n",
      "    AY299144.1 Mycobacterium tuberculosis strain ATCC 27294 heat shock protein 65 (hsp65) gene, partial cds\n",
      "    AY299135.1 Mycobacterium microti strain ATCC 19422 heat shock protein 65 (hsp65) gene, partial cds\n",
      "CGCCAAGGAGATCGAGCTGGAGGATCCGTACGAGAAGATCGGCGCCGAGCTGGTCAAAGAGGTAGCCAAGAAGACCGATGACGTCGCCGGTGACGGCACCACGACGGCCACCGTGCTGGCCCAGGCGTTGGTTCGCGAGGGCCTGCGCAACGTCGCGGCCGGCGCCAACCCGCTCGGTCTCAAACGCGGCATCGAAAAGGCCGTGGAGAAGGTCACCGAGACCCTGCTCAAGGGCGCCAAGGAGGTCGAGACCAAGGAGCAGATTGCGGCCACCGCAGCGATTTCGGCGGGTGACCAGTCCATCGGTGACCTGATCGCCGAGGCGATGGACAAGGTGGGCAACGAGGGCGTCATCACCGTCGAGGAGTCCAACACCTTTGGGCTGCAGCTCGAGCTCACCG: (2)\n",
      "    JF491332.1 Mycobacterium bovis strain ATCC 19210 GroEL (hsp65) gene, partial cds\n",
      "    JF491311.1 Mycobacterium tuberculosis strain ATCC 27294 GroEL (hsp65) gene, partial cds\n",
      "ATGGTGTGTCCATCGCCAAGGAGATCGAGCTGGAGGATCCGTACGAGAAGATCGGCGCCGAGCTGGTCAAAGAGGTAGCCAAGAAGACCGATGACGTCGCCGGTGACGGCACCACGACGGCCACCGTGCTGGCCCAGGCGTTGGTTCGCGAGGGCCTGCGCAACGTCGCGGCCGGCGCCAACCCGCTCGGTCTCAAACGCGGCATCGAAAAGGCCGTGGAGAAGGTCACCGAGACCCTGCTCAAGGGCGCCAAGGAGGTCGAGACCAAGGAGCAGATTGCGGCCACCGCAGCGATTTCGGCGGGTGACCAGTCCATCGGTGACCTGATCGCCGAGGCGATGGACAAGGTGGGCAACGAGGGCGTCATCACCGTCGAGGAGTCCAACACCTTTGGGCTGCAGCTCGAGCTCACCGAGGGTATGCG: (7)\n",
      "    AF547884.1 Mycobacterium caprae strain CIP 105776 65 kDa heat shock protein (hsp65) gene, partial cds\n",
      "    AF547886.1 Mycobacterium tuberculosis subsp. tuberculosis strain CIP 64.31 65 kDa heat shock protein (hsp65) gene, partial cds\n",
      "    AF547885.1 Mycobacterium tuberculosis subsp. tuberculosis strain CIP 105795 65 kDa heat shock protein (hsp65) gene, partial cds\n",
      "    AF547856.1 Mycobacterium microti strain CIP 104256 65 kDa heat shock protein (hsp65) gene, partial cds\n",
      "    AF547813.1 Mycobacterium bovis strain CIP 105234 65 kDa heat shock protein (hsp65) gene, partial cds\n",
      "    AF547814.1 Mycobacterium bovis strain CIP 105050 65 kDa heat shock protein (hsp65) gene, partial cds\n",
      "    AY438082.1 Mycobacterium bovis 65 kDa heat shock protein (hsp65) gene, partial cds\n",
      "ATGGTGTGTCCATCGCCAAGGAGATCGAGCTGGAGGACCCGTACGAGAAGATCGGCGCTGAGCTCGTCAAAGAGGTCGCCAAGAAGACCGACGACGTCGCGGGCGACGGCACCACCACCGCCACCGTTCTGGCCCAGGCCCTGGTTCGCGAAGGTCTGCGCAACGTCGCTGCCGGCGCCAACCCGCTCGGCCTGAAGCGCGGCATCGAGAAGGCCGTCGAGAAGGTCACCGAGACGCTGCTCAAGAGCGCCAAGGAGGTGGAGACCAAGGAGCAGATCGCTGCCACCGCCGGTATCTCCGCCGGTGACCAGTCCATCGGTGACCTGATCGCCGAGGCCATGGACAAGGTCGGCAACGAGGGTGTCATCACCGTCGAGGAGAGCAACACCTTCGGCCTGCAGCTGGAGCTCACCGAGGGTATGCG: (4)\n",
      "    AY458073.1 Mycobacterium farcinogenes strain NCTC 10955 65 kDa heat shock protein (hsp65) gene, partial cds\n",
      "    AY458067.1 Mycobacterium senegalense strain CIP 104941 65 kDa heat shock protein (hsp65) gene, partial cds\n",
      "    AF547872.1 Mycobacterium senegalense strain CIP 104941 65 kDa heat shock protein (hsp65) gene, partial cds\n",
      "    AF547830.1 Mycobacterium farcinogenes strain DSM 43637 65 kDa heat shock protein (hsp65) gene, partial cds\n",
      "GAGGACCCGTACGAGAAGATCGGCGCCGAGCTGGTCAAGGAAGTCGCCAAGAAGACCGACGACGTCGCCGGTGACGGCACCACGACGGCCACCGTGCTGGCGCAGGCGCTGGTCAAGGAAGGCCTGCGCAACGTCGCAGCCGGTGCCAACCCGCTGGGCCTGAAGCGCGGCATCGAGAAGGCCGTGGAGAAGGTCACCCAGACCCTGCTCTCCTCGGCCAAGGACGTCGAGACCAAGGAGCAGATCGCGGCCACCGCGGGCATCTCCGCGGGCGACCAGTCGATCGGTGACCTGATCGCCGAGGCGATGGACAAGGTCGGCAACGAGGGCGTCATCACCGTCGAGGAGTCCAACACCTTCGGCCTGCAGCTCGAGCTCACCGAGGGCATGCGGTTCGACAAGGGCTACATCTCGGGCTACTTCGTCACCGACGCCGAGCGTCAGGAAGCGGTCCTGGAAGACCCCTACATCCTGCTGGTCTCCAGCAAGGTGTCGACCGTCAAGGACCTGTTGCCGTTGCTGGAGAAGGTCATTCAGGGCGGCAAGCCGCTGCTGATCATCGCCGAGGACGTCGAGGGTGAGGCGCTGTCCACCCTGGTGGTG: (2)\n",
      "    KC525205.1 Mycobacterium paragordonae strain 49061 heat shock protein 65 (hsp65) gene, partial cds\n",
      "    KC684920.1 Mycobacterium gordonae strain ASCr-1.42 heat shock protein 65 (hsp65) gene, partial cds\n",
      "CGCCAAGGAGATCGAGCTGGAGGACCCGTACGAGAAGATCGGCGCTGAGCTGGTCAAGGAAGTTGCCAAGAAGACCGACGACGTGGCCGGTGACGGCACGACGACGGCCACCGTGCTGGCCCAGGCGCTGGTCAAGGAAGGCCTGCGCAACGTTGCGGCCGGTGCCAACCCGCTCGGTCTGAAGCGCGGCATCGAGAAGGCAGTCGAGAAGGTCACCGAGATCCTGCTCAAGTCGGCCAAAGAGGTCGAGACCAAGGAGCAGATCGCGGCGACCGCAGCCATCTCCGCCGGCGACCAGTCGATCGGCGACCTGATCGCCGAGGCGATGGACAAGGTGGGCAACGAGGGCGTCATCACCGTCGAGGAGTCCAACACCTTCGGCCTGCAGCTCGAGCTCACCG: (20)\n",
      "    AB548711.1 Mycobacterium pseudoshottsii hsp65 gene for heat shock protein 65, partial cds, strain: JCM 15466\n",
      "    AY571788.1 Mycobacterium pseudoshottsii Hsp65 (hsp65) gene, partial cds\n",
      "    DQ066744.1 Mycobacterium marinum strain AR-04-034 heat shock protein 65 (hsp65) gene, partial cds\n",
      "    AM902956.1 Mycobacterium pseudoshottsii partial hsp65 gene for heat shock protein, type strain NCTC 13318T\n",
      "    AY550226.1 Mycobacterium pseudoshottsii strain L1 65 kDa heat shock protein (hsp65) gene, partial cds\n",
      "    AY500839.1 Mycobacterium liflandii 65 kDa heat shock protein (hsp65) gene, partial cds\n",
      "    KM279677.1 Mycobacterium marinum strain 14Df001 65 kDa heat shock protein (hsp65) gene, partial cds\n",
      "    AB642165.1 Mycobacterium pseudoshottsii hsp65 gene for heat shock protein 65, partial cds, strain: MF07\n",
      "    AB642161.1 Mycobacterium pseudoshottsii hsp65 gene for heat shock protein 65, partial cds, strain: MF04\n",
      "    AB548704.1 Mycobacterium pseudoshottsii hsp65 gene for heat shock protein 65, partial cds, strain: MF01\n",
      "    DQ066746.1 Mycobacterium marinum strain AR-04-220 heat shock protein 65 (hsp65) gene, partial cds\n",
      "    DQ066745.1 Mycobacterium marinum strain AR-04-078 heat shock protein 65 (hsp65) gene, partial cds\n",
      "    DQ066743.1 Mycobacterium marinum strain AR-04-020 heat shock protein 65 (hsp65) gene, partial cds\n",
      "    DQ066742.1 Mycobacterium marinum strain AR-04-004 heat shock protein 65 (hsp65) gene, partial cds\n",
      "    DQ066741.1 Mycobacterium marinum strain AR-02-078 heat shock protein 65 (hsp65) gene, partial cds\n",
      "    AM902978.1 Mycobacterium marinum partial hsp65 gene for heat shock protein, strain DP241194\n",
      "    AM902977.1 Mycobacterium marinum partial hsp65 gene for heat shock protein, strain CF030494\n",
      "    AM902974.1 Mycobacterium marinum partial hsp65 gene for heat shock protein, strain DL240490\n",
      "    AM902973.1 Mycobacterium marinum partial hsp65 gene for heat shock protein, strain DL045\n",
      "    AM902971.1 Mycobacterium marinum partial hsp65 gene for heat shock protein, strain SR250195-B\n",
      "GAGGACCCCTACGAGAAGATCGGCGCTGAGCTGGTCAAGGAAGTCGCCAAGAAGACCGACGACGTCGCCGGTGACGGCACCACGACGGCCACCGTGCTCGCTCAGGCGCTCGTCAAGGAGGGCCTGCGCAACGTGGCGGCCGGCGCCAACCCGCTGGGCCTCAAGCGCGGCATCGAGAAGGCCGTCGAAAAGGTCACCGAGACGCTGCTGAAGTCGGCCAAGGATGTCGAGACCAAGGACCAGATCGCTGCCACCGCCGCGATTTCCGCGGGCGACCAGTCGATCGGCGACCTGATCGCCGAGGCGATGGACAAGGTCGGCAACGAGGGCGTCATCACCGTCGAGGAGTCCAACACCTTCGGGCTGCAGCTCGAGCTCACCGAGGGTATGCGCTTCGACAAGGGCTACATCTCGGGCTACTTCGTCACCGACGCCGAGCGTCAGGAAGCCGTCCTGGAGGACCCGTTCATCCTGCTGGTCAGCTCCAAGGTGTCGACGGTCAAGGACCTGCTGCCGCTGCNNNNNNNNNNNNNNNNNNNNGGCAAGCCGCTGCTGATCATCGCCGAGGACGTCGAGGGCGAGGCGCTGAGCACCCTGGTCGTC: (2)\n",
      "    AY299140.1 Mycobacterium shimoidei strain ATCC 25275 heat shock protein 65 (hsp65) gene, partial cds\n",
      "    AY299183.1 Mycobacterium genavense strain ATCC 51233 heat shock protein 65 (hsp65) gene, partial cds\n",
      "CGCCAAGGAGATCGAGCTGGAGGACCCGTACGAGAAGATCGGCGCTGAGCTGGTCAAGGAAGTTGCCAAGAAGACTGACGACGTCGCGGGTGACGGCACTACTACCGCCACCGTGCTTGCCCAGGCTCTGGTCAAGGAAGGTCTGCGTAACGTCGCTGCCGGCGCCAACCCGCTCGGCCTGAAGCGCGGCATCGAGAAGGCCGTGGAGGCCGTCACCAGCTCTCTGCTGGACTCCGCCAAGGAGATCGACACCAAGGAGCAGATCGCGGCCACCGCGGGCATCTCCGCGGGTGACCAGTCCATCGGTGATCTGATCGCCGAGGCCATGGACAAGGTCGGCAACGAGGGTGTCATCACCGTCGAGGAGTCCAACACCTTCGGCCTGCAGCTGGAGCTCACCG: (7)\n",
      "    AY550238.1 Mycobacterium fuerthensis strain DSM 44567 65 kDa heat shock protein (hsp65) gene, partial cds\n",
      "    KT779780.1 Mycobacterium chelonae strain EPM 24990 heat shock protein 65 (hsp65) gene, partial cds\n",
      "    KT779779.1 Mycobacterium chelonae strain DMIP001 heat shock protein 65 (hsp65) gene, partial cds\n",
      "    KT695878.1 Mycobacterium chelonae strain F185 65 kDa heat shock protein (hsp65) gene, partial cds\n",
      "    KT695877.1 Mycobacterium chelonae strain F184 65 kDa heat shock protein (hsp65) gene, partial cds\n",
      "    AM902969.1 Mycobacterium chelonae partial hsp65 gene for heat shock protein, strain T5-2\n",
      "    AM902965.1 Mycobacterium chelonae partial hsp65 gene for heat shock protein, strain 29/02\n",
      "ACCAACGATGGTGTGTCCATCGCCAAGGAGATCGAGCTGGAGGACCCGTACGAGAAGATCGGCGCCGAGCTGGTCAAGGAAGTCGCCAAGAAGACCGACGACGTCGCCGGTGACGGCACCACGACGGCCACCGTGCTGGCGCAGGCGCTGGTCAAGGAAGGCCTGCGCAACGTCGCAGCCGGTGCCAACCCGCTGGGCCTGAAGCGCGGCATCGAGAAGGCCGTGGAGAAGGTCACCCAGACCCTGCTCTCCTCGGCCAAGGACGTCGAGACCAAGGAGCAGATCGCGGCCACCGCGGGCATCTCCGCGGGCGACCAGTCGATCGGTGACCTGATCGCCGAGGCGATGGACAAGGTCGGCAACGAGGGCGTCATCACCGTCGAGGAGTCCAACACCTTCGGCCTGCAGCTCGAGCTCACCGAGGGTATGCGGTTCGACAAG: (3)\n",
      "    HM454223.1 Mycobacterium gordonae strain RGTB230 65 kDa heat shock protein (hsp65) gene, partial cds\n",
      "    FJ643460.1 Mycobacterium gordonae isolate MGO-d 65 kDa heat shock protein (hsp65) gene, partial cds\n",
      "    KT992220.1 Mycobacterium paragordonae strain 10AIII 65 kDa heat shock protein (hsp65) gene, partial cds\n"
     ]
    }
   ],
   "source": [
    "for seq, record_set in weird.iteritems():\n",
    "    print seq + ': (' + str(len(record_set)) + ')'\n",
    "    for record in record_set:\n",
    "        print '    ' + record.description"
   ]
  },
  {
   "cell_type": "code",
   "execution_count": 145,
   "metadata": {},
   "outputs": [
    {
     "data": {
      "text/plain": [
       "214"
      ]
     },
     "execution_count": 145,
     "metadata": {},
     "output_type": "execute_result"
    }
   ],
   "source": [
    "count = 0\n",
    "for seq, record_set in weird.iteritems():\n",
    "    for record in record_set:\n",
    "        count += 1\n",
    "count"
   ]
  },
  {
   "cell_type": "code",
   "execution_count": null,
   "metadata": {
    "collapsed": true
   },
   "outputs": [],
   "source": []
  },
  {
   "cell_type": "code",
   "execution_count": null,
   "metadata": {
    "collapsed": true
   },
   "outputs": [],
   "source": []
  },
  {
   "cell_type": "code",
   "execution_count": 151,
   "metadata": {
    "collapsed": true
   },
   "outputs": [],
   "source": [
    "accession = list(df_filtered['Accession'])"
   ]
  },
  {
   "cell_type": "code",
   "execution_count": 33,
   "metadata": {
    "collapsed": true
   },
   "outputs": [],
   "source": [
    "accession = list(df_filtered['Accession'])\n",
    "from Bio import SeqIO\n",
    "\n",
    "with open('Filtered_hsp65.fasta', 'w') as out_file:\n",
    "    for fasta in SeqIO.parse('hsp65/sequence.fasta','fasta'):\n",
    "        name, sequence = fasta.id, fasta.seq\n",
    "        if name in accession:\n",
    "            SeqIO.write(fasta, out_file, 'fasta')"
   ]
  },
  {
   "cell_type": "code",
   "execution_count": null,
   "metadata": {
    "collapsed": true
   },
   "outputs": [],
   "source": []
  },
  {
   "cell_type": "markdown",
   "metadata": {},
   "source": [
    "remove TB/ remove sp. \n",
    "massillense no longer a species (check date)\n",
    "ATCC/DSM/CCUG/ASIN/QIA/GTC\n",
    "\n",
    "\n",
    "\n"
   ]
  },
  {
   "cell_type": "code",
   "execution_count": null,
   "metadata": {
    "collapsed": true
   },
   "outputs": [],
   "source": []
  }
 ],
 "metadata": {
  "kernelspec": {
   "display_name": "Python 2",
   "language": "python",
   "name": "python2"
  },
  "language_info": {
   "codemirror_mode": {
    "name": "ipython",
    "version": 2
   },
   "file_extension": ".py",
   "mimetype": "text/x-python",
   "name": "python",
   "nbconvert_exporter": "python",
   "pygments_lexer": "ipython2",
   "version": "2.7.14"
  },
  "toc": {
   "base_numbering": 1,
   "nav_menu": {},
   "number_sections": true,
   "sideBar": true,
   "skip_h1_title": false,
   "title_cell": "Table of Contents",
   "title_sidebar": "Contents",
   "toc_cell": false,
   "toc_position": {},
   "toc_section_display": true,
   "toc_window_display": false
  }
 },
 "nbformat": 4,
 "nbformat_minor": 2
}
